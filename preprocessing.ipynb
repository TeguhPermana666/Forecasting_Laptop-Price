{
 "cells": [
  {
   "cell_type": "markdown",
   "metadata": {},
   "source": [
    "# Preprocessing data"
   ]
  },
  {
   "cell_type": "markdown",
   "metadata": {},
   "source": [
    "## 1. Feature engineering"
   ]
  },
  {
   "cell_type": "markdown",
   "metadata": {},
   "source": [
    "Membuat sebuah perubahan dan new variabels :\n",
    "- RAM : Membuat columns untuk kapasitas ram dalam GB dan versi DDR\n",
    "- Processor : Membuat columns untuk nama processor, tipe processor, generasi\n",
    "- OS : menguraikan os dari column dan membuat new column\n",
    "- Storage : Membuat new column untuk type dari disk drive dan kapasitas disk drive\n",
    "- Display : Membuat new column untuk size laptop (in inches) and touchscreen\n",
    "- Description : Membuat new columns untuk company and graphic card\n",
    "\n",
    "Kadang deskripsi berisikan ukuran RAM, Processor, Storage etc. already have seperate features of them "
   ]
  },
  {
   "cell_type": "code",
   "execution_count": 738,
   "metadata": {},
   "outputs": [],
   "source": [
    "import pandas as pd\n",
    "import numpy as np"
   ]
  },
  {
   "cell_type": "code",
   "execution_count": 739,
   "metadata": {},
   "outputs": [
    {
     "data": {
      "text/html": [
       "<div>\n",
       "<style scoped>\n",
       "    .dataframe tbody tr th:only-of-type {\n",
       "        vertical-align: middle;\n",
       "    }\n",
       "\n",
       "    .dataframe tbody tr th {\n",
       "        vertical-align: top;\n",
       "    }\n",
       "\n",
       "    .dataframe thead th {\n",
       "        text-align: right;\n",
       "    }\n",
       "</style>\n",
       "<table border=\"1\" class=\"dataframe\">\n",
       "  <thead>\n",
       "    <tr style=\"text-align: right;\">\n",
       "      <th></th>\n",
       "      <th>Description</th>\n",
       "      <th>Processor</th>\n",
       "      <th>RAM</th>\n",
       "      <th>Operating System</th>\n",
       "      <th>Storage</th>\n",
       "      <th>Display</th>\n",
       "      <th>Warranty</th>\n",
       "      <th>Price</th>\n",
       "    </tr>\n",
       "  </thead>\n",
       "  <tbody>\n",
       "    <tr>\n",
       "      <th>0</th>\n",
       "      <td>Primebook 4G Android Based MediaTek MT8788 - (...</td>\n",
       "      <td>Intel Core i3 Processor (11th Gen)</td>\n",
       "      <td>4 GB DDR4 RAM</td>\n",
       "      <td>Prime OS Operating System</td>\n",
       "      <td>512 GB SSD</td>\n",
       "      <td>29.46 cm (11.6 Inch) Display</td>\n",
       "      <td>1 Year Onsite Warranty</td>\n",
       "      <td>16,990</td>\n",
       "    </tr>\n",
       "    <tr>\n",
       "      <th>1</th>\n",
       "      <td>Primebook 4G Android Based MediaTek MT8788 - (...</td>\n",
       "      <td>Intel Core i5 Processor (11th Gen)</td>\n",
       "      <td>4 GB DDR4 RAM</td>\n",
       "      <td>Prime OS Operating System</td>\n",
       "      <td>512 GB SSD</td>\n",
       "      <td>29.46 cm (11.6 Inch) Display</td>\n",
       "      <td>1 Year Onsite Warranty</td>\n",
       "      <td>18,990</td>\n",
       "    </tr>\n",
       "    <tr>\n",
       "      <th>2</th>\n",
       "      <td>ASUS Vivobook 15 Core i3 11th Gen - (8 GB/512 ...</td>\n",
       "      <td>Intel Core i3 Processor (11th Gen)</td>\n",
       "      <td>8 GB DDR4 RAM</td>\n",
       "      <td>64 bit Windows 11 Operating System</td>\n",
       "      <td>512 GB SSD</td>\n",
       "      <td>39.62 cm (15.6 Inch) Display</td>\n",
       "      <td>1 Year Onsite Warranty</td>\n",
       "      <td>38,990</td>\n",
       "    </tr>\n",
       "    <tr>\n",
       "      <th>3</th>\n",
       "      <td>ASUS Vivobook 15 Core i5 11th Gen - (8 GB/512 ...</td>\n",
       "      <td>AMD Ryzen 5 Hexa Core Processor</td>\n",
       "      <td>8 GB DDR4 RAM</td>\n",
       "      <td>64 bit Windows 11 Operating System</td>\n",
       "      <td>1 TB SSD</td>\n",
       "      <td>39.62 cm (15.6 Inch) Display</td>\n",
       "      <td>1 Year Onsite Warranty</td>\n",
       "      <td>47,990</td>\n",
       "    </tr>\n",
       "    <tr>\n",
       "      <th>4</th>\n",
       "      <td>HP 14s Intel Core i3 11th Gen - (8 GB/512 GB S...</td>\n",
       "      <td>Intel Core i7 Processor (12th Gen)</td>\n",
       "      <td>8 GB DDR4 RAM</td>\n",
       "      <td>64 bit Windows 11 Operating System</td>\n",
       "      <td>256 GB SSD</td>\n",
       "      <td>35.56 cm (14 inch) Display</td>\n",
       "      <td>1 Year Onsite Warranty</td>\n",
       "      <td>38,990</td>\n",
       "    </tr>\n",
       "    <tr>\n",
       "      <th>...</th>\n",
       "      <td>...</td>\n",
       "      <td>...</td>\n",
       "      <td>...</td>\n",
       "      <td>...</td>\n",
       "      <td>...</td>\n",
       "      <td>...</td>\n",
       "      <td>...</td>\n",
       "      <td>...</td>\n",
       "    </tr>\n",
       "    <tr>\n",
       "      <th>1146</th>\n",
       "      <td>Lenovo Ideapad Slim APU Dual Core A4 - (4 GB/6...</td>\n",
       "      <td>AMD APU Dual Core A4 Processor</td>\n",
       "      <td>4 GB DDR4 RAM</td>\n",
       "      <td>64 bit Windows 10 Operating System</td>\n",
       "      <td>128 GB SSD</td>\n",
       "      <td>35.56 cm (14 inch) Display</td>\n",
       "      <td>1 Year Onsite Warranty</td>\n",
       "      <td>20,990</td>\n",
       "    </tr>\n",
       "    <tr>\n",
       "      <th>1147</th>\n",
       "      <td>Acer Predator Triton 300 Core i7 9th Gen - (8 ...</td>\n",
       "      <td>Intel Core i7 Processor (9th Gen)</td>\n",
       "      <td>8 GB DDR4 RAM</td>\n",
       "      <td>64 bit Windows 10 Operating System</td>\n",
       "      <td>2 TB HDD|256 GB SSD</td>\n",
       "      <td>39.62 cm (15.6 inch) Display</td>\n",
       "      <td>1 Year International Travelers Warranty (ITW)</td>\n",
       "      <td>97,990</td>\n",
       "    </tr>\n",
       "    <tr>\n",
       "      <th>1148</th>\n",
       "      <td>Lenovo Yoga 730 Core i5 8th Gen - (8 GB/512 GB...</td>\n",
       "      <td>Intel Core i5 Processor (8th Gen)</td>\n",
       "      <td>8 GB DDR4 RAM</td>\n",
       "      <td>64 bit Windows 10 Operating System</td>\n",
       "      <td>512 GB SSD</td>\n",
       "      <td>33.78 cm (13.3 inch) Touchscreen Display</td>\n",
       "      <td>1 Year Onsite Warranty</td>\n",
       "      <td>94,990</td>\n",
       "    </tr>\n",
       "    <tr>\n",
       "      <th>1149</th>\n",
       "      <td>Asus ZenBook Core i7 10th Gen - (16 GB/1 TB SS...</td>\n",
       "      <td>Intel Core i7 Processor (10th Gen)</td>\n",
       "      <td>16 GB DDR4 RAM</td>\n",
       "      <td>64 bit Windows 10 Operating System</td>\n",
       "      <td>1 TB SSD</td>\n",
       "      <td>33.78 cm (13.3 inch) Display</td>\n",
       "      <td>1 Year Onsite Warranty</td>\n",
       "      <td>99,990</td>\n",
       "    </tr>\n",
       "    <tr>\n",
       "      <th>1150</th>\n",
       "      <td>Apple MacBook Pro Core i7 7th Gen - (16 GB/512...</td>\n",
       "      <td>Intel Core i7 Processor (7th Gen)</td>\n",
       "      <td>16 GB DDR3 RAM</td>\n",
       "      <td>64 bit Mac OS Operating System</td>\n",
       "      <td>512 GB SSD</td>\n",
       "      <td>39.12 cm (15.4 inch) Display</td>\n",
       "      <td>1 Year Warranty</td>\n",
       "      <td>2,29,990</td>\n",
       "    </tr>\n",
       "  </tbody>\n",
       "</table>\n",
       "<p>1151 rows × 8 columns</p>\n",
       "</div>"
      ],
      "text/plain": [
       "                                            Description  \\\n",
       "0     Primebook 4G Android Based MediaTek MT8788 - (...   \n",
       "1     Primebook 4G Android Based MediaTek MT8788 - (...   \n",
       "2     ASUS Vivobook 15 Core i3 11th Gen - (8 GB/512 ...   \n",
       "3     ASUS Vivobook 15 Core i5 11th Gen - (8 GB/512 ...   \n",
       "4     HP 14s Intel Core i3 11th Gen - (8 GB/512 GB S...   \n",
       "...                                                 ...   \n",
       "1146  Lenovo Ideapad Slim APU Dual Core A4 - (4 GB/6...   \n",
       "1147  Acer Predator Triton 300 Core i7 9th Gen - (8 ...   \n",
       "1148  Lenovo Yoga 730 Core i5 8th Gen - (8 GB/512 GB...   \n",
       "1149  Asus ZenBook Core i7 10th Gen - (16 GB/1 TB SS...   \n",
       "1150  Apple MacBook Pro Core i7 7th Gen - (16 GB/512...   \n",
       "\n",
       "                               Processor             RAM  \\\n",
       "0     Intel Core i3 Processor (11th Gen)   4 GB DDR4 RAM   \n",
       "1     Intel Core i5 Processor (11th Gen)   4 GB DDR4 RAM   \n",
       "2     Intel Core i3 Processor (11th Gen)   8 GB DDR4 RAM   \n",
       "3        AMD Ryzen 5 Hexa Core Processor   8 GB DDR4 RAM   \n",
       "4     Intel Core i7 Processor (12th Gen)   8 GB DDR4 RAM   \n",
       "...                                  ...             ...   \n",
       "1146      AMD APU Dual Core A4 Processor   4 GB DDR4 RAM   \n",
       "1147   Intel Core i7 Processor (9th Gen)   8 GB DDR4 RAM   \n",
       "1148   Intel Core i5 Processor (8th Gen)   8 GB DDR4 RAM   \n",
       "1149  Intel Core i7 Processor (10th Gen)  16 GB DDR4 RAM   \n",
       "1150   Intel Core i7 Processor (7th Gen)  16 GB DDR3 RAM   \n",
       "\n",
       "                        Operating System              Storage  \\\n",
       "0              Prime OS Operating System           512 GB SSD   \n",
       "1              Prime OS Operating System           512 GB SSD   \n",
       "2     64 bit Windows 11 Operating System           512 GB SSD   \n",
       "3     64 bit Windows 11 Operating System             1 TB SSD   \n",
       "4     64 bit Windows 11 Operating System           256 GB SSD   \n",
       "...                                  ...                  ...   \n",
       "1146  64 bit Windows 10 Operating System           128 GB SSD   \n",
       "1147  64 bit Windows 10 Operating System  2 TB HDD|256 GB SSD   \n",
       "1148  64 bit Windows 10 Operating System           512 GB SSD   \n",
       "1149  64 bit Windows 10 Operating System             1 TB SSD   \n",
       "1150      64 bit Mac OS Operating System           512 GB SSD   \n",
       "\n",
       "                                       Display  \\\n",
       "0                 29.46 cm (11.6 Inch) Display   \n",
       "1                 29.46 cm (11.6 Inch) Display   \n",
       "2                 39.62 cm (15.6 Inch) Display   \n",
       "3                 39.62 cm (15.6 Inch) Display   \n",
       "4                   35.56 cm (14 inch) Display   \n",
       "...                                        ...   \n",
       "1146                35.56 cm (14 inch) Display   \n",
       "1147              39.62 cm (15.6 inch) Display   \n",
       "1148  33.78 cm (13.3 inch) Touchscreen Display   \n",
       "1149              33.78 cm (13.3 inch) Display   \n",
       "1150              39.12 cm (15.4 inch) Display   \n",
       "\n",
       "                                           Warranty     Price  \n",
       "0                            1 Year Onsite Warranty    16,990  \n",
       "1                            1 Year Onsite Warranty    18,990  \n",
       "2                            1 Year Onsite Warranty    38,990  \n",
       "3                            1 Year Onsite Warranty    47,990  \n",
       "4                            1 Year Onsite Warranty    38,990  \n",
       "...                                             ...       ...  \n",
       "1146                         1 Year Onsite Warranty    20,990  \n",
       "1147  1 Year International Travelers Warranty (ITW)    97,990  \n",
       "1148                         1 Year Onsite Warranty    94,990  \n",
       "1149                         1 Year Onsite Warranty    99,990  \n",
       "1150                                1 Year Warranty  2,29,990  \n",
       "\n",
       "[1151 rows x 8 columns]"
      ]
     },
     "execution_count": 739,
     "metadata": {},
     "output_type": "execute_result"
    }
   ],
   "source": [
    "dataset = pd.read_csv(\"laptops.csv\",index_col=[0])\n",
    "dataset"
   ]
  },
  {
   "cell_type": "markdown",
   "metadata": {},
   "source": [
    "# RAM"
   ]
  },
  {
   "cell_type": "markdown",
   "metadata": {},
   "source": [
    "## 1. RAM IN `GB`"
   ]
  },
  {
   "cell_type": "code",
   "execution_count": 740,
   "metadata": {},
   "outputs": [
    {
     "data": {
      "text/plain": [
       "array(['4 GB DDR4 RAM', '8 GB DDR4 RAM', '16 GB DDR5 RAM',\n",
       "       '16 GB DDR4 RAM', '8 GB DDR5 RAM', '16 GB DDR RAM',\n",
       "       '8 GB DDR4X RAM', '16 GB DDR4X RAM', '64 GB DDR5 RAM',\n",
       "       '32 GB Unified Memory RAM', '4 GB DDR4X RAM', '32 GB DDR5 RAM',\n",
       "       '5 GB DDR4 RAM -faster & low power consuming',\n",
       "       '8 GB DDR4 & 512GB SSD', '8 GB Unified Memory RAM',\n",
       "       '16 GB DDR4 (2 DIMM Slots) & 512GB SSD', '32 GB DDR4 RAM',\n",
       "       '8 GB DDR4 (2 DIMM Slots) & 1TB HDD', '16 GB Unified Memory RAM',\n",
       "       '8 GB DDR4 & 256GB SSD', '16 GB DDR4 & 512GB SSD',\n",
       "       '16 GB, 2x8GB, DDR5, 4800Mhz & 512GB SSD',\n",
       "       '8GB DDR4 (2 DIMM Slots) & 512GB SSD', '8 GB DDR3 RAM',\n",
       "       '16 GB DDR3 RAM', '32 GB DDR4X RAM',\n",
       "       '8GB RAM & 256GB SSD for superfast computing', '4 GB DDR3 RAM'],\n",
       "      dtype=object)"
      ]
     },
     "execution_count": 740,
     "metadata": {},
     "output_type": "execute_result"
    }
   ],
   "source": [
    "dataset['ram'] = dataset[\"RAM\"].copy() #creating a copy of RAM\n",
    "dataset['ram'].unique()"
   ]
  },
  {
   "cell_type": "code",
   "execution_count": 741,
   "metadata": {},
   "outputs": [
    {
     "data": {
      "text/plain": [
       "0        4 GB DDR4 RAM\n",
       "1        4 GB DDR4 RAM\n",
       "2        8 GB DDR4 RAM\n",
       "3        8 GB DDR4 RAM\n",
       "4        8 GB DDR4 RAM\n",
       "             ...      \n",
       "1146     4 GB DDR4 RAM\n",
       "1147     8 GB DDR4 RAM\n",
       "1148     8 GB DDR4 RAM\n",
       "1149    16 GB DDR4 RAM\n",
       "1150    16 GB DDR3 RAM\n",
       "Name: ram, Length: 1151, dtype: object"
      ]
     },
     "execution_count": 741,
     "metadata": {},
     "output_type": "execute_result"
    }
   ],
   "source": [
    "dataset['ram']"
   ]
  },
  {
   "cell_type": "code",
   "execution_count": 742,
   "metadata": {},
   "outputs": [
    {
     "data": {
      "text/plain": [
       "0"
      ]
     },
     "execution_count": 742,
     "metadata": {},
     "output_type": "execute_result"
    }
   ],
   "source": [
    "sum(dataset['ram'].isnull())"
   ]
  },
  {
   "cell_type": "code",
   "execution_count": 743,
   "metadata": {},
   "outputs": [],
   "source": [
    "dataset['ram'].replace(\"RAM & Storage\",\" \",inplace=True)"
   ]
  },
  {
   "cell_type": "code",
   "execution_count": 744,
   "metadata": {},
   "outputs": [
    {
     "data": {
      "text/plain": [
       "0        4 GB DDR4 RAM\n",
       "1        4 GB DDR4 RAM\n",
       "2        8 GB DDR4 RAM\n",
       "3        8 GB DDR4 RAM\n",
       "4        8 GB DDR4 RAM\n",
       "             ...      \n",
       "1146     4 GB DDR4 RAM\n",
       "1147     8 GB DDR4 RAM\n",
       "1148     8 GB DDR4 RAM\n",
       "1149    16 GB DDR4 RAM\n",
       "1150    16 GB DDR3 RAM\n",
       "Name: ram, Length: 1151, dtype: object"
      ]
     },
     "execution_count": 744,
     "metadata": {},
     "output_type": "execute_result"
    }
   ],
   "source": [
    "dataset['ram']"
   ]
  },
  {
   "cell_type": "code",
   "execution_count": 745,
   "metadata": {},
   "outputs": [
    {
     "name": "stdout",
     "output_type": "stream",
     "text": [
      "1151\n"
     ]
    },
    {
     "data": {
      "text/plain": [
       "0        4\n",
       "1        4\n",
       "2        8\n",
       "3        8\n",
       "4        8\n",
       "        ..\n",
       "1146     4\n",
       "1147     8\n",
       "1148     8\n",
       "1149    16\n",
       "1150    16\n",
       "Name: ram_in_gb, Length: 1151, dtype: object"
      ]
     },
     "execution_count": 745,
     "metadata": {},
     "output_type": "execute_result"
    }
   ],
   "source": [
    "ram_in_gb = []\n",
    "for i in dataset['ram']:\n",
    "    if(i[0] == '8'): # 8GB RAM\n",
    "        ram_in_gb.append(i[0])\n",
    "    elif(i[0] == '4'): # 4GB RAM\n",
    "        ram_in_gb.append(i[0])\n",
    "    elif(i[0] == '1'): # 16GB RAM\n",
    "        ram_in_gb.append('16')\n",
    "    elif(i[0] == '3'): # 32 GB RAM\n",
    "        ram_in_gb.append('32')\n",
    "    else:\n",
    "        ram_in_gb.append('2')\n",
    "dataset['ram_in_gb'] = ram_in_gb\n",
    "print(len(ram_in_gb))\n",
    "dataset['ram_in_gb']"
   ]
  },
  {
   "cell_type": "code",
   "execution_count": 746,
   "metadata": {},
   "outputs": [
    {
     "data": {
      "text/plain": [
       "0"
      ]
     },
     "execution_count": 746,
     "metadata": {},
     "output_type": "execute_result"
    }
   ],
   "source": [
    "sum(dataset['ram_in_gb'].isnull())"
   ]
  },
  {
   "cell_type": "code",
   "execution_count": 747,
   "metadata": {},
   "outputs": [
    {
     "data": {
      "text/plain": [
       "ram_in_gb\n",
       "8     569\n",
       "16    402\n",
       "4     125\n",
       "32     51\n",
       "2       4\n",
       "Name: count, dtype: int64"
      ]
     },
     "execution_count": 747,
     "metadata": {},
     "output_type": "execute_result"
    }
   ],
   "source": [
    "dataset['ram_in_gb'].value_counts()"
   ]
  },
  {
   "cell_type": "markdown",
   "metadata": {},
   "source": [
    "## 2. DDR Version"
   ]
  },
  {
   "cell_type": "code",
   "execution_count": 748,
   "metadata": {},
   "outputs": [
    {
     "name": "stdout",
     "output_type": "stream",
     "text": [
      "1151\n"
     ]
    },
    {
     "data": {
      "text/plain": [
       "ddr_version\n",
       "4    903\n",
       "5    194\n",
       "3     52\n",
       "8      2\n",
       "Name: count, dtype: int64"
      ]
     },
     "execution_count": 748,
     "metadata": {},
     "output_type": "execute_result"
    }
   ],
   "source": [
    "ddr_version = []\n",
    "for i in dataset['ram']:\n",
    "    if(i[0] == '8' or i[0]=='4'): # 4GB or 8GB RAM then check DDR version\n",
    "        ddr_version.append(i[8])\n",
    "    elif(i[0] == '8' or i[0]=='4'): # 4GB or 8GB RAM then check DDR version\n",
    "        ddr_version.append(i[10])  \n",
    "    elif(i[0] == '1'): # If 16GB RAM then check DDR version\n",
    "        ddr_version.append(i[9])\n",
    "    elif(i[0] == '3'): # IF 32GB then check the DDR version\n",
    "        ddr_version.append(i[9])\n",
    "    else:\n",
    "        ddr_version.append('3')\n",
    "dataset['ddr_version'] = ddr_version \n",
    "print(len(ddr_version))\n",
    "dataset['ddr_version'].replace('f','3',inplace=True)\n",
    "dataset['ddr_version'].replace(' ','3',inplace=True)\n",
    "dataset['ddr_version'].replace('&','3',inplace=True)\n",
    "dataset['ddr_version'].value_counts()"
   ]
  },
  {
   "cell_type": "code",
   "execution_count": 749,
   "metadata": {},
   "outputs": [
    {
     "data": {
      "text/html": [
       "<div>\n",
       "<style scoped>\n",
       "    .dataframe tbody tr th:only-of-type {\n",
       "        vertical-align: middle;\n",
       "    }\n",
       "\n",
       "    .dataframe tbody tr th {\n",
       "        vertical-align: top;\n",
       "    }\n",
       "\n",
       "    .dataframe thead th {\n",
       "        text-align: right;\n",
       "    }\n",
       "</style>\n",
       "<table border=\"1\" class=\"dataframe\">\n",
       "  <thead>\n",
       "    <tr style=\"text-align: right;\">\n",
       "      <th></th>\n",
       "      <th>Description</th>\n",
       "      <th>Processor</th>\n",
       "      <th>RAM</th>\n",
       "      <th>Operating System</th>\n",
       "      <th>Storage</th>\n",
       "      <th>Display</th>\n",
       "      <th>Warranty</th>\n",
       "      <th>Price</th>\n",
       "      <th>ram</th>\n",
       "      <th>ram_in_gb</th>\n",
       "      <th>ddr_version</th>\n",
       "    </tr>\n",
       "  </thead>\n",
       "  <tbody>\n",
       "    <tr>\n",
       "      <th>0</th>\n",
       "      <td>Primebook 4G Android Based MediaTek MT8788 - (...</td>\n",
       "      <td>Intel Core i3 Processor (11th Gen)</td>\n",
       "      <td>4 GB DDR4 RAM</td>\n",
       "      <td>Prime OS Operating System</td>\n",
       "      <td>512 GB SSD</td>\n",
       "      <td>29.46 cm (11.6 Inch) Display</td>\n",
       "      <td>1 Year Onsite Warranty</td>\n",
       "      <td>16,990</td>\n",
       "      <td>4 GB DDR4 RAM</td>\n",
       "      <td>4</td>\n",
       "      <td>4</td>\n",
       "    </tr>\n",
       "    <tr>\n",
       "      <th>1</th>\n",
       "      <td>Primebook 4G Android Based MediaTek MT8788 - (...</td>\n",
       "      <td>Intel Core i5 Processor (11th Gen)</td>\n",
       "      <td>4 GB DDR4 RAM</td>\n",
       "      <td>Prime OS Operating System</td>\n",
       "      <td>512 GB SSD</td>\n",
       "      <td>29.46 cm (11.6 Inch) Display</td>\n",
       "      <td>1 Year Onsite Warranty</td>\n",
       "      <td>18,990</td>\n",
       "      <td>4 GB DDR4 RAM</td>\n",
       "      <td>4</td>\n",
       "      <td>4</td>\n",
       "    </tr>\n",
       "    <tr>\n",
       "      <th>2</th>\n",
       "      <td>ASUS Vivobook 15 Core i3 11th Gen - (8 GB/512 ...</td>\n",
       "      <td>Intel Core i3 Processor (11th Gen)</td>\n",
       "      <td>8 GB DDR4 RAM</td>\n",
       "      <td>64 bit Windows 11 Operating System</td>\n",
       "      <td>512 GB SSD</td>\n",
       "      <td>39.62 cm (15.6 Inch) Display</td>\n",
       "      <td>1 Year Onsite Warranty</td>\n",
       "      <td>38,990</td>\n",
       "      <td>8 GB DDR4 RAM</td>\n",
       "      <td>8</td>\n",
       "      <td>4</td>\n",
       "    </tr>\n",
       "    <tr>\n",
       "      <th>3</th>\n",
       "      <td>ASUS Vivobook 15 Core i5 11th Gen - (8 GB/512 ...</td>\n",
       "      <td>AMD Ryzen 5 Hexa Core Processor</td>\n",
       "      <td>8 GB DDR4 RAM</td>\n",
       "      <td>64 bit Windows 11 Operating System</td>\n",
       "      <td>1 TB SSD</td>\n",
       "      <td>39.62 cm (15.6 Inch) Display</td>\n",
       "      <td>1 Year Onsite Warranty</td>\n",
       "      <td>47,990</td>\n",
       "      <td>8 GB DDR4 RAM</td>\n",
       "      <td>8</td>\n",
       "      <td>4</td>\n",
       "    </tr>\n",
       "    <tr>\n",
       "      <th>4</th>\n",
       "      <td>HP 14s Intel Core i3 11th Gen - (8 GB/512 GB S...</td>\n",
       "      <td>Intel Core i7 Processor (12th Gen)</td>\n",
       "      <td>8 GB DDR4 RAM</td>\n",
       "      <td>64 bit Windows 11 Operating System</td>\n",
       "      <td>256 GB SSD</td>\n",
       "      <td>35.56 cm (14 inch) Display</td>\n",
       "      <td>1 Year Onsite Warranty</td>\n",
       "      <td>38,990</td>\n",
       "      <td>8 GB DDR4 RAM</td>\n",
       "      <td>8</td>\n",
       "      <td>4</td>\n",
       "    </tr>\n",
       "    <tr>\n",
       "      <th>...</th>\n",
       "      <td>...</td>\n",
       "      <td>...</td>\n",
       "      <td>...</td>\n",
       "      <td>...</td>\n",
       "      <td>...</td>\n",
       "      <td>...</td>\n",
       "      <td>...</td>\n",
       "      <td>...</td>\n",
       "      <td>...</td>\n",
       "      <td>...</td>\n",
       "      <td>...</td>\n",
       "    </tr>\n",
       "    <tr>\n",
       "      <th>1146</th>\n",
       "      <td>Lenovo Ideapad Slim APU Dual Core A4 - (4 GB/6...</td>\n",
       "      <td>AMD APU Dual Core A4 Processor</td>\n",
       "      <td>4 GB DDR4 RAM</td>\n",
       "      <td>64 bit Windows 10 Operating System</td>\n",
       "      <td>128 GB SSD</td>\n",
       "      <td>35.56 cm (14 inch) Display</td>\n",
       "      <td>1 Year Onsite Warranty</td>\n",
       "      <td>20,990</td>\n",
       "      <td>4 GB DDR4 RAM</td>\n",
       "      <td>4</td>\n",
       "      <td>4</td>\n",
       "    </tr>\n",
       "    <tr>\n",
       "      <th>1147</th>\n",
       "      <td>Acer Predator Triton 300 Core i7 9th Gen - (8 ...</td>\n",
       "      <td>Intel Core i7 Processor (9th Gen)</td>\n",
       "      <td>8 GB DDR4 RAM</td>\n",
       "      <td>64 bit Windows 10 Operating System</td>\n",
       "      <td>2 TB HDD|256 GB SSD</td>\n",
       "      <td>39.62 cm (15.6 inch) Display</td>\n",
       "      <td>1 Year International Travelers Warranty (ITW)</td>\n",
       "      <td>97,990</td>\n",
       "      <td>8 GB DDR4 RAM</td>\n",
       "      <td>8</td>\n",
       "      <td>4</td>\n",
       "    </tr>\n",
       "    <tr>\n",
       "      <th>1148</th>\n",
       "      <td>Lenovo Yoga 730 Core i5 8th Gen - (8 GB/512 GB...</td>\n",
       "      <td>Intel Core i5 Processor (8th Gen)</td>\n",
       "      <td>8 GB DDR4 RAM</td>\n",
       "      <td>64 bit Windows 10 Operating System</td>\n",
       "      <td>512 GB SSD</td>\n",
       "      <td>33.78 cm (13.3 inch) Touchscreen Display</td>\n",
       "      <td>1 Year Onsite Warranty</td>\n",
       "      <td>94,990</td>\n",
       "      <td>8 GB DDR4 RAM</td>\n",
       "      <td>8</td>\n",
       "      <td>4</td>\n",
       "    </tr>\n",
       "    <tr>\n",
       "      <th>1149</th>\n",
       "      <td>Asus ZenBook Core i7 10th Gen - (16 GB/1 TB SS...</td>\n",
       "      <td>Intel Core i7 Processor (10th Gen)</td>\n",
       "      <td>16 GB DDR4 RAM</td>\n",
       "      <td>64 bit Windows 10 Operating System</td>\n",
       "      <td>1 TB SSD</td>\n",
       "      <td>33.78 cm (13.3 inch) Display</td>\n",
       "      <td>1 Year Onsite Warranty</td>\n",
       "      <td>99,990</td>\n",
       "      <td>16 GB DDR4 RAM</td>\n",
       "      <td>16</td>\n",
       "      <td>4</td>\n",
       "    </tr>\n",
       "    <tr>\n",
       "      <th>1150</th>\n",
       "      <td>Apple MacBook Pro Core i7 7th Gen - (16 GB/512...</td>\n",
       "      <td>Intel Core i7 Processor (7th Gen)</td>\n",
       "      <td>16 GB DDR3 RAM</td>\n",
       "      <td>64 bit Mac OS Operating System</td>\n",
       "      <td>512 GB SSD</td>\n",
       "      <td>39.12 cm (15.4 inch) Display</td>\n",
       "      <td>1 Year Warranty</td>\n",
       "      <td>2,29,990</td>\n",
       "      <td>16 GB DDR3 RAM</td>\n",
       "      <td>16</td>\n",
       "      <td>3</td>\n",
       "    </tr>\n",
       "  </tbody>\n",
       "</table>\n",
       "<p>1151 rows × 11 columns</p>\n",
       "</div>"
      ],
      "text/plain": [
       "                                            Description  \\\n",
       "0     Primebook 4G Android Based MediaTek MT8788 - (...   \n",
       "1     Primebook 4G Android Based MediaTek MT8788 - (...   \n",
       "2     ASUS Vivobook 15 Core i3 11th Gen - (8 GB/512 ...   \n",
       "3     ASUS Vivobook 15 Core i5 11th Gen - (8 GB/512 ...   \n",
       "4     HP 14s Intel Core i3 11th Gen - (8 GB/512 GB S...   \n",
       "...                                                 ...   \n",
       "1146  Lenovo Ideapad Slim APU Dual Core A4 - (4 GB/6...   \n",
       "1147  Acer Predator Triton 300 Core i7 9th Gen - (8 ...   \n",
       "1148  Lenovo Yoga 730 Core i5 8th Gen - (8 GB/512 GB...   \n",
       "1149  Asus ZenBook Core i7 10th Gen - (16 GB/1 TB SS...   \n",
       "1150  Apple MacBook Pro Core i7 7th Gen - (16 GB/512...   \n",
       "\n",
       "                               Processor             RAM  \\\n",
       "0     Intel Core i3 Processor (11th Gen)   4 GB DDR4 RAM   \n",
       "1     Intel Core i5 Processor (11th Gen)   4 GB DDR4 RAM   \n",
       "2     Intel Core i3 Processor (11th Gen)   8 GB DDR4 RAM   \n",
       "3        AMD Ryzen 5 Hexa Core Processor   8 GB DDR4 RAM   \n",
       "4     Intel Core i7 Processor (12th Gen)   8 GB DDR4 RAM   \n",
       "...                                  ...             ...   \n",
       "1146      AMD APU Dual Core A4 Processor   4 GB DDR4 RAM   \n",
       "1147   Intel Core i7 Processor (9th Gen)   8 GB DDR4 RAM   \n",
       "1148   Intel Core i5 Processor (8th Gen)   8 GB DDR4 RAM   \n",
       "1149  Intel Core i7 Processor (10th Gen)  16 GB DDR4 RAM   \n",
       "1150   Intel Core i7 Processor (7th Gen)  16 GB DDR3 RAM   \n",
       "\n",
       "                        Operating System              Storage  \\\n",
       "0              Prime OS Operating System           512 GB SSD   \n",
       "1              Prime OS Operating System           512 GB SSD   \n",
       "2     64 bit Windows 11 Operating System           512 GB SSD   \n",
       "3     64 bit Windows 11 Operating System             1 TB SSD   \n",
       "4     64 bit Windows 11 Operating System           256 GB SSD   \n",
       "...                                  ...                  ...   \n",
       "1146  64 bit Windows 10 Operating System           128 GB SSD   \n",
       "1147  64 bit Windows 10 Operating System  2 TB HDD|256 GB SSD   \n",
       "1148  64 bit Windows 10 Operating System           512 GB SSD   \n",
       "1149  64 bit Windows 10 Operating System             1 TB SSD   \n",
       "1150      64 bit Mac OS Operating System           512 GB SSD   \n",
       "\n",
       "                                       Display  \\\n",
       "0                 29.46 cm (11.6 Inch) Display   \n",
       "1                 29.46 cm (11.6 Inch) Display   \n",
       "2                 39.62 cm (15.6 Inch) Display   \n",
       "3                 39.62 cm (15.6 Inch) Display   \n",
       "4                   35.56 cm (14 inch) Display   \n",
       "...                                        ...   \n",
       "1146                35.56 cm (14 inch) Display   \n",
       "1147              39.62 cm (15.6 inch) Display   \n",
       "1148  33.78 cm (13.3 inch) Touchscreen Display   \n",
       "1149              33.78 cm (13.3 inch) Display   \n",
       "1150              39.12 cm (15.4 inch) Display   \n",
       "\n",
       "                                           Warranty     Price             ram  \\\n",
       "0                            1 Year Onsite Warranty    16,990   4 GB DDR4 RAM   \n",
       "1                            1 Year Onsite Warranty    18,990   4 GB DDR4 RAM   \n",
       "2                            1 Year Onsite Warranty    38,990   8 GB DDR4 RAM   \n",
       "3                            1 Year Onsite Warranty    47,990   8 GB DDR4 RAM   \n",
       "4                            1 Year Onsite Warranty    38,990   8 GB DDR4 RAM   \n",
       "...                                             ...       ...             ...   \n",
       "1146                         1 Year Onsite Warranty    20,990   4 GB DDR4 RAM   \n",
       "1147  1 Year International Travelers Warranty (ITW)    97,990   8 GB DDR4 RAM   \n",
       "1148                         1 Year Onsite Warranty    94,990   8 GB DDR4 RAM   \n",
       "1149                         1 Year Onsite Warranty    99,990  16 GB DDR4 RAM   \n",
       "1150                                1 Year Warranty  2,29,990  16 GB DDR3 RAM   \n",
       "\n",
       "     ram_in_gb ddr_version  \n",
       "0            4           4  \n",
       "1            4           4  \n",
       "2            8           4  \n",
       "3            8           4  \n",
       "4            8           4  \n",
       "...        ...         ...  \n",
       "1146         4           4  \n",
       "1147         8           4  \n",
       "1148         8           4  \n",
       "1149        16           4  \n",
       "1150        16           3  \n",
       "\n",
       "[1151 rows x 11 columns]"
      ]
     },
     "execution_count": 749,
     "metadata": {},
     "output_type": "execute_result"
    }
   ],
   "source": [
    "dataset"
   ]
  },
  {
   "cell_type": "markdown",
   "metadata": {},
   "source": [
    "# PROCESSOR"
   ]
  },
  {
   "cell_type": "code",
   "execution_count": 750,
   "metadata": {},
   "outputs": [
    {
     "data": {
      "text/plain": [
       "array(['Intel Core i3 Processor (11th Gen)',\n",
       "       'Intel Core i5 Processor (11th Gen)',\n",
       "       'AMD Ryzen 5 Hexa Core Processor',\n",
       "       'Intel Core i7 Processor (12th Gen)',\n",
       "       'Intel Core i5 Processor (12th Gen)',\n",
       "       'AMD Ryzen 3 Hexa Core Processor',\n",
       "       'AMD Athlon Dual Core Processor',\n",
       "       'AMD Ryzen 7 Octa Core Processor',\n",
       "       'AMD Ryzen 3 Dual Core Processor',\n",
       "       'Intel Celeron Quad Core Processor (11th Gen)',\n",
       "       'Intel Celeron Dual Core Processor',\n",
       "       'Intel Core i5 Processor (10th Gen)',\n",
       "       'Intel Core i7 Processor (11th Gen)',\n",
       "       'Intel Core i3 Processor (12th Gen)',\n",
       "       'AMD Ryzen 3 Quad Core Processor',\n",
       "       'Intel Core i7 Processor (13th Gen)',\n",
       "       'Intel Core i9 Processor (13th Gen)',\n",
       "       'Intel Core i5 Processor (13th Gen)',\n",
       "       'AMD Ryzen 9 Octa Core Processor (5th Gen)',\n",
       "       'Intel Core i3 Processor (10th Gen)',\n",
       "       'Intel Core i3 Processor (13th Gen)',\n",
       "       'Intel Core i9 Processor (12th Gen)',\n",
       "       'AMD Ryzen 9 Octa Core Processor',\n",
       "       'AMD Ryzen 5 Quad Core Processor', 'Intel Core i3 Processor',\n",
       "       'Processor: Intel i5-1235U (Base- 3.30 GHz & Turbo up to 4.40 GHz) 10 Cores',\n",
       "       'AMD Ryzen 9 16 Core Processor',\n",
       "       'Intel Core i9 Processor (11th Gen)',\n",
       "       'Intel Core i7 Processor (10th Gen)',\n",
       "       'Intel Core i9 Processor (10th Gen)',\n",
       "       'Stylish & Portable Thin and Light Foldable Laptop\\n12th Gen Intel Evo� Core i7-1250U CPU with 10 cores and 4.7 GHz max frequency\\n17.3 Inch 2.5K Foldable OLED, 0.2ms response time, 60Hz refresh rate, 500nits HDR peak brightness, 100% DCI-P3 color gamut, VESA CERTIFIED Display HDR True Black 500\\nWorld�s first 17� foldable OLED laptop with Multiple versatile use cases possible: laptop, tablet, AiO, vertical, extended, etc.\\n17.3� screen when unfolded, while just 8.7mm thin and 1.5kg in weight. MIL-STD 810H Military-grade durability\\nASUS ErgoSense Bluetooth keyboard included in the box.\\nTwo Thunderbolt 4 ports for external 4K display, 40 GB/s data transfer and fast charging',\n",
       "       'AMD Ryzen 9 Octa Core Processor (9th Gen)',\n",
       "       'Processor: Intel i9-12900H (Base- 3.80 GHz & Turbo up to 5.0 GHz) 14 Cores',\n",
       "       'AMD Ryzen 7 Quad Core Processor (10th Gen)',\n",
       "       'Intel Core i5 Processor (7th Gen)',\n",
       "       'Intel Core i7 Processor (7th Gen)',\n",
       "       'Intel Ryzen 7 Quad Core Processor',\n",
       "       'AMD Ryzen 7 Quad Core Processor',\n",
       "       'Intel Pentium Quad Core Processor',\n",
       "       'Intel Core i5 Processor (8th Gen)',\n",
       "       'Intel Celeron Quad Core Processor',\n",
       "       'Intel Core i7 Processor (8th Gen)',\n",
       "       'AMD Ryzen 9 12 Core Processor',\n",
       "       'Intel Evo platform feat 11th Gen Intel Core i5 processor',\n",
       "       'AMD Ryzen 7 Octa Core Processor (12th Gen)',\n",
       "       'AMD Ryzen 7 Dual Core Processor (10th Gen)',\n",
       "       'Intel Core i7 Processor (9th Gen)',\n",
       "       'AMD Ryzen 5 Quad Core Processor (10th Gen)',\n",
       "       'AMD Ryzen 5 Dual Core Processor (5th Gen)',\n",
       "       'Processor: Intel i3-1115G4 (Base- 1.70 GHz & Turbo up to 4.10 GHz) 2 Cores',\n",
       "       'AMD Ryzen 7 Dual Core Processor (11th Gen)', nan,\n",
       "       'Intel Core i5 Processor (9th Gen)',\n",
       "       'AMD Ryzen 5 Quad Core Processor (2nd Gen)',\n",
       "       'AMD Ryzen 5 Quad Core Processor (3rd Gen)',\n",
       "       'Intel Core i3 Processor (8th Gen)',\n",
       "       'Intel Core i5 Processor (5th Gen)',\n",
       "       '8th Gen Intel Core i5 for superior computing',\n",
       "       'Microsoft SQ1 Octa Core Processor',\n",
       "       'Intel Core i3 Processor (7th Gen)',\n",
       "       'AMD Ryzen 7 Quad Core Processor (2nd Gen)',\n",
       "       'AMD APU Quad Core A12 Processor',\n",
       "       'Intel Pentium Dual Core Processor',\n",
       "       'Intel Core m3 Processor (7th Gen)',\n",
       "       'Intel Core i9 Processor (9th Gen)',\n",
       "       'Intel Pentium Gold Processor', 'AMD APU Dual Core A9 Processor',\n",
       "       'Intel Core i9 Processor (8th Gen)',\n",
       "       'AMD APU Dual Core A4 Processor'], dtype=object)"
      ]
     },
     "execution_count": 750,
     "metadata": {},
     "output_type": "execute_result"
    }
   ],
   "source": [
    "dataset['processor'] = dataset['Processor'].copy()\n",
    "gen = dataset['processor'].apply(lambda x: str(x).split('(')) # Split on '(\n",
    "dataset['processor'].unique()"
   ]
  },
  {
   "cell_type": "code",
   "execution_count": 751,
   "metadata": {},
   "outputs": [
    {
     "data": {
      "text/plain": [
       "83"
      ]
     },
     "execution_count": 751,
     "metadata": {},
     "output_type": "execute_result"
    }
   ],
   "source": [
    "sum(dataset['processor'].isnull())"
   ]
  },
  {
   "cell_type": "code",
   "execution_count": 752,
   "metadata": {},
   "outputs": [
    {
     "data": {
      "text/plain": [
       "0       [Intel Core i3 Processor , 11th Gen)]\n",
       "1       [Intel Core i5 Processor , 11th Gen)]\n",
       "2       [Intel Core i3 Processor , 11th Gen)]\n",
       "3           [AMD Ryzen 5 Hexa Core Processor]\n",
       "4       [Intel Core i7 Processor , 12th Gen)]\n",
       "                        ...                  \n",
       "1146         [AMD APU Dual Core A4 Processor]\n",
       "1147     [Intel Core i7 Processor , 9th Gen)]\n",
       "1148     [Intel Core i5 Processor , 8th Gen)]\n",
       "1149    [Intel Core i7 Processor , 10th Gen)]\n",
       "1150     [Intel Core i7 Processor , 7th Gen)]\n",
       "Name: processor, Length: 1151, dtype: object"
      ]
     },
     "execution_count": 752,
     "metadata": {},
     "output_type": "execute_result"
    }
   ],
   "source": [
    "gen"
   ]
  },
  {
   "cell_type": "markdown",
   "metadata": {},
   "source": [
    "## 1. Processor Type"
   ]
  },
  {
   "cell_type": "code",
   "execution_count": 753,
   "metadata": {},
   "outputs": [
    {
     "name": "stdout",
     "output_type": "stream",
     "text": [
      "1151\n"
     ]
    },
    {
     "data": {
      "text/plain": [
       "0       Intel\n",
       "1       Intel\n",
       "2       Intel\n",
       "3         AMD\n",
       "4       Intel\n",
       "        ...  \n",
       "1146      AMD\n",
       "1147    Intel\n",
       "1148    Intel\n",
       "1149    Intel\n",
       "1150    Intel\n",
       "Name: processor_name, Length: 1151, dtype: object"
      ]
     },
     "execution_count": 753,
     "metadata": {},
     "output_type": "execute_result"
    }
   ],
   "source": [
    "processor_name = []\n",
    "for i in dataset['processor']:\n",
    "  if('Intel' in str(i)): # If it's an Intel processor\n",
    "    processor_name.append('Intel')\n",
    "  elif('AMD' in str(i)): # If it's an AMD processor\n",
    "    processor_name.append('AMD')\n",
    "  elif('Microsoft' in str(i)): # If it's a Microsoft processor\n",
    "    processor_name.append('Microsoft')\n",
    "  else:\n",
    "    processor_name.append(np.nan)\n",
    "dataset['processor_name'] = processor_name\n",
    "print(len(processor_name))\n",
    "dataset['processor_name']"
   ]
  },
  {
   "cell_type": "code",
   "execution_count": 754,
   "metadata": {},
   "outputs": [
    {
     "data": {
      "text/plain": [
       "83"
      ]
     },
     "execution_count": 754,
     "metadata": {},
     "output_type": "execute_result"
    }
   ],
   "source": [
    "sum(dataset['processor_name'].isnull())"
   ]
  },
  {
   "cell_type": "markdown",
   "metadata": {},
   "source": [
    "## 2. Generation"
   ]
  },
  {
   "cell_type": "code",
   "execution_count": 755,
   "metadata": {},
   "outputs": [
    {
     "name": "stdout",
     "output_type": "stream",
     "text": [
      "1151\n"
     ]
    },
    {
     "data": {
      "text/plain": [
       "0                  10\n",
       "1                  10\n",
       "2                  10\n",
       "3       Not Mentioned\n",
       "4                  10\n",
       "            ...      \n",
       "1146    Not Mentioned\n",
       "1147                9\n",
       "1148                8\n",
       "1149               10\n",
       "1150                7\n",
       "Name: gen_type, Length: 1151, dtype: object"
      ]
     },
     "execution_count": 755,
     "metadata": {},
     "output_type": "execute_result"
    }
   ],
   "source": [
    "gen_type = []\n",
    "for i in gen: # After converting into a list we'll be having 2 elements.\n",
    "  if(len(i) == 2):  # If there is generation mentioned in the processor \n",
    "    if(i[1][0] == '1'): # If 10th gen\n",
    "      gen_type.append('10') \n",
    "    else:  # Other than 10th gen\n",
    "      gen_type.append(i[1][0])\n",
    "  else: # If the generation is not mentioned\n",
    "    gen_type.append('Not Mentioned')\n",
    "dataset['gen_type'] = gen_type\n",
    "dataset['gen_type'].replace('B','7',inplace=True)\n",
    "print(len(gen_type))\n",
    "dataset['gen_type']"
   ]
  },
  {
   "cell_type": "code",
   "execution_count": 756,
   "metadata": {},
   "outputs": [
    {
     "data": {
      "text/plain": [
       "gen_type\n",
       "10               654\n",
       "Not Mentioned    381\n",
       "8                 71\n",
       "9                 21\n",
       "7                 18\n",
       "5                  3\n",
       "2                  2\n",
       "3                  1\n",
       "Name: count, dtype: int64"
      ]
     },
     "execution_count": 756,
     "metadata": {},
     "output_type": "execute_result"
    }
   ],
   "source": [
    "dataset['gen_type'].value_counts()"
   ]
  },
  {
   "cell_type": "markdown",
   "metadata": {},
   "source": [
    "# Operation System "
   ]
  },
  {
   "cell_type": "code",
   "execution_count": 757,
   "metadata": {},
   "outputs": [
    {
     "data": {
      "text/plain": [
       "0                prime os operating system\n",
       "1                prime os operating system\n",
       "2       64 bit windows 11 operating system\n",
       "3       64 bit windows 11 operating system\n",
       "4       64 bit windows 11 operating system\n",
       "                       ...                \n",
       "1146    64 bit windows 10 operating system\n",
       "1147    64 bit windows 10 operating system\n",
       "1148    64 bit windows 10 operating system\n",
       "1149    64 bit windows 10 operating system\n",
       "1150        64 bit mac os operating system\n",
       "Name: OS, Length: 1151, dtype: object"
      ]
     },
     "execution_count": 757,
     "metadata": {},
     "output_type": "execute_result"
    }
   ],
   "source": [
    "dataset['OS'] = dataset['Operating System'].copy()\n",
    "dataset['OS'].unique()\n",
    "dataset['OS']= dataset['OS'].str.lower()\n",
    "dataset['OS']"
   ]
  },
  {
   "cell_type": "code",
   "execution_count": 758,
   "metadata": {},
   "outputs": [
    {
     "data": {
      "text/plain": [
       "0"
      ]
     },
     "execution_count": 758,
     "metadata": {},
     "output_type": "execute_result"
    }
   ],
   "source": [
    "sum(dataset['OS'].isnull())"
   ]
  },
  {
   "cell_type": "code",
   "execution_count": 759,
   "metadata": {},
   "outputs": [
    {
     "name": "stdout",
     "output_type": "stream",
     "text": [
      "1151\n"
     ]
    },
    {
     "data": {
      "text/plain": [
       "0       Windows\n",
       "1       Windows\n",
       "2       Windows\n",
       "3       Windows\n",
       "4       Windows\n",
       "         ...   \n",
       "1146    Windows\n",
       "1147    Windows\n",
       "1148    Windows\n",
       "1149    Windows\n",
       "1150        Mac\n",
       "Name: OS, Length: 1151, dtype: object"
      ]
     },
     "execution_count": 759,
     "metadata": {},
     "output_type": "execute_result"
    }
   ],
   "source": [
    "OS = []\n",
    "for i in dataset['OS']:\n",
    "    if('windows' in str(i)): # Windows Operating System\n",
    "        OS.append('Windows')\n",
    "    elif('mac' in str(i)):   # Mac Operating System\n",
    "        OS.append('Mac')\n",
    "    elif('linux' in str(i)): # Linux Operating System\n",
    "        OS.append('Linux')\n",
    "    elif('dos' in str(i)):   # DOS Operating System\n",
    "        OS.append('DOS')\n",
    "    else:\n",
    "        OS.append(\"Windows\")\n",
    "dataset['OS'] = OS\n",
    "print(len(dataset['OS']))\n",
    "dataset['OS']"
   ]
  },
  {
   "cell_type": "code",
   "execution_count": 760,
   "metadata": {},
   "outputs": [
    {
     "data": {
      "text/plain": [
       "OS\n",
       "Windows    1106\n",
       "Mac          34\n",
       "DOS          10\n",
       "Linux         1\n",
       "Name: count, dtype: int64"
      ]
     },
     "execution_count": 760,
     "metadata": {},
     "output_type": "execute_result"
    }
   ],
   "source": [
    "dataset['OS'].value_counts()"
   ]
  },
  {
   "cell_type": "markdown",
   "metadata": {},
   "source": [
    "# Storage"
   ]
  },
  {
   "cell_type": "markdown",
   "metadata": {},
   "source": [
    "## 1. Disk Drive"
   ]
  },
  {
   "cell_type": "code",
   "execution_count": 761,
   "metadata": {},
   "outputs": [
    {
     "data": {
      "text/plain": [
       "array(['512 GB SSD', '1 TB SSD', '256 GB SSD', '1 TB HDD',\n",
       "       '1 TB HDD|256 GB SSD', '2 TB SSD', '1 TB HDD|1 TB SSD',\n",
       "       '128 GB SSD', '1 TB HDD|128 GB SSD',\n",
       "       '128 GB SSD for Reduced Boot Up Time and in Game Loading',\n",
       "       'PCI-e Gen4 SSD?SHIFT?Matrix Display (Extend)?Cooler Boost 3?Thunderbolt 4?Finger Print Security?True Color 2.0?Hi-Res Audio?Nahimic 3? 4-Sided Thin bezel?MSI Center?Silky Smooth Touchpad?Military-Grade Durability',\n",
       "       '4 TB SSD',\n",
       "       '512 GB SSD for Reduced Boot Up Time and in Game Loading',\n",
       "       '16 GB SSD', '2 TB HDD', nan, '1 TB HDD|512 GB SSD',\n",
       "       '2 TB HDD|256 GB SSD',\n",
       "       'HP Audio Switch, HP Support Assistant, HP Documentation, HP Jumpstart, HP BIOS Recovery, HP Connection Optimizer, HP 3D DriveGuard (HDD Only), Dropbox'],\n",
       "      dtype=object)"
      ]
     },
     "execution_count": 761,
     "metadata": {},
     "output_type": "execute_result"
    }
   ],
   "source": [
    "dataset['storage'] = dataset['Storage'].copy()\n",
    "dataset['storage'].unique()"
   ]
  },
  {
   "cell_type": "code",
   "execution_count": 762,
   "metadata": {},
   "outputs": [
    {
     "data": {
      "text/plain": [
       "storage\n",
       "512 GB SSD                                                                                                                                                                                                              659\n",
       "1 TB SSD                                                                                                                                                                                                                163\n",
       "256 GB SSD                                                                                                                                                                                                               88\n",
       "1 TB HDD|256 GB SSD                                                                                                                                                                                                      65\n",
       "1 TB HDD                                                                                                                                                                                                                 44\n",
       "2 TB SSD                                                                                                                                                                                                                 15\n",
       "128 GB SSD                                                                                                                                                                                                               15\n",
       "1 TB HDD|128 GB SSD                                                                                                                                                                                                       9\n",
       "1 TB HDD|512 GB SSD                                                                                                                                                                                                       5\n",
       "1 TB HDD|1 TB SSD                                                                                                                                                                                                         4\n",
       "2 TB HDD|256 GB SSD                                                                                                                                                                                                       3\n",
       "2 TB HDD                                                                                                                                                                                                                  2\n",
       "512 GB SSD for Reduced Boot Up Time and in Game Loading                                                                                                                                                                   2\n",
       "128 GB SSD for Reduced Boot Up Time and in Game Loading                                                                                                                                                                   1\n",
       "16 GB SSD                                                                                                                                                                                                                 1\n",
       "4 TB SSD                                                                                                                                                                                                                  1\n",
       "PCI-e Gen4 SSD?SHIFT?Matrix Display (Extend)?Cooler Boost 3?Thunderbolt 4?Finger Print Security?True Color 2.0?Hi-Res Audio?Nahimic 3? 4-Sided Thin bezel?MSI Center?Silky Smooth Touchpad?Military-Grade Durability      1\n",
       "HP Audio Switch, HP Support Assistant, HP Documentation, HP Jumpstart, HP BIOS Recovery, HP Connection Optimizer, HP 3D DriveGuard (HDD Only), Dropbox                                                                    1\n",
       "Name: count, dtype: int64"
      ]
     },
     "execution_count": 762,
     "metadata": {},
     "output_type": "execute_result"
    }
   ],
   "source": [
    "dataset['storage'].value_counts()"
   ]
  },
  {
   "cell_type": "code",
   "execution_count": 763,
   "metadata": {},
   "outputs": [
    {
     "data": {
      "text/plain": [
       "72"
      ]
     },
     "execution_count": 763,
     "metadata": {},
     "output_type": "execute_result"
    }
   ],
   "source": [
    "sum(dataset['storage'].isnull())"
   ]
  },
  {
   "cell_type": "code",
   "execution_count": 764,
   "metadata": {},
   "outputs": [
    {
     "name": "stdout",
     "output_type": "stream",
     "text": [
      "1151\n"
     ]
    },
    {
     "data": {
      "text/plain": [
       "0        SSD\n",
       "1        SSD\n",
       "2        SSD\n",
       "3        SSD\n",
       "4        SSD\n",
       "        ... \n",
       "1146     SSD\n",
       "1147    Both\n",
       "1148     SSD\n",
       "1149     SSD\n",
       "1150     SSD\n",
       "Name: disk_drive, Length: 1151, dtype: object"
      ]
     },
     "execution_count": 764,
     "metadata": {},
     "output_type": "execute_result"
    }
   ],
   "source": [
    "disk_drive = []\n",
    "for i in dataset['storage']:\n",
    "    if('HDD' in str(i) and 'SSD' not in str(i)):   # If only HDD\n",
    "        disk_drive.append('HDD')\n",
    "    elif('SSD' in str(i) and 'HDD' not in str(i)): # If only SSD\n",
    "        disk_drive.append('SSD')\n",
    "    elif('HDD' in str(i) and 'SSD' in str(i)):     # If both HDD and SSD\n",
    "        disk_drive.append('Both')\n",
    "    else:\n",
    "        disk_drive.append(\"Not Both\")\n",
    "dataset['disk_drive'] = disk_drive\n",
    "print(len(disk_drive))\n",
    "dataset['disk_drive']"
   ]
  },
  {
   "cell_type": "markdown",
   "metadata": {},
   "source": [
    "## 2. Storage In GB"
   ]
  },
  {
   "cell_type": "code",
   "execution_count": 765,
   "metadata": {},
   "outputs": [
    {
     "name": "stdout",
     "output_type": "stream",
     "text": [
      "1151\n"
     ]
    },
    {
     "data": {
      "text/plain": [
       "0            512\n",
       "1            512\n",
       "2            512\n",
       "3           1000\n",
       "4            256\n",
       "          ...   \n",
       "1146         128\n",
       "1147    1000+256\n",
       "1148         512\n",
       "1149        1000\n",
       "1150         512\n",
       "Name: storage_in_gb, Length: 1151, dtype: object"
      ]
     },
     "execution_count": 765,
     "metadata": {},
     "output_type": "execute_result"
    }
   ],
   "source": [
    "storage_in_gb = []\n",
    "for i in dataset['storage']:\n",
    "    if('512' in str(i) and 'TB' not in (i)): # Only 512GB SSD or 512GB HDD\n",
    "        storage_in_gb.append('512')\n",
    "    elif('256' in str(i) and 'TB' not in str(i)): # Only 256GB SSD or 256GB HDD\n",
    "        storage_in_gb.append('256')\n",
    "    elif('128' in str(i) and 'TB' not in str(i)): # Only 128GB SSD or 128GB HDD\n",
    "        storage_in_gb.append('128')\n",
    "    elif('512' in str(i) and 'TB' in str(i)):     # If 1TB HDD + 512GB SSD\n",
    "        storage_in_gb.append('1000+512')\n",
    "    elif('256' in str(i) and 'TB' in str(i)):     # If 1TB HDD + 256GB SSD\n",
    "        storage_in_gb.append('1000+256')\n",
    "    elif('128' in str(i) and 'TB' in str(i)):     # If 1TB HDD + 128GB SSD\n",
    "        storage_in_gb.append('1000+128')\n",
    "    elif('1' in str(i) and '256' not in str(i) and '512' not in str(i)): # Only 1TB HDD or 1TB SSD\n",
    "        storage_in_gb.append('1000')\n",
    "    elif('2' in str(i) and '256' not in str(i) and '512' not in str(i)): # Only 2TB HDD or 2TB SSD\n",
    "        storage_in_gb.append('2000')\n",
    "    else:\n",
    "        storage_in_gb.append(np.nan)\n",
    "dataset['storage_in_gb'] = storage_in_gb\n",
    "print(len(storage_in_gb))\n",
    "dataset['storage_in_gb']"
   ]
  },
  {
   "cell_type": "code",
   "execution_count": 766,
   "metadata": {},
   "outputs": [
    {
     "data": {
      "text/plain": [
       "74"
      ]
     },
     "execution_count": 766,
     "metadata": {},
     "output_type": "execute_result"
    }
   ],
   "source": [
    "sum(dataset['storage_in_gb'].isnull())"
   ]
  },
  {
   "cell_type": "markdown",
   "metadata": {},
   "source": [
    "# Display"
   ]
  },
  {
   "cell_type": "code",
   "execution_count": 767,
   "metadata": {},
   "outputs": [
    {
     "data": {
      "text/plain": [
       "array(['29.46 cm (11.6 inch) display', '39.62 cm (15.6 inch) display',\n",
       "       '35.56 cm (14 inch) display', '33.78 cm (13.3 inch) display',\n",
       "       '14 inch 2k qhd, ips lcd display ( 400nits peak brightness, 100% srgb, 3:2 aspect ratio, full vision display)',\n",
       "       '38.86 cm (15.3 inch) display', '100.63 cm (39.62 cm) display',\n",
       "       '96.52 cm (38 cm) display', '40.64 cm (16 inch) display',\n",
       "       '43.94 cm (17.3 inch) display', '38.1 cm (15 inch) display',\n",
       "       '90.32 cm (35.56 cm) display', '40.89 cm (16.1 inch) display',\n",
       "       '35.56 cm (14 inch) touchscreen display',\n",
       "       '36.83 cm (14.5 inch) touchscreen display',\n",
       "       'display: 15.6\" fhd wva ag 120hz 250 nits narrow border',\n",
       "       '38.0 cm (14.96 inch) display',\n",
       "       '39.62 cm (15.6 inch) touchscreen display',\n",
       "       '15.6 inch full hd oled 16:9 aspect ratio, 0.2ms response time, 600nits hdr peak brightness, 100% dci-p3 color gamut, vesa certified display hdr true black 600, 1.07 billion colors, pantone validated, glossy display, 70% less harmful blue light, tuv rheinland-certified',\n",
       "       '15.6 inch full hd led backlit anti-glare ips display, 300 hz, 300 nits',\n",
       "       '34.04 cm (13.4 inch) touchscreen display',\n",
       "       '34.54 cm (13.6 inch) display', '35.56 cm (14 inches) display',\n",
       "       '40.64 cm (16 inch) touchscreen display',\n",
       "       'display: 15.6\" fhd wva ag 250 nits 120hz narrow border, backlit keyboard orange',\n",
       "       'ports: 1. hispeed usb 2.0 | 2. hispeed usb 2.0 with powershare | 3. usb 3.2 gen 1 type-c port with displayport with alt mode | 4. superspeed usb 3.2 | 5. hdmi | 6. power in | 7. rj45 | 8. headphones/mic',\n",
       "       '43.94 cm (17.3 inch) touchscreen display',\n",
       "       'display: 14.0\" fhd wva ag narrow border',\n",
       "       '88.9 cm (35 cm) display',\n",
       "       'display:14.0\" fhd wva ag narrow border 250 nits',\n",
       "       '103.23 cm (40.64 cm) display', '36.07 cm (14.2 inch) display',\n",
       "       'display: 15.6\" fhd wva ag 165hz 300 nits narrow border',\n",
       "       '33.78 cm (13.3 inch) touchscreen display',\n",
       "       '41.15 cm (16.2 inch) display',\n",
       "       '29.46 cm (11.6 inch) touchscreen display',\n",
       "       'display: 14.0\" fhd+ wva truelife touch narrow border 250 nits, dell active pen',\n",
       "       '34.04 cm (13.4 inch) display',\n",
       "       'display & graphics: 15.6\" fhd wva ag 120hz 250 nits narrow border & nvidia geforce rtx 3050 (4gb gddr6)',\n",
       "       'ports: (1) hdmi 2.1, (3) superspeed usb 3.2 gen 1 type-a, (1) usb type c gen 3.2 display port alt-mode, headphone/mic, (1) rj45',\n",
       "       '15.6 inch full hd ag display (250 nits brightness, 120hz, narrow border)',\n",
       "       '34.29 cm (13.5 inch) display',\n",
       "       'display: 15.6\" fhd wva ag narrow border 120hz 250 nits',\n",
       "       '35.81 cm (14.1 inch) display', '39.62 cm (15.6 inches) display',\n",
       "       '38.1 cm (15 inch) touchscreen display',\n",
       "       '43.18 cm (17 inch) display',\n",
       "       '15.6 inch full hd led backlit anti-glare display, 300 hz, 300 nits',\n",
       "       '33.02 cm (13 inch) display',\n",
       "       'display: 14.0\" fhd wva ag narrow border 250 nits',\n",
       "       '34.29 cm (13.5 inch) touchscreen display',\n",
       "       '33.02 cm (13 inch) touchscreen display',\n",
       "       '30.48 cm (12 inch) display',\n",
       "       '25.4 cm (10 inch) touchscreen display',\n",
       "       '31.24 cm (12.3 inch) touchscreen display',\n",
       "       '39.12 cm (15.4 inch) display'], dtype=object)"
      ]
     },
     "execution_count": 767,
     "metadata": {},
     "output_type": "execute_result"
    }
   ],
   "source": [
    "dataset['display'] = dataset['Display'].copy() # Creating a copy of Display\n",
    "dataset['display'] = dataset['display'].str.lower()\n",
    "dataset['display'].unique()"
   ]
  },
  {
   "cell_type": "code",
   "execution_count": 768,
   "metadata": {},
   "outputs": [
    {
     "data": {
      "text/plain": [
       "0"
      ]
     },
     "execution_count": 768,
     "metadata": {},
     "output_type": "execute_result"
    }
   ],
   "source": [
    "sum(dataset['display'].isnull())"
   ]
  },
  {
   "cell_type": "code",
   "execution_count": 769,
   "metadata": {},
   "outputs": [
    {
     "data": {
      "text/plain": [
       "0                   29.46 cm (11.6 inch) display\n",
       "1                   29.46 cm (11.6 inch) display\n",
       "2                   39.62 cm (15.6 inch) display\n",
       "3                   39.62 cm (15.6 inch) display\n",
       "4                     35.56 cm (14 inch) display\n",
       "                          ...                   \n",
       "1146                  35.56 cm (14 inch) display\n",
       "1147                39.62 cm (15.6 inch) display\n",
       "1148    33.78 cm (13.3 inch) touchscreen display\n",
       "1149                33.78 cm (13.3 inch) display\n",
       "1150                39.12 cm (15.4 inch) display\n",
       "Name: display, Length: 1151, dtype: object"
      ]
     },
     "execution_count": 769,
     "metadata": {},
     "output_type": "execute_result"
    }
   ],
   "source": [
    "dataset['display']"
   ]
  },
  {
   "cell_type": "code",
   "execution_count": 770,
   "metadata": {},
   "outputs": [
    {
     "name": "stdout",
     "output_type": "stream",
     "text": [
      "1151\n"
     ]
    },
    {
     "data": {
      "text/plain": [
       "0       11.6\n",
       "1       11.6\n",
       "2       15.6\n",
       "3       15.6\n",
       "4         14\n",
       "        ... \n",
       "1146      14\n",
       "1147    15.6\n",
       "1148    13.3\n",
       "1149    13.3\n",
       "1150      12\n",
       "Name: size_in_inches, Length: 1151, dtype: object"
      ]
     },
     "execution_count": 770,
     "metadata": {},
     "output_type": "execute_result"
    }
   ],
   "source": [
    "size_in_inches = []\n",
    "for i in dataset['display']:\n",
    "    if('15.6' in str(i)):    # If the screen size is 15.6 inches\n",
    "        size_in_inches.append('15.6')\n",
    "    elif('39.62' in str(i)):\n",
    "        size_in_inches.append('15.5')\n",
    "    elif('11.6' in str(i)):\n",
    "        size_in_inches.append('11.6')\n",
    "    elif('16.1' in str(i)):\n",
    "        size_in_inches.append('16.1')\n",
    "    elif('14' in str(i)):    # If the screen size is 14 inches\n",
    "        size_in_inches.append('14')\n",
    "    elif('14.1' in str(i)):    # If the screen size is 14 inches\n",
    "        size_in_inches.append('14.1')\n",
    "    elif('14.5' in str(i)):    # If the screen size is 14 inches\n",
    "        size_in_inches.append('14.5')\n",
    "    elif('14.96' in str(i)):    # If the screen size is 14 inches\n",
    "        size_in_inches.append('15')\n",
    "    elif('12' in str(i)):  # If the screen size is 13.3 inches\n",
    "        size_in_inches.append('12')\n",
    "    elif('12.3' in str(i)):  # If the screen size is 13.3 inches\n",
    "        size_in_inches.append('12.3')\n",
    "    elif('13.3' in str(i)):  # If the screen size is 13.3 inches\n",
    "        size_in_inches.append('13.3')\n",
    "    elif('13.4' in str(i)):  # If the screen size is 13.3 inches\n",
    "        size_in_inches.append('13.4')\n",
    "    elif('13' in str(i)):    # If the screen size is 13 inches\n",
    "        size_in_inches.append('13')\n",
    "    elif('13.5' in str(i)):  # If the screen size is 13.5 inches\n",
    "        size_in_inches.append('13.5')\n",
    "    elif('13.6' in str(i)):  # If the screen size is 13.5 inches\n",
    "        size_in_inches.append('13.6')\n",
    "    elif('17.3' in str(i)):  # If the screen size is 17.3 inches\n",
    "        size_in_inches.append('17.3')\n",
    "    elif('16' in str(i)):    # If the screen size is 16 inches\n",
    "        size_in_inches.append('16')\n",
    "    elif('10' in str(i)):    # If the screen size is 10 inches\n",
    "        size_in_inches.append('10')\n",
    "    elif('15' in str(i)):    # If the screen size is 15 inches\n",
    "        size_in_inches.append('15')\n",
    "    elif('15.4' in str(i)):    # If the screen size is 15 inches\n",
    "        size_in_inches.append('15.4')\n",
    "    elif('15.6' in str(i)):    # If the screen size is 15 inches\n",
    "        size_in_inches.append('15.6')\n",
    "    else:\n",
    "        size_in_inches.append('0')\n",
    "dataset['size_in_inches'] = size_in_inches\n",
    "print(len(size_in_inches))\n",
    "dataset['size_in_inches']"
   ]
  },
  {
   "cell_type": "code",
   "execution_count": 771,
   "metadata": {},
   "outputs": [
    {
     "data": {
      "text/plain": [
       "size_in_inches\n",
       "15.6    570\n",
       "14      283\n",
       "11.6     68\n",
       "16       64\n",
       "13.3     47\n",
       "15       23\n",
       "17.3     22\n",
       "0        16\n",
       "13.4     15\n",
       "16.1     14\n",
       "13       14\n",
       "15.5      7\n",
       "10        5\n",
       "12        3\n",
       "Name: count, dtype: int64"
      ]
     },
     "execution_count": 771,
     "metadata": {},
     "output_type": "execute_result"
    }
   ],
   "source": [
    "dataset['size_in_inches'].value_counts()"
   ]
  },
  {
   "cell_type": "markdown",
   "metadata": {},
   "source": [
    "## 2. Touch Screen"
   ]
  },
  {
   "cell_type": "code",
   "execution_count": 772,
   "metadata": {},
   "outputs": [
    {
     "name": "stdout",
     "output_type": "stream",
     "text": [
      "1151\n"
     ]
    },
    {
     "data": {
      "text/plain": [
       "0        No\n",
       "1        No\n",
       "2        No\n",
       "3        No\n",
       "4        No\n",
       "       ... \n",
       "1146     No\n",
       "1147     No\n",
       "1148    Yes\n",
       "1149     No\n",
       "1150     No\n",
       "Name: touchscreen, Length: 1151, dtype: object"
      ]
     },
     "execution_count": 772,
     "metadata": {},
     "output_type": "execute_result"
    }
   ],
   "source": [
    "touchscreen = []\n",
    "for i in dataset['display']:\n",
    "  if('touchscreen' in i):     # If touchscreen is present\n",
    "    touchscreen.append('Yes')\n",
    "  else:\n",
    "    touchscreen.append('No')  # If there's no touchscreen option\n",
    "dataset['touchscreen'] = touchscreen\n",
    "print(len(touchscreen))\n",
    "dataset['touchscreen']"
   ]
  },
  {
   "cell_type": "code",
   "execution_count": 773,
   "metadata": {},
   "outputs": [
    {
     "data": {
      "text/plain": [
       "touchscreen\n",
       "No     1035\n",
       "Yes     116\n",
       "Name: count, dtype: int64"
      ]
     },
     "execution_count": 773,
     "metadata": {},
     "output_type": "execute_result"
    }
   ],
   "source": [
    "dataset['touchscreen'].value_counts()"
   ]
  },
  {
   "cell_type": "markdown",
   "metadata": {},
   "source": [
    "# Description"
   ]
  },
  {
   "cell_type": "code",
   "execution_count": 774,
   "metadata": {},
   "outputs": [
    {
     "data": {
      "text/plain": [
       "<bound method Series.unique of 0       primebook 4g android based mediatek mt8788 - (...\n",
       "1       primebook 4g android based mediatek mt8788 - (...\n",
       "2       asus vivobook 15 core i3 11th gen - (8 gb/512 ...\n",
       "3       asus vivobook 15 core i5 11th gen - (8 gb/512 ...\n",
       "4       hp 14s intel core i3 11th gen - (8 gb/512 gb s...\n",
       "                              ...                        \n",
       "1146    lenovo ideapad slim apu dual core a4 - (4 gb/6...\n",
       "1147    acer predator triton 300 core i7 9th gen - (8 ...\n",
       "1148    lenovo yoga 730 core i5 8th gen - (8 gb/512 gb...\n",
       "1149    asus zenbook core i7 10th gen - (16 gb/1 tb ss...\n",
       "1150    apple macbook pro core i7 7th gen - (16 gb/512...\n",
       "Name: description, Length: 1151, dtype: object>"
      ]
     },
     "execution_count": 774,
     "metadata": {},
     "output_type": "execute_result"
    }
   ],
   "source": [
    "dataset['description'] = dataset['Description'].copy() # Creating a copy of Description\n",
    "dataset['description'] = dataset['description'].str.lower()\n",
    "dataset['description'].unique # All the laptops are unique"
   ]
  },
  {
   "cell_type": "code",
   "execution_count": 775,
   "metadata": {},
   "outputs": [
    {
     "data": {
      "text/plain": [
       "0"
      ]
     },
     "execution_count": 775,
     "metadata": {},
     "output_type": "execute_result"
    }
   ],
   "source": [
    "sum(dataset['description'].isnull())"
   ]
  },
  {
   "cell_type": "markdown",
   "metadata": {},
   "source": [
    "## 1. Company Laptop"
   ]
  },
  {
   "cell_type": "code",
   "execution_count": 776,
   "metadata": {},
   "outputs": [
    {
     "name": "stdout",
     "output_type": "stream",
     "text": [
      "1151\n"
     ]
    },
    {
     "data": {
      "text/plain": [
       "0       Primebook\n",
       "1       Primebook\n",
       "2            Asus\n",
       "3            Asus\n",
       "4              HP\n",
       "          ...    \n",
       "1146       Lenovo\n",
       "1147         Acer\n",
       "1148       Lenovo\n",
       "1149         Asus\n",
       "1150        Apple\n",
       "Name: company, Length: 1151, dtype: object"
      ]
     },
     "execution_count": 776,
     "metadata": {},
     "output_type": "execute_result"
    }
   ],
   "source": [
    "company = []\n",
    "for i in dataset['description']:\n",
    "  if('dell' in str(i)):            # If its a Dell laptop\n",
    "    company.append('Dell')\n",
    "  elif('primebook' in str(i)):          # If its an Asus laptop\n",
    "    company.append('Primebook')\n",
    "  elif('realme' in str(i)):          # If its an Asus laptop\n",
    "    company.append('Realmebook')\n",
    "  elif('infinix' in str(i)):          # If its an Asus laptop\n",
    "    company.append('Infinix')\n",
    "  elif('samsung' in str(i)):          # If its an Asus laptop\n",
    "    company.append('Samsung')\n",
    "  elif('gigabyte' in str(i)):          # If its an Asus laptop\n",
    "    company.append('Gigabyte')\n",
    "  elif('alienware' in str(i)):          # If its an Asus laptop\n",
    "    company.append('alienware')\n",
    "  elif('surface' in str(i)):          # If its an Asus laptop\n",
    "    company.append('Surface')\n",
    "  elif('marq' in str(i)):          # If its an Asus laptop\n",
    "    company.append('MarQ')\n",
    "  elif('nexstgo' in str(i)):          # If its an Asus laptop\n",
    "    company.append('Nexstgo')\n",
    "  elif('spectre' in str(i)):          # If its an Asus laptop\n",
    "    company.append('Spectre')    \n",
    "  elif('asus' in str(i)):          # If its an Asus laptop\n",
    "    company.append('Asus')\n",
    "  elif('lenovo' in str(i)):        # If its a Lenovo laptop\n",
    "    company.append('Lenovo')\n",
    "  elif('acer' in str(i)):          # If its an Acer laptop\n",
    "    company.append('Acer')\n",
    "  elif('hp' in str(i)):            # If its a HP laptop\n",
    "    company.append('HP')\n",
    "  elif('apple' in str(i)):         # If its an Apple laptop\n",
    "    company.append('Apple')\n",
    "  elif('msi' in str(i)):           # If its a MSI laptop\n",
    "    company.append('MSI')\n",
    "  elif('avita' in str(i)):         # If its an Avita laptop\n",
    "    company.append('Avita')\n",
    "  else:\n",
    "    company.append('Surface')\n",
    "dataset['company'] = company\n",
    "print(len(company))\n",
    "dataset['company']"
   ]
  },
  {
   "cell_type": "code",
   "execution_count": 777,
   "metadata": {},
   "outputs": [
    {
     "data": {
      "text/plain": [
       "company\n",
       "Asus          274\n",
       "HP            265\n",
       "Lenovo        163\n",
       "Dell          114\n",
       "MSI            98\n",
       "Acer           67\n",
       "Primebook      65\n",
       "Apple          33\n",
       "Infinix        21\n",
       "Spectre        11\n",
       "Surface        11\n",
       "alienware       9\n",
       "Samsung         7\n",
       "Realmebook      5\n",
       "Avita           4\n",
       "Gigabyte        2\n",
       "MarQ            1\n",
       "Nexstgo         1\n",
       "Name: count, dtype: int64"
      ]
     },
     "execution_count": 777,
     "metadata": {},
     "output_type": "execute_result"
    }
   ],
   "source": [
    "dataset['company'].value_counts()"
   ]
  },
  {
   "cell_type": "markdown",
   "metadata": {},
   "source": [
    "## 3. Graphic Card\n"
   ]
  },
  {
   "cell_type": "code",
   "execution_count": 778,
   "metadata": {},
   "outputs": [
    {
     "name": "stdout",
     "output_type": "stream",
     "text": [
      "1151\n"
     ]
    },
    {
     "data": {
      "text/plain": [
       "0        No\n",
       "1        No\n",
       "2        No\n",
       "3        No\n",
       "4        No\n",
       "       ... \n",
       "1146     No\n",
       "1147    Yes\n",
       "1148     No\n",
       "1149     No\n",
       "1150    Yes\n",
       "Name: graphic_card, Length: 1151, dtype: object"
      ]
     },
     "execution_count": 778,
     "metadata": {},
     "output_type": "execute_result"
    }
   ],
   "source": [
    "graphic_card = []\n",
    "for i in dataset['description']:\n",
    "  if('graphics' in str(i)): # If Graphic card is present\n",
    "    graphic_card.append('Yes')\n",
    "  else:                # If Graphic card is not present\n",
    "    graphic_card.append('No')\n",
    "dataset['graphic_card'] = graphic_card\n",
    "print(len(graphic_card))\n",
    "dataset['graphic_card']"
   ]
  },
  {
   "cell_type": "code",
   "execution_count": 779,
   "metadata": {},
   "outputs": [
    {
     "data": {
      "text/plain": [
       "graphic_card\n",
       "No     830\n",
       "Yes    321\n",
       "Name: count, dtype: int64"
      ]
     },
     "execution_count": 779,
     "metadata": {},
     "output_type": "execute_result"
    }
   ],
   "source": [
    "dataset['graphic_card'].value_counts()"
   ]
  },
  {
   "cell_type": "markdown",
   "metadata": {},
   "source": [
    "# Final dataset"
   ]
  },
  {
   "cell_type": "code",
   "execution_count": 780,
   "metadata": {},
   "outputs": [
    {
     "data": {
      "text/html": [
       "<div>\n",
       "<style scoped>\n",
       "    .dataframe tbody tr th:only-of-type {\n",
       "        vertical-align: middle;\n",
       "    }\n",
       "\n",
       "    .dataframe tbody tr th {\n",
       "        vertical-align: top;\n",
       "    }\n",
       "\n",
       "    .dataframe thead th {\n",
       "        text-align: right;\n",
       "    }\n",
       "</style>\n",
       "<table border=\"1\" class=\"dataframe\">\n",
       "  <thead>\n",
       "    <tr style=\"text-align: right;\">\n",
       "      <th></th>\n",
       "      <th>Description</th>\n",
       "      <th>Processor</th>\n",
       "      <th>RAM</th>\n",
       "      <th>Operating System</th>\n",
       "      <th>Storage</th>\n",
       "      <th>Display</th>\n",
       "      <th>Warranty</th>\n",
       "      <th>Price</th>\n",
       "      <th>ram</th>\n",
       "      <th>ram_in_gb</th>\n",
       "      <th>...</th>\n",
       "      <th>OS</th>\n",
       "      <th>storage</th>\n",
       "      <th>disk_drive</th>\n",
       "      <th>storage_in_gb</th>\n",
       "      <th>display</th>\n",
       "      <th>size_in_inches</th>\n",
       "      <th>touchscreen</th>\n",
       "      <th>description</th>\n",
       "      <th>company</th>\n",
       "      <th>graphic_card</th>\n",
       "    </tr>\n",
       "  </thead>\n",
       "  <tbody>\n",
       "    <tr>\n",
       "      <th>0</th>\n",
       "      <td>Primebook 4G Android Based MediaTek MT8788 - (...</td>\n",
       "      <td>Intel Core i3 Processor (11th Gen)</td>\n",
       "      <td>4 GB DDR4 RAM</td>\n",
       "      <td>Prime OS Operating System</td>\n",
       "      <td>512 GB SSD</td>\n",
       "      <td>29.46 cm (11.6 Inch) Display</td>\n",
       "      <td>1 Year Onsite Warranty</td>\n",
       "      <td>16,990</td>\n",
       "      <td>4 GB DDR4 RAM</td>\n",
       "      <td>4</td>\n",
       "      <td>...</td>\n",
       "      <td>Windows</td>\n",
       "      <td>512 GB SSD</td>\n",
       "      <td>SSD</td>\n",
       "      <td>512</td>\n",
       "      <td>29.46 cm (11.6 inch) display</td>\n",
       "      <td>11.6</td>\n",
       "      <td>No</td>\n",
       "      <td>primebook 4g android based mediatek mt8788 - (...</td>\n",
       "      <td>Primebook</td>\n",
       "      <td>No</td>\n",
       "    </tr>\n",
       "    <tr>\n",
       "      <th>1</th>\n",
       "      <td>Primebook 4G Android Based MediaTek MT8788 - (...</td>\n",
       "      <td>Intel Core i5 Processor (11th Gen)</td>\n",
       "      <td>4 GB DDR4 RAM</td>\n",
       "      <td>Prime OS Operating System</td>\n",
       "      <td>512 GB SSD</td>\n",
       "      <td>29.46 cm (11.6 Inch) Display</td>\n",
       "      <td>1 Year Onsite Warranty</td>\n",
       "      <td>18,990</td>\n",
       "      <td>4 GB DDR4 RAM</td>\n",
       "      <td>4</td>\n",
       "      <td>...</td>\n",
       "      <td>Windows</td>\n",
       "      <td>512 GB SSD</td>\n",
       "      <td>SSD</td>\n",
       "      <td>512</td>\n",
       "      <td>29.46 cm (11.6 inch) display</td>\n",
       "      <td>11.6</td>\n",
       "      <td>No</td>\n",
       "      <td>primebook 4g android based mediatek mt8788 - (...</td>\n",
       "      <td>Primebook</td>\n",
       "      <td>No</td>\n",
       "    </tr>\n",
       "    <tr>\n",
       "      <th>2</th>\n",
       "      <td>ASUS Vivobook 15 Core i3 11th Gen - (8 GB/512 ...</td>\n",
       "      <td>Intel Core i3 Processor (11th Gen)</td>\n",
       "      <td>8 GB DDR4 RAM</td>\n",
       "      <td>64 bit Windows 11 Operating System</td>\n",
       "      <td>512 GB SSD</td>\n",
       "      <td>39.62 cm (15.6 Inch) Display</td>\n",
       "      <td>1 Year Onsite Warranty</td>\n",
       "      <td>38,990</td>\n",
       "      <td>8 GB DDR4 RAM</td>\n",
       "      <td>8</td>\n",
       "      <td>...</td>\n",
       "      <td>Windows</td>\n",
       "      <td>512 GB SSD</td>\n",
       "      <td>SSD</td>\n",
       "      <td>512</td>\n",
       "      <td>39.62 cm (15.6 inch) display</td>\n",
       "      <td>15.6</td>\n",
       "      <td>No</td>\n",
       "      <td>asus vivobook 15 core i3 11th gen - (8 gb/512 ...</td>\n",
       "      <td>Asus</td>\n",
       "      <td>No</td>\n",
       "    </tr>\n",
       "    <tr>\n",
       "      <th>3</th>\n",
       "      <td>ASUS Vivobook 15 Core i5 11th Gen - (8 GB/512 ...</td>\n",
       "      <td>AMD Ryzen 5 Hexa Core Processor</td>\n",
       "      <td>8 GB DDR4 RAM</td>\n",
       "      <td>64 bit Windows 11 Operating System</td>\n",
       "      <td>1 TB SSD</td>\n",
       "      <td>39.62 cm (15.6 Inch) Display</td>\n",
       "      <td>1 Year Onsite Warranty</td>\n",
       "      <td>47,990</td>\n",
       "      <td>8 GB DDR4 RAM</td>\n",
       "      <td>8</td>\n",
       "      <td>...</td>\n",
       "      <td>Windows</td>\n",
       "      <td>1 TB SSD</td>\n",
       "      <td>SSD</td>\n",
       "      <td>1000</td>\n",
       "      <td>39.62 cm (15.6 inch) display</td>\n",
       "      <td>15.6</td>\n",
       "      <td>No</td>\n",
       "      <td>asus vivobook 15 core i5 11th gen - (8 gb/512 ...</td>\n",
       "      <td>Asus</td>\n",
       "      <td>No</td>\n",
       "    </tr>\n",
       "    <tr>\n",
       "      <th>4</th>\n",
       "      <td>HP 14s Intel Core i3 11th Gen - (8 GB/512 GB S...</td>\n",
       "      <td>Intel Core i7 Processor (12th Gen)</td>\n",
       "      <td>8 GB DDR4 RAM</td>\n",
       "      <td>64 bit Windows 11 Operating System</td>\n",
       "      <td>256 GB SSD</td>\n",
       "      <td>35.56 cm (14 inch) Display</td>\n",
       "      <td>1 Year Onsite Warranty</td>\n",
       "      <td>38,990</td>\n",
       "      <td>8 GB DDR4 RAM</td>\n",
       "      <td>8</td>\n",
       "      <td>...</td>\n",
       "      <td>Windows</td>\n",
       "      <td>256 GB SSD</td>\n",
       "      <td>SSD</td>\n",
       "      <td>256</td>\n",
       "      <td>35.56 cm (14 inch) display</td>\n",
       "      <td>14</td>\n",
       "      <td>No</td>\n",
       "      <td>hp 14s intel core i3 11th gen - (8 gb/512 gb s...</td>\n",
       "      <td>HP</td>\n",
       "      <td>No</td>\n",
       "    </tr>\n",
       "    <tr>\n",
       "      <th>...</th>\n",
       "      <td>...</td>\n",
       "      <td>...</td>\n",
       "      <td>...</td>\n",
       "      <td>...</td>\n",
       "      <td>...</td>\n",
       "      <td>...</td>\n",
       "      <td>...</td>\n",
       "      <td>...</td>\n",
       "      <td>...</td>\n",
       "      <td>...</td>\n",
       "      <td>...</td>\n",
       "      <td>...</td>\n",
       "      <td>...</td>\n",
       "      <td>...</td>\n",
       "      <td>...</td>\n",
       "      <td>...</td>\n",
       "      <td>...</td>\n",
       "      <td>...</td>\n",
       "      <td>...</td>\n",
       "      <td>...</td>\n",
       "      <td>...</td>\n",
       "    </tr>\n",
       "    <tr>\n",
       "      <th>1146</th>\n",
       "      <td>Lenovo Ideapad Slim APU Dual Core A4 - (4 GB/6...</td>\n",
       "      <td>AMD APU Dual Core A4 Processor</td>\n",
       "      <td>4 GB DDR4 RAM</td>\n",
       "      <td>64 bit Windows 10 Operating System</td>\n",
       "      <td>128 GB SSD</td>\n",
       "      <td>35.56 cm (14 inch) Display</td>\n",
       "      <td>1 Year Onsite Warranty</td>\n",
       "      <td>20,990</td>\n",
       "      <td>4 GB DDR4 RAM</td>\n",
       "      <td>4</td>\n",
       "      <td>...</td>\n",
       "      <td>Windows</td>\n",
       "      <td>128 GB SSD</td>\n",
       "      <td>SSD</td>\n",
       "      <td>128</td>\n",
       "      <td>35.56 cm (14 inch) display</td>\n",
       "      <td>14</td>\n",
       "      <td>No</td>\n",
       "      <td>lenovo ideapad slim apu dual core a4 - (4 gb/6...</td>\n",
       "      <td>Lenovo</td>\n",
       "      <td>No</td>\n",
       "    </tr>\n",
       "    <tr>\n",
       "      <th>1147</th>\n",
       "      <td>Acer Predator Triton 300 Core i7 9th Gen - (8 ...</td>\n",
       "      <td>Intel Core i7 Processor (9th Gen)</td>\n",
       "      <td>8 GB DDR4 RAM</td>\n",
       "      <td>64 bit Windows 10 Operating System</td>\n",
       "      <td>2 TB HDD|256 GB SSD</td>\n",
       "      <td>39.62 cm (15.6 inch) Display</td>\n",
       "      <td>1 Year International Travelers Warranty (ITW)</td>\n",
       "      <td>97,990</td>\n",
       "      <td>8 GB DDR4 RAM</td>\n",
       "      <td>8</td>\n",
       "      <td>...</td>\n",
       "      <td>Windows</td>\n",
       "      <td>2 TB HDD|256 GB SSD</td>\n",
       "      <td>Both</td>\n",
       "      <td>1000+256</td>\n",
       "      <td>39.62 cm (15.6 inch) display</td>\n",
       "      <td>15.6</td>\n",
       "      <td>No</td>\n",
       "      <td>acer predator triton 300 core i7 9th gen - (8 ...</td>\n",
       "      <td>Acer</td>\n",
       "      <td>Yes</td>\n",
       "    </tr>\n",
       "    <tr>\n",
       "      <th>1148</th>\n",
       "      <td>Lenovo Yoga 730 Core i5 8th Gen - (8 GB/512 GB...</td>\n",
       "      <td>Intel Core i5 Processor (8th Gen)</td>\n",
       "      <td>8 GB DDR4 RAM</td>\n",
       "      <td>64 bit Windows 10 Operating System</td>\n",
       "      <td>512 GB SSD</td>\n",
       "      <td>33.78 cm (13.3 inch) Touchscreen Display</td>\n",
       "      <td>1 Year Onsite Warranty</td>\n",
       "      <td>94,990</td>\n",
       "      <td>8 GB DDR4 RAM</td>\n",
       "      <td>8</td>\n",
       "      <td>...</td>\n",
       "      <td>Windows</td>\n",
       "      <td>512 GB SSD</td>\n",
       "      <td>SSD</td>\n",
       "      <td>512</td>\n",
       "      <td>33.78 cm (13.3 inch) touchscreen display</td>\n",
       "      <td>13.3</td>\n",
       "      <td>Yes</td>\n",
       "      <td>lenovo yoga 730 core i5 8th gen - (8 gb/512 gb...</td>\n",
       "      <td>Lenovo</td>\n",
       "      <td>No</td>\n",
       "    </tr>\n",
       "    <tr>\n",
       "      <th>1149</th>\n",
       "      <td>Asus ZenBook Core i7 10th Gen - (16 GB/1 TB SS...</td>\n",
       "      <td>Intel Core i7 Processor (10th Gen)</td>\n",
       "      <td>16 GB DDR4 RAM</td>\n",
       "      <td>64 bit Windows 10 Operating System</td>\n",
       "      <td>1 TB SSD</td>\n",
       "      <td>33.78 cm (13.3 inch) Display</td>\n",
       "      <td>1 Year Onsite Warranty</td>\n",
       "      <td>99,990</td>\n",
       "      <td>16 GB DDR4 RAM</td>\n",
       "      <td>16</td>\n",
       "      <td>...</td>\n",
       "      <td>Windows</td>\n",
       "      <td>1 TB SSD</td>\n",
       "      <td>SSD</td>\n",
       "      <td>1000</td>\n",
       "      <td>33.78 cm (13.3 inch) display</td>\n",
       "      <td>13.3</td>\n",
       "      <td>No</td>\n",
       "      <td>asus zenbook core i7 10th gen - (16 gb/1 tb ss...</td>\n",
       "      <td>Asus</td>\n",
       "      <td>No</td>\n",
       "    </tr>\n",
       "    <tr>\n",
       "      <th>1150</th>\n",
       "      <td>Apple MacBook Pro Core i7 7th Gen - (16 GB/512...</td>\n",
       "      <td>Intel Core i7 Processor (7th Gen)</td>\n",
       "      <td>16 GB DDR3 RAM</td>\n",
       "      <td>64 bit Mac OS Operating System</td>\n",
       "      <td>512 GB SSD</td>\n",
       "      <td>39.12 cm (15.4 inch) Display</td>\n",
       "      <td>1 Year Warranty</td>\n",
       "      <td>2,29,990</td>\n",
       "      <td>16 GB DDR3 RAM</td>\n",
       "      <td>16</td>\n",
       "      <td>...</td>\n",
       "      <td>Mac</td>\n",
       "      <td>512 GB SSD</td>\n",
       "      <td>SSD</td>\n",
       "      <td>512</td>\n",
       "      <td>39.12 cm (15.4 inch) display</td>\n",
       "      <td>12</td>\n",
       "      <td>No</td>\n",
       "      <td>apple macbook pro core i7 7th gen - (16 gb/512...</td>\n",
       "      <td>Apple</td>\n",
       "      <td>Yes</td>\n",
       "    </tr>\n",
       "  </tbody>\n",
       "</table>\n",
       "<p>1151 rows × 24 columns</p>\n",
       "</div>"
      ],
      "text/plain": [
       "                                            Description  \\\n",
       "0     Primebook 4G Android Based MediaTek MT8788 - (...   \n",
       "1     Primebook 4G Android Based MediaTek MT8788 - (...   \n",
       "2     ASUS Vivobook 15 Core i3 11th Gen - (8 GB/512 ...   \n",
       "3     ASUS Vivobook 15 Core i5 11th Gen - (8 GB/512 ...   \n",
       "4     HP 14s Intel Core i3 11th Gen - (8 GB/512 GB S...   \n",
       "...                                                 ...   \n",
       "1146  Lenovo Ideapad Slim APU Dual Core A4 - (4 GB/6...   \n",
       "1147  Acer Predator Triton 300 Core i7 9th Gen - (8 ...   \n",
       "1148  Lenovo Yoga 730 Core i5 8th Gen - (8 GB/512 GB...   \n",
       "1149  Asus ZenBook Core i7 10th Gen - (16 GB/1 TB SS...   \n",
       "1150  Apple MacBook Pro Core i7 7th Gen - (16 GB/512...   \n",
       "\n",
       "                               Processor             RAM  \\\n",
       "0     Intel Core i3 Processor (11th Gen)   4 GB DDR4 RAM   \n",
       "1     Intel Core i5 Processor (11th Gen)   4 GB DDR4 RAM   \n",
       "2     Intel Core i3 Processor (11th Gen)   8 GB DDR4 RAM   \n",
       "3        AMD Ryzen 5 Hexa Core Processor   8 GB DDR4 RAM   \n",
       "4     Intel Core i7 Processor (12th Gen)   8 GB DDR4 RAM   \n",
       "...                                  ...             ...   \n",
       "1146      AMD APU Dual Core A4 Processor   4 GB DDR4 RAM   \n",
       "1147   Intel Core i7 Processor (9th Gen)   8 GB DDR4 RAM   \n",
       "1148   Intel Core i5 Processor (8th Gen)   8 GB DDR4 RAM   \n",
       "1149  Intel Core i7 Processor (10th Gen)  16 GB DDR4 RAM   \n",
       "1150   Intel Core i7 Processor (7th Gen)  16 GB DDR3 RAM   \n",
       "\n",
       "                        Operating System              Storage  \\\n",
       "0              Prime OS Operating System           512 GB SSD   \n",
       "1              Prime OS Operating System           512 GB SSD   \n",
       "2     64 bit Windows 11 Operating System           512 GB SSD   \n",
       "3     64 bit Windows 11 Operating System             1 TB SSD   \n",
       "4     64 bit Windows 11 Operating System           256 GB SSD   \n",
       "...                                  ...                  ...   \n",
       "1146  64 bit Windows 10 Operating System           128 GB SSD   \n",
       "1147  64 bit Windows 10 Operating System  2 TB HDD|256 GB SSD   \n",
       "1148  64 bit Windows 10 Operating System           512 GB SSD   \n",
       "1149  64 bit Windows 10 Operating System             1 TB SSD   \n",
       "1150      64 bit Mac OS Operating System           512 GB SSD   \n",
       "\n",
       "                                       Display  \\\n",
       "0                 29.46 cm (11.6 Inch) Display   \n",
       "1                 29.46 cm (11.6 Inch) Display   \n",
       "2                 39.62 cm (15.6 Inch) Display   \n",
       "3                 39.62 cm (15.6 Inch) Display   \n",
       "4                   35.56 cm (14 inch) Display   \n",
       "...                                        ...   \n",
       "1146                35.56 cm (14 inch) Display   \n",
       "1147              39.62 cm (15.6 inch) Display   \n",
       "1148  33.78 cm (13.3 inch) Touchscreen Display   \n",
       "1149              33.78 cm (13.3 inch) Display   \n",
       "1150              39.12 cm (15.4 inch) Display   \n",
       "\n",
       "                                           Warranty     Price             ram  \\\n",
       "0                            1 Year Onsite Warranty    16,990   4 GB DDR4 RAM   \n",
       "1                            1 Year Onsite Warranty    18,990   4 GB DDR4 RAM   \n",
       "2                            1 Year Onsite Warranty    38,990   8 GB DDR4 RAM   \n",
       "3                            1 Year Onsite Warranty    47,990   8 GB DDR4 RAM   \n",
       "4                            1 Year Onsite Warranty    38,990   8 GB DDR4 RAM   \n",
       "...                                             ...       ...             ...   \n",
       "1146                         1 Year Onsite Warranty    20,990   4 GB DDR4 RAM   \n",
       "1147  1 Year International Travelers Warranty (ITW)    97,990   8 GB DDR4 RAM   \n",
       "1148                         1 Year Onsite Warranty    94,990   8 GB DDR4 RAM   \n",
       "1149                         1 Year Onsite Warranty    99,990  16 GB DDR4 RAM   \n",
       "1150                                1 Year Warranty  2,29,990  16 GB DDR3 RAM   \n",
       "\n",
       "     ram_in_gb  ...       OS              storage disk_drive storage_in_gb  \\\n",
       "0            4  ...  Windows           512 GB SSD        SSD           512   \n",
       "1            4  ...  Windows           512 GB SSD        SSD           512   \n",
       "2            8  ...  Windows           512 GB SSD        SSD           512   \n",
       "3            8  ...  Windows             1 TB SSD        SSD          1000   \n",
       "4            8  ...  Windows           256 GB SSD        SSD           256   \n",
       "...        ...  ...      ...                  ...        ...           ...   \n",
       "1146         4  ...  Windows           128 GB SSD        SSD           128   \n",
       "1147         8  ...  Windows  2 TB HDD|256 GB SSD       Both      1000+256   \n",
       "1148         8  ...  Windows           512 GB SSD        SSD           512   \n",
       "1149        16  ...  Windows             1 TB SSD        SSD          1000   \n",
       "1150        16  ...      Mac           512 GB SSD        SSD           512   \n",
       "\n",
       "                                       display size_in_inches touchscreen  \\\n",
       "0                 29.46 cm (11.6 inch) display           11.6          No   \n",
       "1                 29.46 cm (11.6 inch) display           11.6          No   \n",
       "2                 39.62 cm (15.6 inch) display           15.6          No   \n",
       "3                 39.62 cm (15.6 inch) display           15.6          No   \n",
       "4                   35.56 cm (14 inch) display             14          No   \n",
       "...                                        ...            ...         ...   \n",
       "1146                35.56 cm (14 inch) display             14          No   \n",
       "1147              39.62 cm (15.6 inch) display           15.6          No   \n",
       "1148  33.78 cm (13.3 inch) touchscreen display           13.3         Yes   \n",
       "1149              33.78 cm (13.3 inch) display           13.3          No   \n",
       "1150              39.12 cm (15.4 inch) display             12          No   \n",
       "\n",
       "                                            description    company  \\\n",
       "0     primebook 4g android based mediatek mt8788 - (...  Primebook   \n",
       "1     primebook 4g android based mediatek mt8788 - (...  Primebook   \n",
       "2     asus vivobook 15 core i3 11th gen - (8 gb/512 ...       Asus   \n",
       "3     asus vivobook 15 core i5 11th gen - (8 gb/512 ...       Asus   \n",
       "4     hp 14s intel core i3 11th gen - (8 gb/512 gb s...         HP   \n",
       "...                                                 ...        ...   \n",
       "1146  lenovo ideapad slim apu dual core a4 - (4 gb/6...     Lenovo   \n",
       "1147  acer predator triton 300 core i7 9th gen - (8 ...       Acer   \n",
       "1148  lenovo yoga 730 core i5 8th gen - (8 gb/512 gb...     Lenovo   \n",
       "1149  asus zenbook core i7 10th gen - (16 gb/1 tb ss...       Asus   \n",
       "1150  apple macbook pro core i7 7th gen - (16 gb/512...      Apple   \n",
       "\n",
       "     graphic_card  \n",
       "0              No  \n",
       "1              No  \n",
       "2              No  \n",
       "3              No  \n",
       "4              No  \n",
       "...           ...  \n",
       "1146           No  \n",
       "1147          Yes  \n",
       "1148           No  \n",
       "1149           No  \n",
       "1150          Yes  \n",
       "\n",
       "[1151 rows x 24 columns]"
      ]
     },
     "execution_count": 780,
     "metadata": {},
     "output_type": "execute_result"
    }
   ],
   "source": [
    "dataset"
   ]
  },
  {
   "cell_type": "code",
   "execution_count": 781,
   "metadata": {},
   "outputs": [
    {
     "data": {
      "text/plain": [
       "Index(['Description', 'Processor', 'RAM', 'Operating System', 'Storage',\n",
       "       'Display', 'Warranty', 'Price', 'ram', 'ram_in_gb', 'ddr_version',\n",
       "       'processor', 'processor_name', 'gen_type', 'OS', 'storage',\n",
       "       'disk_drive', 'storage_in_gb', 'display', 'size_in_inches',\n",
       "       'touchscreen', 'description', 'company', 'graphic_card'],\n",
       "      dtype='object')"
      ]
     },
     "execution_count": 781,
     "metadata": {},
     "output_type": "execute_result"
    }
   ],
   "source": [
    "dataset.columns"
   ]
  },
  {
   "cell_type": "code",
   "execution_count": 782,
   "metadata": {},
   "outputs": [],
   "source": [
    "dataset.drop(['ram','storage','processor','display','description'],axis=1,inplace=True)"
   ]
  },
  {
   "cell_type": "code",
   "execution_count": 783,
   "metadata": {},
   "outputs": [],
   "source": [
    "# dataset = dataset.drop(columns=[\"Description\",\"Processor\",\"RAM\",\"Operating System\",\n",
    "#                                 \"Storage\",\"Display\",\"Warranty\",\"processor\",\n",
    "#                                 \"display\",\"description\",'storage','ram'],axis=1)\n",
    "# dataset"
   ]
  },
  {
   "cell_type": "code",
   "execution_count": 784,
   "metadata": {},
   "outputs": [],
   "source": [
    "dataset.to_csv('dataset.csv')"
   ]
  },
  {
   "cell_type": "markdown",
   "metadata": {},
   "source": [
    "# Data Cleaning"
   ]
  },
  {
   "cell_type": "code",
   "execution_count": 785,
   "metadata": {},
   "outputs": [
    {
     "data": {
      "text/html": [
       "<div>\n",
       "<style scoped>\n",
       "    .dataframe tbody tr th:only-of-type {\n",
       "        vertical-align: middle;\n",
       "    }\n",
       "\n",
       "    .dataframe tbody tr th {\n",
       "        vertical-align: top;\n",
       "    }\n",
       "\n",
       "    .dataframe thead th {\n",
       "        text-align: right;\n",
       "    }\n",
       "</style>\n",
       "<table border=\"1\" class=\"dataframe\">\n",
       "  <thead>\n",
       "    <tr style=\"text-align: right;\">\n",
       "      <th></th>\n",
       "      <th>Description</th>\n",
       "      <th>Processor</th>\n",
       "      <th>RAM</th>\n",
       "      <th>Operating System</th>\n",
       "      <th>Storage</th>\n",
       "      <th>Display</th>\n",
       "      <th>Warranty</th>\n",
       "      <th>Price</th>\n",
       "      <th>ram_in_gb</th>\n",
       "      <th>ddr_version</th>\n",
       "      <th>processor_name</th>\n",
       "      <th>gen_type</th>\n",
       "      <th>OS</th>\n",
       "      <th>disk_drive</th>\n",
       "      <th>storage_in_gb</th>\n",
       "      <th>size_in_inches</th>\n",
       "      <th>touchscreen</th>\n",
       "      <th>company</th>\n",
       "      <th>graphic_card</th>\n",
       "    </tr>\n",
       "  </thead>\n",
       "  <tbody>\n",
       "    <tr>\n",
       "      <th>0</th>\n",
       "      <td>Primebook 4G Android Based MediaTek MT8788 - (...</td>\n",
       "      <td>Intel Core i3 Processor (11th Gen)</td>\n",
       "      <td>4 GB DDR4 RAM</td>\n",
       "      <td>Prime OS Operating System</td>\n",
       "      <td>512 GB SSD</td>\n",
       "      <td>29.46 cm (11.6 Inch) Display</td>\n",
       "      <td>1 Year Onsite Warranty</td>\n",
       "      <td>16,990</td>\n",
       "      <td>4</td>\n",
       "      <td>4</td>\n",
       "      <td>Intel</td>\n",
       "      <td>10</td>\n",
       "      <td>Windows</td>\n",
       "      <td>SSD</td>\n",
       "      <td>512</td>\n",
       "      <td>11.6</td>\n",
       "      <td>No</td>\n",
       "      <td>Primebook</td>\n",
       "      <td>No</td>\n",
       "    </tr>\n",
       "    <tr>\n",
       "      <th>1</th>\n",
       "      <td>Primebook 4G Android Based MediaTek MT8788 - (...</td>\n",
       "      <td>Intel Core i5 Processor (11th Gen)</td>\n",
       "      <td>4 GB DDR4 RAM</td>\n",
       "      <td>Prime OS Operating System</td>\n",
       "      <td>512 GB SSD</td>\n",
       "      <td>29.46 cm (11.6 Inch) Display</td>\n",
       "      <td>1 Year Onsite Warranty</td>\n",
       "      <td>18,990</td>\n",
       "      <td>4</td>\n",
       "      <td>4</td>\n",
       "      <td>Intel</td>\n",
       "      <td>10</td>\n",
       "      <td>Windows</td>\n",
       "      <td>SSD</td>\n",
       "      <td>512</td>\n",
       "      <td>11.6</td>\n",
       "      <td>No</td>\n",
       "      <td>Primebook</td>\n",
       "      <td>No</td>\n",
       "    </tr>\n",
       "    <tr>\n",
       "      <th>2</th>\n",
       "      <td>ASUS Vivobook 15 Core i3 11th Gen - (8 GB/512 ...</td>\n",
       "      <td>Intel Core i3 Processor (11th Gen)</td>\n",
       "      <td>8 GB DDR4 RAM</td>\n",
       "      <td>64 bit Windows 11 Operating System</td>\n",
       "      <td>512 GB SSD</td>\n",
       "      <td>39.62 cm (15.6 Inch) Display</td>\n",
       "      <td>1 Year Onsite Warranty</td>\n",
       "      <td>38,990</td>\n",
       "      <td>8</td>\n",
       "      <td>4</td>\n",
       "      <td>Intel</td>\n",
       "      <td>10</td>\n",
       "      <td>Windows</td>\n",
       "      <td>SSD</td>\n",
       "      <td>512</td>\n",
       "      <td>15.6</td>\n",
       "      <td>No</td>\n",
       "      <td>Asus</td>\n",
       "      <td>No</td>\n",
       "    </tr>\n",
       "    <tr>\n",
       "      <th>3</th>\n",
       "      <td>ASUS Vivobook 15 Core i5 11th Gen - (8 GB/512 ...</td>\n",
       "      <td>AMD Ryzen 5 Hexa Core Processor</td>\n",
       "      <td>8 GB DDR4 RAM</td>\n",
       "      <td>64 bit Windows 11 Operating System</td>\n",
       "      <td>1 TB SSD</td>\n",
       "      <td>39.62 cm (15.6 Inch) Display</td>\n",
       "      <td>1 Year Onsite Warranty</td>\n",
       "      <td>47,990</td>\n",
       "      <td>8</td>\n",
       "      <td>4</td>\n",
       "      <td>AMD</td>\n",
       "      <td>Not Mentioned</td>\n",
       "      <td>Windows</td>\n",
       "      <td>SSD</td>\n",
       "      <td>1000</td>\n",
       "      <td>15.6</td>\n",
       "      <td>No</td>\n",
       "      <td>Asus</td>\n",
       "      <td>No</td>\n",
       "    </tr>\n",
       "    <tr>\n",
       "      <th>4</th>\n",
       "      <td>HP 14s Intel Core i3 11th Gen - (8 GB/512 GB S...</td>\n",
       "      <td>Intel Core i7 Processor (12th Gen)</td>\n",
       "      <td>8 GB DDR4 RAM</td>\n",
       "      <td>64 bit Windows 11 Operating System</td>\n",
       "      <td>256 GB SSD</td>\n",
       "      <td>35.56 cm (14 inch) Display</td>\n",
       "      <td>1 Year Onsite Warranty</td>\n",
       "      <td>38,990</td>\n",
       "      <td>8</td>\n",
       "      <td>4</td>\n",
       "      <td>Intel</td>\n",
       "      <td>10</td>\n",
       "      <td>Windows</td>\n",
       "      <td>SSD</td>\n",
       "      <td>256</td>\n",
       "      <td>14.0</td>\n",
       "      <td>No</td>\n",
       "      <td>HP</td>\n",
       "      <td>No</td>\n",
       "    </tr>\n",
       "    <tr>\n",
       "      <th>...</th>\n",
       "      <td>...</td>\n",
       "      <td>...</td>\n",
       "      <td>...</td>\n",
       "      <td>...</td>\n",
       "      <td>...</td>\n",
       "      <td>...</td>\n",
       "      <td>...</td>\n",
       "      <td>...</td>\n",
       "      <td>...</td>\n",
       "      <td>...</td>\n",
       "      <td>...</td>\n",
       "      <td>...</td>\n",
       "      <td>...</td>\n",
       "      <td>...</td>\n",
       "      <td>...</td>\n",
       "      <td>...</td>\n",
       "      <td>...</td>\n",
       "      <td>...</td>\n",
       "      <td>...</td>\n",
       "    </tr>\n",
       "    <tr>\n",
       "      <th>1146</th>\n",
       "      <td>Lenovo Ideapad Slim APU Dual Core A4 - (4 GB/6...</td>\n",
       "      <td>AMD APU Dual Core A4 Processor</td>\n",
       "      <td>4 GB DDR4 RAM</td>\n",
       "      <td>64 bit Windows 10 Operating System</td>\n",
       "      <td>128 GB SSD</td>\n",
       "      <td>35.56 cm (14 inch) Display</td>\n",
       "      <td>1 Year Onsite Warranty</td>\n",
       "      <td>20,990</td>\n",
       "      <td>4</td>\n",
       "      <td>4</td>\n",
       "      <td>AMD</td>\n",
       "      <td>Not Mentioned</td>\n",
       "      <td>Windows</td>\n",
       "      <td>SSD</td>\n",
       "      <td>128</td>\n",
       "      <td>14.0</td>\n",
       "      <td>No</td>\n",
       "      <td>Lenovo</td>\n",
       "      <td>No</td>\n",
       "    </tr>\n",
       "    <tr>\n",
       "      <th>1147</th>\n",
       "      <td>Acer Predator Triton 300 Core i7 9th Gen - (8 ...</td>\n",
       "      <td>Intel Core i7 Processor (9th Gen)</td>\n",
       "      <td>8 GB DDR4 RAM</td>\n",
       "      <td>64 bit Windows 10 Operating System</td>\n",
       "      <td>2 TB HDD|256 GB SSD</td>\n",
       "      <td>39.62 cm (15.6 inch) Display</td>\n",
       "      <td>1 Year International Travelers Warranty (ITW)</td>\n",
       "      <td>97,990</td>\n",
       "      <td>8</td>\n",
       "      <td>4</td>\n",
       "      <td>Intel</td>\n",
       "      <td>9</td>\n",
       "      <td>Windows</td>\n",
       "      <td>Both</td>\n",
       "      <td>1000+256</td>\n",
       "      <td>15.6</td>\n",
       "      <td>No</td>\n",
       "      <td>Acer</td>\n",
       "      <td>Yes</td>\n",
       "    </tr>\n",
       "    <tr>\n",
       "      <th>1148</th>\n",
       "      <td>Lenovo Yoga 730 Core i5 8th Gen - (8 GB/512 GB...</td>\n",
       "      <td>Intel Core i5 Processor (8th Gen)</td>\n",
       "      <td>8 GB DDR4 RAM</td>\n",
       "      <td>64 bit Windows 10 Operating System</td>\n",
       "      <td>512 GB SSD</td>\n",
       "      <td>33.78 cm (13.3 inch) Touchscreen Display</td>\n",
       "      <td>1 Year Onsite Warranty</td>\n",
       "      <td>94,990</td>\n",
       "      <td>8</td>\n",
       "      <td>4</td>\n",
       "      <td>Intel</td>\n",
       "      <td>8</td>\n",
       "      <td>Windows</td>\n",
       "      <td>SSD</td>\n",
       "      <td>512</td>\n",
       "      <td>13.3</td>\n",
       "      <td>Yes</td>\n",
       "      <td>Lenovo</td>\n",
       "      <td>No</td>\n",
       "    </tr>\n",
       "    <tr>\n",
       "      <th>1149</th>\n",
       "      <td>Asus ZenBook Core i7 10th Gen - (16 GB/1 TB SS...</td>\n",
       "      <td>Intel Core i7 Processor (10th Gen)</td>\n",
       "      <td>16 GB DDR4 RAM</td>\n",
       "      <td>64 bit Windows 10 Operating System</td>\n",
       "      <td>1 TB SSD</td>\n",
       "      <td>33.78 cm (13.3 inch) Display</td>\n",
       "      <td>1 Year Onsite Warranty</td>\n",
       "      <td>99,990</td>\n",
       "      <td>16</td>\n",
       "      <td>4</td>\n",
       "      <td>Intel</td>\n",
       "      <td>10</td>\n",
       "      <td>Windows</td>\n",
       "      <td>SSD</td>\n",
       "      <td>1000</td>\n",
       "      <td>13.3</td>\n",
       "      <td>No</td>\n",
       "      <td>Asus</td>\n",
       "      <td>No</td>\n",
       "    </tr>\n",
       "    <tr>\n",
       "      <th>1150</th>\n",
       "      <td>Apple MacBook Pro Core i7 7th Gen - (16 GB/512...</td>\n",
       "      <td>Intel Core i7 Processor (7th Gen)</td>\n",
       "      <td>16 GB DDR3 RAM</td>\n",
       "      <td>64 bit Mac OS Operating System</td>\n",
       "      <td>512 GB SSD</td>\n",
       "      <td>39.12 cm (15.4 inch) Display</td>\n",
       "      <td>1 Year Warranty</td>\n",
       "      <td>2,29,990</td>\n",
       "      <td>16</td>\n",
       "      <td>3</td>\n",
       "      <td>Intel</td>\n",
       "      <td>7</td>\n",
       "      <td>Mac</td>\n",
       "      <td>SSD</td>\n",
       "      <td>512</td>\n",
       "      <td>12.0</td>\n",
       "      <td>No</td>\n",
       "      <td>Apple</td>\n",
       "      <td>Yes</td>\n",
       "    </tr>\n",
       "  </tbody>\n",
       "</table>\n",
       "<p>1151 rows × 19 columns</p>\n",
       "</div>"
      ],
      "text/plain": [
       "                                            Description  \\\n",
       "0     Primebook 4G Android Based MediaTek MT8788 - (...   \n",
       "1     Primebook 4G Android Based MediaTek MT8788 - (...   \n",
       "2     ASUS Vivobook 15 Core i3 11th Gen - (8 GB/512 ...   \n",
       "3     ASUS Vivobook 15 Core i5 11th Gen - (8 GB/512 ...   \n",
       "4     HP 14s Intel Core i3 11th Gen - (8 GB/512 GB S...   \n",
       "...                                                 ...   \n",
       "1146  Lenovo Ideapad Slim APU Dual Core A4 - (4 GB/6...   \n",
       "1147  Acer Predator Triton 300 Core i7 9th Gen - (8 ...   \n",
       "1148  Lenovo Yoga 730 Core i5 8th Gen - (8 GB/512 GB...   \n",
       "1149  Asus ZenBook Core i7 10th Gen - (16 GB/1 TB SS...   \n",
       "1150  Apple MacBook Pro Core i7 7th Gen - (16 GB/512...   \n",
       "\n",
       "                               Processor             RAM  \\\n",
       "0     Intel Core i3 Processor (11th Gen)   4 GB DDR4 RAM   \n",
       "1     Intel Core i5 Processor (11th Gen)   4 GB DDR4 RAM   \n",
       "2     Intel Core i3 Processor (11th Gen)   8 GB DDR4 RAM   \n",
       "3        AMD Ryzen 5 Hexa Core Processor   8 GB DDR4 RAM   \n",
       "4     Intel Core i7 Processor (12th Gen)   8 GB DDR4 RAM   \n",
       "...                                  ...             ...   \n",
       "1146      AMD APU Dual Core A4 Processor   4 GB DDR4 RAM   \n",
       "1147   Intel Core i7 Processor (9th Gen)   8 GB DDR4 RAM   \n",
       "1148   Intel Core i5 Processor (8th Gen)   8 GB DDR4 RAM   \n",
       "1149  Intel Core i7 Processor (10th Gen)  16 GB DDR4 RAM   \n",
       "1150   Intel Core i7 Processor (7th Gen)  16 GB DDR3 RAM   \n",
       "\n",
       "                        Operating System              Storage  \\\n",
       "0              Prime OS Operating System           512 GB SSD   \n",
       "1              Prime OS Operating System           512 GB SSD   \n",
       "2     64 bit Windows 11 Operating System           512 GB SSD   \n",
       "3     64 bit Windows 11 Operating System             1 TB SSD   \n",
       "4     64 bit Windows 11 Operating System           256 GB SSD   \n",
       "...                                  ...                  ...   \n",
       "1146  64 bit Windows 10 Operating System           128 GB SSD   \n",
       "1147  64 bit Windows 10 Operating System  2 TB HDD|256 GB SSD   \n",
       "1148  64 bit Windows 10 Operating System           512 GB SSD   \n",
       "1149  64 bit Windows 10 Operating System             1 TB SSD   \n",
       "1150      64 bit Mac OS Operating System           512 GB SSD   \n",
       "\n",
       "                                       Display  \\\n",
       "0                 29.46 cm (11.6 Inch) Display   \n",
       "1                 29.46 cm (11.6 Inch) Display   \n",
       "2                 39.62 cm (15.6 Inch) Display   \n",
       "3                 39.62 cm (15.6 Inch) Display   \n",
       "4                   35.56 cm (14 inch) Display   \n",
       "...                                        ...   \n",
       "1146                35.56 cm (14 inch) Display   \n",
       "1147              39.62 cm (15.6 inch) Display   \n",
       "1148  33.78 cm (13.3 inch) Touchscreen Display   \n",
       "1149              33.78 cm (13.3 inch) Display   \n",
       "1150              39.12 cm (15.4 inch) Display   \n",
       "\n",
       "                                           Warranty     Price  ram_in_gb  \\\n",
       "0                            1 Year Onsite Warranty    16,990          4   \n",
       "1                            1 Year Onsite Warranty    18,990          4   \n",
       "2                            1 Year Onsite Warranty    38,990          8   \n",
       "3                            1 Year Onsite Warranty    47,990          8   \n",
       "4                            1 Year Onsite Warranty    38,990          8   \n",
       "...                                             ...       ...        ...   \n",
       "1146                         1 Year Onsite Warranty    20,990          4   \n",
       "1147  1 Year International Travelers Warranty (ITW)    97,990          8   \n",
       "1148                         1 Year Onsite Warranty    94,990          8   \n",
       "1149                         1 Year Onsite Warranty    99,990         16   \n",
       "1150                                1 Year Warranty  2,29,990         16   \n",
       "\n",
       "      ddr_version processor_name       gen_type       OS disk_drive  \\\n",
       "0               4          Intel             10  Windows        SSD   \n",
       "1               4          Intel             10  Windows        SSD   \n",
       "2               4          Intel             10  Windows        SSD   \n",
       "3               4            AMD  Not Mentioned  Windows        SSD   \n",
       "4               4          Intel             10  Windows        SSD   \n",
       "...           ...            ...            ...      ...        ...   \n",
       "1146            4            AMD  Not Mentioned  Windows        SSD   \n",
       "1147            4          Intel              9  Windows       Both   \n",
       "1148            4          Intel              8  Windows        SSD   \n",
       "1149            4          Intel             10  Windows        SSD   \n",
       "1150            3          Intel              7      Mac        SSD   \n",
       "\n",
       "     storage_in_gb  size_in_inches touchscreen    company graphic_card  \n",
       "0              512            11.6          No  Primebook           No  \n",
       "1              512            11.6          No  Primebook           No  \n",
       "2              512            15.6          No       Asus           No  \n",
       "3             1000            15.6          No       Asus           No  \n",
       "4              256            14.0          No         HP           No  \n",
       "...            ...             ...         ...        ...          ...  \n",
       "1146           128            14.0          No     Lenovo           No  \n",
       "1147      1000+256            15.6          No       Acer          Yes  \n",
       "1148           512            13.3         Yes     Lenovo           No  \n",
       "1149          1000            13.3          No       Asus           No  \n",
       "1150           512            12.0          No      Apple          Yes  \n",
       "\n",
       "[1151 rows x 19 columns]"
      ]
     },
     "execution_count": 785,
     "metadata": {},
     "output_type": "execute_result"
    }
   ],
   "source": [
    "df = pd.read_csv(\"dataset.csv\",index_col=[0])\n",
    "df"
   ]
  },
  {
   "cell_type": "code",
   "execution_count": 786,
   "metadata": {},
   "outputs": [
    {
     "data": {
      "text/plain": [
       "(1151, 19)"
      ]
     },
     "execution_count": 786,
     "metadata": {},
     "output_type": "execute_result"
    }
   ],
   "source": [
    "df.shape"
   ]
  },
  {
   "cell_type": "code",
   "execution_count": 787,
   "metadata": {},
   "outputs": [
    {
     "data": {
      "text/plain": [
       "Description          object\n",
       "Processor            object\n",
       "RAM                  object\n",
       "Operating System     object\n",
       "Storage              object\n",
       "Display              object\n",
       "Warranty             object\n",
       "Price                object\n",
       "ram_in_gb             int64\n",
       "ddr_version           int64\n",
       "processor_name       object\n",
       "gen_type             object\n",
       "OS                   object\n",
       "disk_drive           object\n",
       "storage_in_gb        object\n",
       "size_in_inches      float64\n",
       "touchscreen          object\n",
       "company              object\n",
       "graphic_card         object\n",
       "dtype: object"
      ]
     },
     "execution_count": 787,
     "metadata": {},
     "output_type": "execute_result"
    }
   ],
   "source": [
    "df.dtypes # Checking the datatypes"
   ]
  },
  {
   "cell_type": "markdown",
   "metadata": {},
   "source": [
    "Terdiri atas beberapa categorical -> seharusnya berisikan numerical values\n",
    "- dibutuhkan untuk convert categorical columns to numerical columns.\n",
    "    - processor_name\n",
    "    - gen_type\n",
    "    - disk_drive\n",
    "    - storage_in_gb\n",
    "    - RAM\n",
    "    - Storage"
   ]
  },
  {
   "cell_type": "code",
   "execution_count": 788,
   "metadata": {},
   "outputs": [
    {
     "data": {
      "text/plain": [
       "array(['Intel', 'AMD', nan, 'Microsoft'], dtype=object)"
      ]
     },
     "execution_count": 788,
     "metadata": {},
     "output_type": "execute_result"
    }
   ],
   "source": [
    "df[\"processor_name\"].unique()"
   ]
  },
  {
   "cell_type": "code",
   "execution_count": 789,
   "metadata": {},
   "outputs": [
    {
     "data": {
      "text/plain": [
       "array(['10', 'Not Mentioned', '5', '7', '9', '8', '2', '3'], dtype=object)"
      ]
     },
     "execution_count": 789,
     "metadata": {},
     "output_type": "execute_result"
    }
   ],
   "source": [
    "df['gen_type'].unique()"
   ]
  },
  {
   "cell_type": "code",
   "execution_count": 790,
   "metadata": {},
   "outputs": [
    {
     "data": {
      "text/plain": [
       "array(['SSD', 'HDD', 'Both', 'Not Both'], dtype=object)"
      ]
     },
     "execution_count": 790,
     "metadata": {},
     "output_type": "execute_result"
    }
   ],
   "source": [
    "df['disk_drive'].unique()"
   ]
  },
  {
   "cell_type": "code",
   "execution_count": 791,
   "metadata": {},
   "outputs": [
    {
     "data": {
      "text/plain": [
       "array(['512', '1000', '256', '1000+256', '2000', '128', '1000+128', nan,\n",
       "       '1000+512'], dtype=object)"
      ]
     },
     "execution_count": 791,
     "metadata": {},
     "output_type": "execute_result"
    }
   ],
   "source": [
    "df['storage_in_gb'].unique()"
   ]
  },
  {
   "cell_type": "markdown",
   "metadata": {},
   "source": [
    "### Cleaning gen_type"
   ]
  },
  {
   "cell_type": "code",
   "execution_count": 792,
   "metadata": {},
   "outputs": [],
   "source": [
    "# Replacing 'Not Mentioned' with 0\n",
    "df[\"gen_type\"] = df[\"gen_type\"].apply(lambda x : x.replace('Not Mentioned','0'))"
   ]
  },
  {
   "cell_type": "code",
   "execution_count": 793,
   "metadata": {},
   "outputs": [
    {
     "data": {
      "text/plain": [
       "array(['10', '0', '5', '7', '9', '8', '2', '3'], dtype=object)"
      ]
     },
     "execution_count": 793,
     "metadata": {},
     "output_type": "execute_result"
    }
   ],
   "source": [
    "df['gen_type'].unique()"
   ]
  },
  {
   "cell_type": "markdown",
   "metadata": {},
   "source": [
    "### Cleaning RAM"
   ]
  },
  {
   "cell_type": "code",
   "execution_count": 794,
   "metadata": {},
   "outputs": [
    {
     "data": {
      "text/plain": [
       "array(['4 GB DDR4 RAM', '8 GB DDR4 RAM', '16 GB DDR5 RAM',\n",
       "       '16 GB DDR4 RAM', '8 GB DDR5 RAM', '16 GB DDR RAM',\n",
       "       '8 GB DDR4X RAM', '16 GB DDR4X RAM', '64 GB DDR5 RAM',\n",
       "       '32 GB Unified Memory RAM', '4 GB DDR4X RAM', '32 GB DDR5 RAM',\n",
       "       '5 GB DDR4 RAM -faster & low power consuming',\n",
       "       '8 GB DDR4 & 512GB SSD', '8 GB Unified Memory RAM',\n",
       "       '16 GB DDR4 (2 DIMM Slots) & 512GB SSD', '32 GB DDR4 RAM',\n",
       "       '8 GB DDR4 (2 DIMM Slots) & 1TB HDD', '16 GB Unified Memory RAM',\n",
       "       '8 GB DDR4 & 256GB SSD', '16 GB DDR4 & 512GB SSD',\n",
       "       '16 GB, 2x8GB, DDR5, 4800Mhz & 512GB SSD',\n",
       "       '8GB DDR4 (2 DIMM Slots) & 512GB SSD', '8 GB DDR3 RAM',\n",
       "       '16 GB DDR3 RAM', '32 GB DDR4X RAM',\n",
       "       '8GB RAM & 256GB SSD for superfast computing', '4 GB DDR3 RAM'],\n",
       "      dtype=object)"
      ]
     },
     "execution_count": 794,
     "metadata": {},
     "output_type": "execute_result"
    }
   ],
   "source": [
    "df['RAM'].unique()"
   ]
  },
  {
   "cell_type": "code",
   "execution_count": 795,
   "metadata": {},
   "outputs": [],
   "source": [
    "df['RAM']=df['RAM'].apply(lambda x:x.replace('32 GB Unified Memory RAM','32 GB RAM'))\n",
    "df['RAM']=df['RAM'].apply(lambda x:x.replace('5 GB DDR4 RAM -faster & low power consuming','5 GB DDR4 RAM'))\n",
    "df['RAM']=df['RAM'].apply(lambda x:x.replace('8 GB DDR4 & 512GB SSD','8 GB DDR4 RAM'))\n",
    "df['RAM']=df['RAM'].apply(lambda x:x.replace('8 GB Unified Memory RAM','8 GB RAM'))\n",
    "df['RAM']=df['RAM'].apply(lambda x:x.replace('16 GB DDR4 (2 DIMM Slots) & 512GB SSD','16 GB DDR4 RAM'))\n",
    "df['RAM']=df['RAM'].apply(lambda x:x.replace('8 GB DDR4 (2 DIMM Slots) & 1TB HDD','8 GB DDR4 RAM'))\n",
    "df['RAM']=df['RAM'].apply(lambda x:x.replace('16 GB Unified Memory RAM','16 GB RAM'))\n",
    "df['RAM']=df['RAM'].apply(lambda x:x.replace('8 GB DDR4 & 256GB SSD','8 GB DDR4 RAM'))\n",
    "df['RAM']=df['RAM'].apply(lambda x:x.replace('16 GB DDR4 & 512GB SSD','16 GB DDR4 RAM'))\n",
    "df['RAM']=df['RAM'].apply(lambda x:x.replace('16 GB, 2x8GB, DDR5, 4800Mhz & 512GB SSD','16 GB DDR5 RAM'))\n",
    "df['RAM']=df['RAM'].apply(lambda x:x.replace('8GB DDR4 (2 DIMM Slots) & 512GB SSD','8 GB DDR4 RAM'))\n",
    "df['RAM']=df['RAM'].apply(lambda x:x.replace('8GB RAM & 256GB SSD for superfast computing','8 GB RAM'))\n",
    "\n",
    "df['RAM']=df['RAM'].apply(lambda x:x.replace('8 GB DDR4X RAM','8 GB DDR4 RAM'))\n",
    "df['RAM']=df['RAM'].apply(lambda x:x.replace('16 GB DDR4X RAM','16 GB DDR4 RAM'))\n",
    "df['RAM']=df['RAM'].apply(lambda x:x.replace('4 GB DDR4X RAM','4 GB DDR4 RAM'))\n",
    "df['RAM']=df['RAM'].apply(lambda x:x.replace('32 GB DDR4X RAM','32 GB DDR4 RAM'))"
   ]
  },
  {
   "cell_type": "code",
   "execution_count": 796,
   "metadata": {},
   "outputs": [
    {
     "data": {
      "text/plain": [
       "array(['4 GB DDR4 RAM', '8 GB DDR4 RAM', '16 GB DDR5 RAM',\n",
       "       '16 GB DDR4 RAM', '8 GB DDR5 RAM', '16 GB DDR RAM',\n",
       "       '64 GB DDR5 RAM', '32 GB RAM', '32 GB DDR5 RAM', '5 GB DDR4 RAM',\n",
       "       '8 GB RAM', '32 GB DDR4 RAM', '16 GB RAM', '8 GB DDR3 RAM',\n",
       "       '16 GB DDR3 RAM', '4 GB DDR3 RAM'], dtype=object)"
      ]
     },
     "execution_count": 796,
     "metadata": {},
     "output_type": "execute_result"
    }
   ],
   "source": [
    "df[\"RAM\"].unique()"
   ]
  },
  {
   "cell_type": "markdown",
   "metadata": {},
   "source": [
    "### Cleaning Storage"
   ]
  },
  {
   "cell_type": "code",
   "execution_count": 797,
   "metadata": {},
   "outputs": [
    {
     "data": {
      "text/plain": [
       "array(['512 GB SSD', '1 TB SSD', '256 GB SSD', '1 TB HDD',\n",
       "       '1 TB HDD|256 GB SSD', '2 TB SSD', '1 TB HDD|1 TB SSD',\n",
       "       '128 GB SSD', '1 TB HDD|128 GB SSD',\n",
       "       '128 GB SSD for Reduced Boot Up Time and in Game Loading',\n",
       "       'PCI-e Gen4 SSD?SHIFT?Matrix Display (Extend)?Cooler Boost 3?Thunderbolt 4?Finger Print Security?True Color 2.0?Hi-Res Audio?Nahimic 3? 4-Sided Thin bezel?MSI Center?Silky Smooth Touchpad?Military-Grade Durability',\n",
       "       '4 TB SSD',\n",
       "       '512 GB SSD for Reduced Boot Up Time and in Game Loading',\n",
       "       '16 GB SSD', '2 TB HDD', nan, '1 TB HDD|512 GB SSD',\n",
       "       '2 TB HDD|256 GB SSD',\n",
       "       'HP Audio Switch, HP Support Assistant, HP Documentation, HP Jumpstart, HP BIOS Recovery, HP Connection Optimizer, HP 3D DriveGuard (HDD Only), Dropbox'],\n",
       "      dtype=object)"
      ]
     },
     "execution_count": 797,
     "metadata": {},
     "output_type": "execute_result"
    }
   ],
   "source": [
    "df['Storage'].unique()"
   ]
  },
  {
   "cell_type": "code",
   "execution_count": 798,
   "metadata": {},
   "outputs": [],
   "source": [
    "df['Storage']=df['Storage'].apply(lambda x:str(x).replace('128 GB SSD for Reduced Boot Up Time and in Game Loading','128 GB SSD'))\n",
    "df['Storage']=df['Storage'].apply(lambda x:x.replace('PCI-e Gen4 SSD?SHIFT?Matrix Display (Extend)?Cooler Boost 3?Thunderbolt 4?Finger Print Security?True Color 2.0?Hi-Res Audio?Nahimic 3? 4-Sided Thin bezel?MSI Center?Silky Smooth Touchpad?Military-Grade Durability','128 GB SSD'))\n",
    "df['Storage']=df['Storage'].apply(lambda x:x.replace('512 GB SSD for Reduced Boot Up Time and in Game Loading','512 GB SSD'))\n",
    "df['Storage']=df['Storage'].apply(lambda x:x.replace('HP Audio Switch, HP Support Assistant, HP Documentation, HP Jumpstart, HP BIOS Recovery, HP Connection Optimizer, HP 3D DriveGuard (HDD Only), Dropbox','2 TB HDD'))"
   ]
  },
  {
   "cell_type": "code",
   "execution_count": 799,
   "metadata": {},
   "outputs": [
    {
     "data": {
      "text/plain": [
       "array(['512 GB SSD', '1 TB SSD', '256 GB SSD', '1 TB HDD',\n",
       "       '1 TB HDD|256 GB SSD', '2 TB SSD', '1 TB HDD|1 TB SSD',\n",
       "       '128 GB SSD', '1 TB HDD|128 GB SSD', '4 TB SSD', '16 GB SSD',\n",
       "       '2 TB HDD', 'nan', '1 TB HDD|512 GB SSD', '2 TB HDD|256 GB SSD'],\n",
       "      dtype=object)"
      ]
     },
     "execution_count": 799,
     "metadata": {},
     "output_type": "execute_result"
    }
   ],
   "source": [
    "df['Storage'].unique()"
   ]
  },
  {
   "cell_type": "code",
   "execution_count": 800,
   "metadata": {},
   "outputs": [],
   "source": [
    "# Splitting the Storage column into HDD and SSD\n",
    "SSD = []\n",
    "HDD = []\n",
    "def process(inp):\n",
    "  c = inp.split('|')\n",
    "  if(len(c) == 1):\n",
    "    if('SSD' in inp):\n",
    "      SSD.append(inp)\n",
    "      HDD.append('0')\n",
    "    else:\n",
    "      HDD.append(inp)\n",
    "      SSD.append('0')\n",
    "  else:\n",
    "    SSD.append(c[1])\n",
    "    HDD.append(c[0])"
   ]
  },
  {
   "cell_type": "code",
   "execution_count": 801,
   "metadata": {},
   "outputs": [],
   "source": [
    "for i in df['Storage']:\n",
    "  process(i)\n",
    "df['SSD'] = SSD\n",
    "df['HDD'] = HDD"
   ]
  },
  {
   "cell_type": "code",
   "execution_count": 802,
   "metadata": {},
   "outputs": [
    {
     "data": {
      "text/plain": [
       "array(['512 GB SSD', '1 TB SSD', '256 GB SSD', '0', '2 TB SSD',\n",
       "       '128 GB SSD', '4 TB SSD', '16 GB SSD'], dtype=object)"
      ]
     },
     "execution_count": 802,
     "metadata": {},
     "output_type": "execute_result"
    }
   ],
   "source": [
    "df['SSD'].unique()"
   ]
  },
  {
   "cell_type": "code",
   "execution_count": 803,
   "metadata": {},
   "outputs": [
    {
     "data": {
      "text/plain": [
       "array(['0', '1 TB HDD', '2 TB HDD', 'nan'], dtype=object)"
      ]
     },
     "execution_count": 803,
     "metadata": {},
     "output_type": "execute_result"
    }
   ],
   "source": [
    "df['HDD'].unique()"
   ]
  },
  {
   "cell_type": "code",
   "execution_count": 804,
   "metadata": {},
   "outputs": [
    {
     "data": {
      "text/plain": [
       "array(['0', '1000', '2000'], dtype=object)"
      ]
     },
     "execution_count": 804,
     "metadata": {},
     "output_type": "execute_result"
    }
   ],
   "source": [
    "# 2 columns for HDD and SSD -> mention to value\n",
    "df['HDD']=df['HDD'].apply(lambda x:x.replace('TB HDD',''))\n",
    "hdd=[]\n",
    "for i in df['HDD']:\n",
    "    if(i=='0'):\n",
    "        hdd.append(i)\n",
    "    elif(i=='1 '):\n",
    "        i=i.replace('1 ','1000')\n",
    "        hdd.append(i)\n",
    "    elif(i=='2 '):\n",
    "        i=i.replace('2 ','2000')\n",
    "        hdd.append(i)\n",
    "    else:\n",
    "        hdd.append('0')\n",
    "df['HDD']=hdd\n",
    "df['HDD'].unique()"
   ]
  },
  {
   "cell_type": "code",
   "execution_count": 805,
   "metadata": {},
   "outputs": [
    {
     "data": {
      "text/plain": [
       "array(['512 ', '1 ', '256 ', '0', '2 ', '128 ', '4 ', '16 '], dtype=object)"
      ]
     },
     "execution_count": 805,
     "metadata": {},
     "output_type": "execute_result"
    }
   ],
   "source": [
    "df['SSD']=df['SSD'].apply(lambda x:x.replace('GB SSD',''))\n",
    "df['SSD']=df['SSD'].apply(lambda x:x.replace('TB SSD',''))\n",
    "ssd=[]\n",
    "for i in df['SSD']:\n",
    "    if(i=='0'):\n",
    "        hdd.append(i)\n",
    "    elif(i=='1 '):\n",
    "        i=i.replace('1 ','1000')\n",
    "        hdd.append(i)\n",
    "    elif(i=='2 '):\n",
    "        i=i.replace('2 ','2000')\n",
    "    else:\n",
    "        ssd.append(i)\n",
    "df['SSD'].unique()"
   ]
  },
  {
   "cell_type": "code",
   "execution_count": 806,
   "metadata": {},
   "outputs": [],
   "source": [
    "df['SSD'].replace('1 ','1000',inplace=True)\n",
    "df[\"SSD\"].replace('2 ','2000',inplace=True)\n",
    "df[\"SSD\"].replace('4 ','4000',inplace=True)\n",
    "df[\"SSD\"].replace('512 ','512',inplace=True)\n",
    "df[\"SSD\"].replace('256 ','256',inplace=True)\n",
    "df[\"SSD\"].replace('128 ','128',inplace=True)\n",
    "df[\"SSD\"].replace('16 ','16',inplace=True)"
   ]
  },
  {
   "cell_type": "code",
   "execution_count": 807,
   "metadata": {},
   "outputs": [
    {
     "data": {
      "text/plain": [
       "array(['512', '1000', '256', '0', '2000', '128', '4000', '16'],\n",
       "      dtype=object)"
      ]
     },
     "execution_count": 807,
     "metadata": {},
     "output_type": "execute_result"
    }
   ],
   "source": [
    "df['SSD'].unique()"
   ]
  },
  {
   "cell_type": "code",
   "execution_count": 808,
   "metadata": {},
   "outputs": [],
   "source": [
    "df.drop(columns=[\"storage_in_gb\"],axis=1,inplace=True)"
   ]
  },
  {
   "cell_type": "code",
   "execution_count": 809,
   "metadata": {},
   "outputs": [
    {
     "data": {
      "text/plain": [
       "Index(['Description', 'Processor', 'RAM', 'Operating System', 'Storage',\n",
       "       'Display', 'Warranty', 'Price', 'ram_in_gb', 'ddr_version',\n",
       "       'processor_name', 'gen_type', 'OS', 'disk_drive', 'size_in_inches',\n",
       "       'touchscreen', 'company', 'graphic_card', 'SSD', 'HDD'],\n",
       "      dtype='object')"
      ]
     },
     "execution_count": 809,
     "metadata": {},
     "output_type": "execute_result"
    }
   ],
   "source": [
    "df.columns"
   ]
  },
  {
   "cell_type": "code",
   "execution_count": 810,
   "metadata": {},
   "outputs": [
    {
     "name": "stdout",
     "output_type": "stream",
     "text": [
      "['Intel' 'AMD' nan 'Microsoft']\n",
      "['10' '0' '5' '7' '9' '8' '2' '3']\n",
      "['Windows' 'Mac' 'DOS' 'Linux']\n",
      "['SSD' 'HDD' 'Both' 'Not Both']\n",
      "[4 5 3 8]\n"
     ]
    }
   ],
   "source": [
    "print(df['processor_name'].unique())\n",
    "print(df['gen_type'].unique())\n",
    "print(df['OS'].unique())\n",
    "print(df['disk_drive'].unique())\n",
    "print(df['ddr_version'].unique())"
   ]
  },
  {
   "cell_type": "code",
   "execution_count": 811,
   "metadata": {},
   "outputs": [
    {
     "name": "stdout",
     "output_type": "stream",
     "text": [
      "[11.6 15.6 14.  13.3 15.  15.5  0.  16.  17.3 16.1 13.4 13.  10.  12. ]\n",
      "['Primebook' 'Asus' 'HP' 'Apple' 'MSI' 'Realmebook' 'Lenovo' 'Infinix'\n",
      " 'Dell' 'Acer' 'Samsung' 'Gigabyte' 'alienware' 'Spectre' 'Avita'\n",
      " 'Surface' 'MarQ' 'Nexstgo']\n"
     ]
    }
   ],
   "source": [
    "print(df['size_in_inches'].unique())\n",
    "print(df['company'].unique())"
   ]
  },
  {
   "cell_type": "code",
   "execution_count": 812,
   "metadata": {},
   "outputs": [],
   "source": [
    "cat_to_num = ['gen_type','ddr_version'] \n",
    "df[cat_to_num] = df[cat_to_num].apply(pd.to_numeric,errors='coerce') # Converting the categorical variables to numerical variables"
   ]
  },
  {
   "cell_type": "code",
   "execution_count": 813,
   "metadata": {},
   "outputs": [
    {
     "data": {
      "text/plain": [
       "gen_type\n",
       "10    654\n",
       "0     381\n",
       "8      71\n",
       "9      21\n",
       "7      18\n",
       "5       3\n",
       "2       2\n",
       "3       1\n",
       "Name: count, dtype: int64"
      ]
     },
     "execution_count": 813,
     "metadata": {},
     "output_type": "execute_result"
    }
   ],
   "source": [
    "df['gen_type'].value_counts()"
   ]
  },
  {
   "cell_type": "code",
   "execution_count": 814,
   "metadata": {},
   "outputs": [
    {
     "data": {
      "text/plain": [
       "ddr_version\n",
       "4    903\n",
       "5    194\n",
       "3     52\n",
       "8      2\n",
       "Name: count, dtype: int64"
      ]
     },
     "execution_count": 814,
     "metadata": {},
     "output_type": "execute_result"
    }
   ],
   "source": [
    "df['ddr_version'].value_counts()"
   ]
  },
  {
   "cell_type": "code",
   "execution_count": 815,
   "metadata": {},
   "outputs": [
    {
     "data": {
      "text/plain": [
       "Description          object\n",
       "Processor            object\n",
       "RAM                  object\n",
       "Operating System     object\n",
       "Storage              object\n",
       "Display              object\n",
       "Warranty             object\n",
       "Price                object\n",
       "ram_in_gb             int64\n",
       "ddr_version           int64\n",
       "processor_name       object\n",
       "gen_type              int64\n",
       "OS                   object\n",
       "disk_drive           object\n",
       "size_in_inches      float64\n",
       "touchscreen          object\n",
       "company              object\n",
       "graphic_card         object\n",
       "SSD                  object\n",
       "HDD                  object\n",
       "dtype: object"
      ]
     },
     "execution_count": 815,
     "metadata": {},
     "output_type": "execute_result"
    }
   ],
   "source": [
    "df.dtypes"
   ]
  },
  {
   "cell_type": "markdown",
   "metadata": {},
   "source": [
    "# Cleaning Prices Label"
   ]
  },
  {
   "cell_type": "code",
   "execution_count": 816,
   "metadata": {},
   "outputs": [
    {
     "data": {
      "text/plain": [
       "0"
      ]
     },
     "execution_count": 816,
     "metadata": {},
     "output_type": "execute_result"
    }
   ],
   "source": [
    "sum(df['Price'].isnull())"
   ]
  },
  {
   "cell_type": "code",
   "execution_count": 817,
   "metadata": {},
   "outputs": [
    {
     "data": {
      "text/plain": [
       "0         16,990\n",
       "1         18,990\n",
       "2         38,990\n",
       "3         47,990\n",
       "4         38,990\n",
       "          ...   \n",
       "1146      20,990\n",
       "1147      97,990\n",
       "1148      94,990\n",
       "1149      99,990\n",
       "1150    2,29,990\n",
       "Name: Price, Length: 1151, dtype: object"
      ]
     },
     "execution_count": 817,
     "metadata": {},
     "output_type": "execute_result"
    }
   ],
   "source": [
    "df.Price"
   ]
  },
  {
   "cell_type": "markdown",
   "metadata": {},
   "source": [
    "### Clean \"`,`\", Convert to float, and Convert to rupiah"
   ]
  },
  {
   "cell_type": "code",
   "execution_count": 818,
   "metadata": {},
   "outputs": [],
   "source": [
    "# 1 rupe = 182 Rupiah\n",
    "price = []\n",
    "for i in df['Price']:\n",
    "    i = i.replace(',','')\n",
    "    i = float(i) * 182\n",
    "    price.append(i)"
   ]
  },
  {
   "cell_type": "code",
   "execution_count": 819,
   "metadata": {},
   "outputs": [
    {
     "data": {
      "text/plain": [
       "0        3092180.0\n",
       "1        3456180.0\n",
       "2        7096180.0\n",
       "3        8734180.0\n",
       "4        7096180.0\n",
       "           ...    \n",
       "1146     3820180.0\n",
       "1147    17834180.0\n",
       "1148    17288180.0\n",
       "1149    18198180.0\n",
       "1150    41858180.0\n",
       "Name: Price, Length: 1151, dtype: float64"
      ]
     },
     "execution_count": 819,
     "metadata": {},
     "output_type": "execute_result"
    }
   ],
   "source": [
    "df['Price'] = price\n",
    "df['Price']"
   ]
  },
  {
   "cell_type": "markdown",
   "metadata": {},
   "source": [
    "# Convert to new dataset"
   ]
  },
  {
   "cell_type": "code",
   "execution_count": null,
   "metadata": {},
   "outputs": [],
   "source": [
    "df.to_csv('changed.csv')"
   ]
  },
  {
   "cell_type": "markdown",
   "metadata": {},
   "source": [
    "### Load new dataset"
   ]
  },
  {
   "cell_type": "code",
   "execution_count": null,
   "metadata": {},
   "outputs": [],
   "source": [
    "import pandas as pd\n"
   ]
  },
  {
   "cell_type": "code",
   "execution_count": 43,
   "metadata": {},
   "outputs": [
    {
     "data": {
      "text/html": [
       "<div>\n",
       "<style scoped>\n",
       "    .dataframe tbody tr th:only-of-type {\n",
       "        vertical-align: middle;\n",
       "    }\n",
       "\n",
       "    .dataframe tbody tr th {\n",
       "        vertical-align: top;\n",
       "    }\n",
       "\n",
       "    .dataframe thead th {\n",
       "        text-align: right;\n",
       "    }\n",
       "</style>\n",
       "<table border=\"1\" class=\"dataframe\">\n",
       "  <thead>\n",
       "    <tr style=\"text-align: right;\">\n",
       "      <th></th>\n",
       "      <th>Description</th>\n",
       "      <th>Processor</th>\n",
       "      <th>RAM</th>\n",
       "      <th>Operating System</th>\n",
       "      <th>Storage</th>\n",
       "      <th>Display</th>\n",
       "      <th>Warranty</th>\n",
       "      <th>Price</th>\n",
       "      <th>ram_in_gb</th>\n",
       "      <th>ddr_version</th>\n",
       "      <th>processor_name</th>\n",
       "      <th>gen_type</th>\n",
       "      <th>OS</th>\n",
       "      <th>disk_drive</th>\n",
       "      <th>size_in_inches</th>\n",
       "      <th>touchscreen</th>\n",
       "      <th>company</th>\n",
       "      <th>graphic_card</th>\n",
       "      <th>SSD</th>\n",
       "      <th>HDD</th>\n",
       "    </tr>\n",
       "  </thead>\n",
       "  <tbody>\n",
       "    <tr>\n",
       "      <th>0</th>\n",
       "      <td>Primebook 4G Android Based MediaTek MT8788 - (...</td>\n",
       "      <td>Intel Core i3 Processor (11th Gen)</td>\n",
       "      <td>4 GB DDR4 RAM</td>\n",
       "      <td>Prime OS Operating System</td>\n",
       "      <td>512 GB SSD</td>\n",
       "      <td>29.46 cm (11.6 Inch) Display</td>\n",
       "      <td>1 Year Onsite Warranty</td>\n",
       "      <td>3092180.0</td>\n",
       "      <td>4</td>\n",
       "      <td>4</td>\n",
       "      <td>Intel</td>\n",
       "      <td>10</td>\n",
       "      <td>Windows</td>\n",
       "      <td>SSD</td>\n",
       "      <td>11.6</td>\n",
       "      <td>No</td>\n",
       "      <td>Primebook</td>\n",
       "      <td>No</td>\n",
       "      <td>512</td>\n",
       "      <td>0</td>\n",
       "    </tr>\n",
       "    <tr>\n",
       "      <th>1</th>\n",
       "      <td>Primebook 4G Android Based MediaTek MT8788 - (...</td>\n",
       "      <td>Intel Core i5 Processor (11th Gen)</td>\n",
       "      <td>4 GB DDR4 RAM</td>\n",
       "      <td>Prime OS Operating System</td>\n",
       "      <td>512 GB SSD</td>\n",
       "      <td>29.46 cm (11.6 Inch) Display</td>\n",
       "      <td>1 Year Onsite Warranty</td>\n",
       "      <td>3456180.0</td>\n",
       "      <td>4</td>\n",
       "      <td>4</td>\n",
       "      <td>Intel</td>\n",
       "      <td>10</td>\n",
       "      <td>Windows</td>\n",
       "      <td>SSD</td>\n",
       "      <td>11.6</td>\n",
       "      <td>No</td>\n",
       "      <td>Primebook</td>\n",
       "      <td>No</td>\n",
       "      <td>512</td>\n",
       "      <td>0</td>\n",
       "    </tr>\n",
       "    <tr>\n",
       "      <th>2</th>\n",
       "      <td>ASUS Vivobook 15 Core i3 11th Gen - (8 GB/512 ...</td>\n",
       "      <td>Intel Core i3 Processor (11th Gen)</td>\n",
       "      <td>8 GB DDR4 RAM</td>\n",
       "      <td>64 bit Windows 11 Operating System</td>\n",
       "      <td>512 GB SSD</td>\n",
       "      <td>39.62 cm (15.6 Inch) Display</td>\n",
       "      <td>1 Year Onsite Warranty</td>\n",
       "      <td>7096180.0</td>\n",
       "      <td>8</td>\n",
       "      <td>4</td>\n",
       "      <td>Intel</td>\n",
       "      <td>10</td>\n",
       "      <td>Windows</td>\n",
       "      <td>SSD</td>\n",
       "      <td>15.6</td>\n",
       "      <td>No</td>\n",
       "      <td>Asus</td>\n",
       "      <td>No</td>\n",
       "      <td>512</td>\n",
       "      <td>0</td>\n",
       "    </tr>\n",
       "    <tr>\n",
       "      <th>3</th>\n",
       "      <td>ASUS Vivobook 15 Core i5 11th Gen - (8 GB/512 ...</td>\n",
       "      <td>AMD Ryzen 5 Hexa Core Processor</td>\n",
       "      <td>8 GB DDR4 RAM</td>\n",
       "      <td>64 bit Windows 11 Operating System</td>\n",
       "      <td>1 TB SSD</td>\n",
       "      <td>39.62 cm (15.6 Inch) Display</td>\n",
       "      <td>1 Year Onsite Warranty</td>\n",
       "      <td>8734180.0</td>\n",
       "      <td>8</td>\n",
       "      <td>4</td>\n",
       "      <td>AMD</td>\n",
       "      <td>0</td>\n",
       "      <td>Windows</td>\n",
       "      <td>SSD</td>\n",
       "      <td>15.6</td>\n",
       "      <td>No</td>\n",
       "      <td>Asus</td>\n",
       "      <td>No</td>\n",
       "      <td>1000</td>\n",
       "      <td>0</td>\n",
       "    </tr>\n",
       "    <tr>\n",
       "      <th>4</th>\n",
       "      <td>HP 14s Intel Core i3 11th Gen - (8 GB/512 GB S...</td>\n",
       "      <td>Intel Core i7 Processor (12th Gen)</td>\n",
       "      <td>8 GB DDR4 RAM</td>\n",
       "      <td>64 bit Windows 11 Operating System</td>\n",
       "      <td>256 GB SSD</td>\n",
       "      <td>35.56 cm (14 inch) Display</td>\n",
       "      <td>1 Year Onsite Warranty</td>\n",
       "      <td>7096180.0</td>\n",
       "      <td>8</td>\n",
       "      <td>4</td>\n",
       "      <td>Intel</td>\n",
       "      <td>10</td>\n",
       "      <td>Windows</td>\n",
       "      <td>SSD</td>\n",
       "      <td>14.0</td>\n",
       "      <td>No</td>\n",
       "      <td>HP</td>\n",
       "      <td>No</td>\n",
       "      <td>256</td>\n",
       "      <td>0</td>\n",
       "    </tr>\n",
       "    <tr>\n",
       "      <th>...</th>\n",
       "      <td>...</td>\n",
       "      <td>...</td>\n",
       "      <td>...</td>\n",
       "      <td>...</td>\n",
       "      <td>...</td>\n",
       "      <td>...</td>\n",
       "      <td>...</td>\n",
       "      <td>...</td>\n",
       "      <td>...</td>\n",
       "      <td>...</td>\n",
       "      <td>...</td>\n",
       "      <td>...</td>\n",
       "      <td>...</td>\n",
       "      <td>...</td>\n",
       "      <td>...</td>\n",
       "      <td>...</td>\n",
       "      <td>...</td>\n",
       "      <td>...</td>\n",
       "      <td>...</td>\n",
       "      <td>...</td>\n",
       "    </tr>\n",
       "    <tr>\n",
       "      <th>1146</th>\n",
       "      <td>Lenovo Ideapad Slim APU Dual Core A4 - (4 GB/6...</td>\n",
       "      <td>AMD APU Dual Core A4 Processor</td>\n",
       "      <td>4 GB DDR4 RAM</td>\n",
       "      <td>64 bit Windows 10 Operating System</td>\n",
       "      <td>128 GB SSD</td>\n",
       "      <td>35.56 cm (14 inch) Display</td>\n",
       "      <td>1 Year Onsite Warranty</td>\n",
       "      <td>3820180.0</td>\n",
       "      <td>4</td>\n",
       "      <td>4</td>\n",
       "      <td>AMD</td>\n",
       "      <td>0</td>\n",
       "      <td>Windows</td>\n",
       "      <td>SSD</td>\n",
       "      <td>14.0</td>\n",
       "      <td>No</td>\n",
       "      <td>Lenovo</td>\n",
       "      <td>No</td>\n",
       "      <td>128</td>\n",
       "      <td>0</td>\n",
       "    </tr>\n",
       "    <tr>\n",
       "      <th>1147</th>\n",
       "      <td>Acer Predator Triton 300 Core i7 9th Gen - (8 ...</td>\n",
       "      <td>Intel Core i7 Processor (9th Gen)</td>\n",
       "      <td>8 GB DDR4 RAM</td>\n",
       "      <td>64 bit Windows 10 Operating System</td>\n",
       "      <td>2 TB HDD|256 GB SSD</td>\n",
       "      <td>39.62 cm (15.6 inch) Display</td>\n",
       "      <td>1 Year International Travelers Warranty (ITW)</td>\n",
       "      <td>17834180.0</td>\n",
       "      <td>8</td>\n",
       "      <td>4</td>\n",
       "      <td>Intel</td>\n",
       "      <td>9</td>\n",
       "      <td>Windows</td>\n",
       "      <td>Both</td>\n",
       "      <td>15.6</td>\n",
       "      <td>No</td>\n",
       "      <td>Acer</td>\n",
       "      <td>Yes</td>\n",
       "      <td>256</td>\n",
       "      <td>2000</td>\n",
       "    </tr>\n",
       "    <tr>\n",
       "      <th>1148</th>\n",
       "      <td>Lenovo Yoga 730 Core i5 8th Gen - (8 GB/512 GB...</td>\n",
       "      <td>Intel Core i5 Processor (8th Gen)</td>\n",
       "      <td>8 GB DDR4 RAM</td>\n",
       "      <td>64 bit Windows 10 Operating System</td>\n",
       "      <td>512 GB SSD</td>\n",
       "      <td>33.78 cm (13.3 inch) Touchscreen Display</td>\n",
       "      <td>1 Year Onsite Warranty</td>\n",
       "      <td>17288180.0</td>\n",
       "      <td>8</td>\n",
       "      <td>4</td>\n",
       "      <td>Intel</td>\n",
       "      <td>8</td>\n",
       "      <td>Windows</td>\n",
       "      <td>SSD</td>\n",
       "      <td>13.3</td>\n",
       "      <td>Yes</td>\n",
       "      <td>Lenovo</td>\n",
       "      <td>No</td>\n",
       "      <td>512</td>\n",
       "      <td>0</td>\n",
       "    </tr>\n",
       "    <tr>\n",
       "      <th>1149</th>\n",
       "      <td>Asus ZenBook Core i7 10th Gen - (16 GB/1 TB SS...</td>\n",
       "      <td>Intel Core i7 Processor (10th Gen)</td>\n",
       "      <td>16 GB DDR4 RAM</td>\n",
       "      <td>64 bit Windows 10 Operating System</td>\n",
       "      <td>1 TB SSD</td>\n",
       "      <td>33.78 cm (13.3 inch) Display</td>\n",
       "      <td>1 Year Onsite Warranty</td>\n",
       "      <td>18198180.0</td>\n",
       "      <td>16</td>\n",
       "      <td>4</td>\n",
       "      <td>Intel</td>\n",
       "      <td>10</td>\n",
       "      <td>Windows</td>\n",
       "      <td>SSD</td>\n",
       "      <td>13.3</td>\n",
       "      <td>No</td>\n",
       "      <td>Asus</td>\n",
       "      <td>No</td>\n",
       "      <td>1000</td>\n",
       "      <td>0</td>\n",
       "    </tr>\n",
       "    <tr>\n",
       "      <th>1150</th>\n",
       "      <td>Apple MacBook Pro Core i7 7th Gen - (16 GB/512...</td>\n",
       "      <td>Intel Core i7 Processor (7th Gen)</td>\n",
       "      <td>16 GB DDR3 RAM</td>\n",
       "      <td>64 bit Mac OS Operating System</td>\n",
       "      <td>512 GB SSD</td>\n",
       "      <td>39.12 cm (15.4 inch) Display</td>\n",
       "      <td>1 Year Warranty</td>\n",
       "      <td>41858180.0</td>\n",
       "      <td>16</td>\n",
       "      <td>3</td>\n",
       "      <td>Intel</td>\n",
       "      <td>7</td>\n",
       "      <td>Mac</td>\n",
       "      <td>SSD</td>\n",
       "      <td>12.0</td>\n",
       "      <td>No</td>\n",
       "      <td>Apple</td>\n",
       "      <td>Yes</td>\n",
       "      <td>512</td>\n",
       "      <td>0</td>\n",
       "    </tr>\n",
       "  </tbody>\n",
       "</table>\n",
       "<p>1151 rows × 20 columns</p>\n",
       "</div>"
      ],
      "text/plain": [
       "                                            Description  \\\n",
       "0     Primebook 4G Android Based MediaTek MT8788 - (...   \n",
       "1     Primebook 4G Android Based MediaTek MT8788 - (...   \n",
       "2     ASUS Vivobook 15 Core i3 11th Gen - (8 GB/512 ...   \n",
       "3     ASUS Vivobook 15 Core i5 11th Gen - (8 GB/512 ...   \n",
       "4     HP 14s Intel Core i3 11th Gen - (8 GB/512 GB S...   \n",
       "...                                                 ...   \n",
       "1146  Lenovo Ideapad Slim APU Dual Core A4 - (4 GB/6...   \n",
       "1147  Acer Predator Triton 300 Core i7 9th Gen - (8 ...   \n",
       "1148  Lenovo Yoga 730 Core i5 8th Gen - (8 GB/512 GB...   \n",
       "1149  Asus ZenBook Core i7 10th Gen - (16 GB/1 TB SS...   \n",
       "1150  Apple MacBook Pro Core i7 7th Gen - (16 GB/512...   \n",
       "\n",
       "                               Processor             RAM  \\\n",
       "0     Intel Core i3 Processor (11th Gen)   4 GB DDR4 RAM   \n",
       "1     Intel Core i5 Processor (11th Gen)   4 GB DDR4 RAM   \n",
       "2     Intel Core i3 Processor (11th Gen)   8 GB DDR4 RAM   \n",
       "3        AMD Ryzen 5 Hexa Core Processor   8 GB DDR4 RAM   \n",
       "4     Intel Core i7 Processor (12th Gen)   8 GB DDR4 RAM   \n",
       "...                                  ...             ...   \n",
       "1146      AMD APU Dual Core A4 Processor   4 GB DDR4 RAM   \n",
       "1147   Intel Core i7 Processor (9th Gen)   8 GB DDR4 RAM   \n",
       "1148   Intel Core i5 Processor (8th Gen)   8 GB DDR4 RAM   \n",
       "1149  Intel Core i7 Processor (10th Gen)  16 GB DDR4 RAM   \n",
       "1150   Intel Core i7 Processor (7th Gen)  16 GB DDR3 RAM   \n",
       "\n",
       "                        Operating System              Storage  \\\n",
       "0              Prime OS Operating System           512 GB SSD   \n",
       "1              Prime OS Operating System           512 GB SSD   \n",
       "2     64 bit Windows 11 Operating System           512 GB SSD   \n",
       "3     64 bit Windows 11 Operating System             1 TB SSD   \n",
       "4     64 bit Windows 11 Operating System           256 GB SSD   \n",
       "...                                  ...                  ...   \n",
       "1146  64 bit Windows 10 Operating System           128 GB SSD   \n",
       "1147  64 bit Windows 10 Operating System  2 TB HDD|256 GB SSD   \n",
       "1148  64 bit Windows 10 Operating System           512 GB SSD   \n",
       "1149  64 bit Windows 10 Operating System             1 TB SSD   \n",
       "1150      64 bit Mac OS Operating System           512 GB SSD   \n",
       "\n",
       "                                       Display  \\\n",
       "0                 29.46 cm (11.6 Inch) Display   \n",
       "1                 29.46 cm (11.6 Inch) Display   \n",
       "2                 39.62 cm (15.6 Inch) Display   \n",
       "3                 39.62 cm (15.6 Inch) Display   \n",
       "4                   35.56 cm (14 inch) Display   \n",
       "...                                        ...   \n",
       "1146                35.56 cm (14 inch) Display   \n",
       "1147              39.62 cm (15.6 inch) Display   \n",
       "1148  33.78 cm (13.3 inch) Touchscreen Display   \n",
       "1149              33.78 cm (13.3 inch) Display   \n",
       "1150              39.12 cm (15.4 inch) Display   \n",
       "\n",
       "                                           Warranty       Price  ram_in_gb  \\\n",
       "0                            1 Year Onsite Warranty   3092180.0          4   \n",
       "1                            1 Year Onsite Warranty   3456180.0          4   \n",
       "2                            1 Year Onsite Warranty   7096180.0          8   \n",
       "3                            1 Year Onsite Warranty   8734180.0          8   \n",
       "4                            1 Year Onsite Warranty   7096180.0          8   \n",
       "...                                             ...         ...        ...   \n",
       "1146                         1 Year Onsite Warranty   3820180.0          4   \n",
       "1147  1 Year International Travelers Warranty (ITW)  17834180.0          8   \n",
       "1148                         1 Year Onsite Warranty  17288180.0          8   \n",
       "1149                         1 Year Onsite Warranty  18198180.0         16   \n",
       "1150                                1 Year Warranty  41858180.0         16   \n",
       "\n",
       "      ddr_version processor_name  gen_type       OS disk_drive  \\\n",
       "0               4          Intel        10  Windows        SSD   \n",
       "1               4          Intel        10  Windows        SSD   \n",
       "2               4          Intel        10  Windows        SSD   \n",
       "3               4            AMD         0  Windows        SSD   \n",
       "4               4          Intel        10  Windows        SSD   \n",
       "...           ...            ...       ...      ...        ...   \n",
       "1146            4            AMD         0  Windows        SSD   \n",
       "1147            4          Intel         9  Windows       Both   \n",
       "1148            4          Intel         8  Windows        SSD   \n",
       "1149            4          Intel        10  Windows        SSD   \n",
       "1150            3          Intel         7      Mac        SSD   \n",
       "\n",
       "      size_in_inches touchscreen    company graphic_card   SSD   HDD  \n",
       "0               11.6          No  Primebook           No   512     0  \n",
       "1               11.6          No  Primebook           No   512     0  \n",
       "2               15.6          No       Asus           No   512     0  \n",
       "3               15.6          No       Asus           No  1000     0  \n",
       "4               14.0          No         HP           No   256     0  \n",
       "...              ...         ...        ...          ...   ...   ...  \n",
       "1146            14.0          No     Lenovo           No   128     0  \n",
       "1147            15.6          No       Acer          Yes   256  2000  \n",
       "1148            13.3         Yes     Lenovo           No   512     0  \n",
       "1149            13.3          No       Asus           No  1000     0  \n",
       "1150            12.0          No      Apple          Yes   512     0  \n",
       "\n",
       "[1151 rows x 20 columns]"
      ]
     },
     "execution_count": 43,
     "metadata": {},
     "output_type": "execute_result"
    }
   ],
   "source": [
    "df = pd.read_csv('changed.csv',index_col=[0])\n",
    "df"
   ]
  },
  {
   "cell_type": "markdown",
   "metadata": {},
   "source": [
    "### Cek zero value or null"
   ]
  },
  {
   "cell_type": "markdown",
   "metadata": {},
   "source": [
    "1. ram_in_gb"
   ]
  },
  {
   "cell_type": "code",
   "execution_count": 6,
   "metadata": {},
   "outputs": [
    {
     "data": {
      "text/plain": [
       "8     569\n",
       "16    402\n",
       "4     125\n",
       "32     51\n",
       "2       4\n",
       "Name: ram_in_gb, dtype: int64"
      ]
     },
     "execution_count": 6,
     "metadata": {},
     "output_type": "execute_result"
    }
   ],
   "source": [
    "df['ram_in_gb'].value_counts()"
   ]
  },
  {
   "cell_type": "code",
   "execution_count": 8,
   "metadata": {},
   "outputs": [
    {
     "data": {
      "text/plain": [
       "0"
      ]
     },
     "execution_count": 8,
     "metadata": {},
     "output_type": "execute_result"
    }
   ],
   "source": [
    "sum(df['ram_in_gb'].isnull())"
   ]
  },
  {
   "cell_type": "markdown",
   "metadata": {},
   "source": [
    "2. ddr_version"
   ]
  },
  {
   "cell_type": "code",
   "execution_count": 9,
   "metadata": {},
   "outputs": [
    {
     "data": {
      "text/plain": [
       "4    903\n",
       "5    194\n",
       "3     52\n",
       "8      2\n",
       "Name: ddr_version, dtype: int64"
      ]
     },
     "execution_count": 9,
     "metadata": {},
     "output_type": "execute_result"
    }
   ],
   "source": [
    "df['ddr_version'].value_counts()"
   ]
  },
  {
   "cell_type": "code",
   "execution_count": 10,
   "metadata": {},
   "outputs": [
    {
     "data": {
      "text/plain": [
       "0"
      ]
     },
     "execution_count": 10,
     "metadata": {},
     "output_type": "execute_result"
    }
   ],
   "source": [
    "sum(df['ddr_version'].isnull())"
   ]
  },
  {
   "cell_type": "markdown",
   "metadata": {},
   "source": [
    "3. Processor name"
   ]
  },
  {
   "cell_type": "code",
   "execution_count": 11,
   "metadata": {},
   "outputs": [
    {
     "data": {
      "text/plain": [
       "Intel        793\n",
       "AMD          274\n",
       "Microsoft      1\n",
       "Name: processor_name, dtype: int64"
      ]
     },
     "execution_count": 11,
     "metadata": {},
     "output_type": "execute_result"
    }
   ],
   "source": [
    "df['processor_name'].value_counts()"
   ]
  },
  {
   "cell_type": "code",
   "execution_count": 17,
   "metadata": {},
   "outputs": [
    {
     "data": {
      "text/plain": [
       "900    NaN\n",
       "901    NaN\n",
       "902    NaN\n",
       "903    NaN\n",
       "904    NaN\n",
       "      ... \n",
       "978    NaN\n",
       "979    NaN\n",
       "980    NaN\n",
       "981    NaN\n",
       "982    NaN\n",
       "Name: processor_name, Length: 83, dtype: object"
      ]
     },
     "execution_count": 17,
     "metadata": {},
     "output_type": "execute_result"
    }
   ],
   "source": [
    "df[\"processor_name\"].loc[df['processor_name'].isnull()]"
   ]
  },
  {
   "cell_type": "code",
   "execution_count": 33,
   "metadata": {},
   "outputs": [
    {
     "data": {
      "text/plain": [
       "83"
      ]
     },
     "execution_count": 33,
     "metadata": {},
     "output_type": "execute_result"
    }
   ],
   "source": [
    "sum(df['processor_name'].isnull())"
   ]
  },
  {
   "cell_type": "code",
   "execution_count": 32,
   "metadata": {},
   "outputs": [],
   "source": [
    "df['processor_name'].dropna(inplace=True,axis=0,how='all')"
   ]
  },
  {
   "cell_type": "markdown",
   "metadata": {},
   "source": [
    "4. gen_type"
   ]
  },
  {
   "cell_type": "code",
   "execution_count": 50,
   "metadata": {},
   "outputs": [
    {
     "data": {
      "text/plain": [
       "10    654\n",
       "6     381\n",
       "8      71\n",
       "9      21\n",
       "7      18\n",
       "5       3\n",
       "2       2\n",
       "3       1\n",
       "Name: gen_type, dtype: int64"
      ]
     },
     "execution_count": 50,
     "metadata": {},
     "output_type": "execute_result"
    }
   ],
   "source": [
    "df['gen_type'].value_counts()"
   ]
  },
  {
   "cell_type": "code",
   "execution_count": 48,
   "metadata": {},
   "outputs": [
    {
     "data": {
      "text/plain": [
       "6"
      ]
     },
     "execution_count": 48,
     "metadata": {},
     "output_type": "execute_result"
    }
   ],
   "source": [
    "df['gen_type'].mean().round(0).astype('int')"
   ]
  },
  {
   "cell_type": "code",
   "execution_count": 49,
   "metadata": {},
   "outputs": [
    {
     "name": "stderr",
     "output_type": "stream",
     "text": [
      "C:\\Users\\User\\AppData\\Local\\Temp\\ipykernel_1468\\3985893208.py:1: SettingWithCopyWarning: \n",
      "A value is trying to be set on a copy of a slice from a DataFrame\n",
      "\n",
      "See the caveats in the documentation: https://pandas.pydata.org/pandas-docs/stable/user_guide/indexing.html#returning-a-view-versus-a-copy\n",
      "  df['gen_type'].loc[df['gen_type']==0] = df['gen_type'].mean().round(0).astype('int')\n"
     ]
    }
   ],
   "source": [
    "df['gen_type'].loc[df['gen_type']==0] = df['gen_type'].mean().round(0).astype('int')"
   ]
  },
  {
   "cell_type": "code",
   "execution_count": 51,
   "metadata": {},
   "outputs": [
    {
     "data": {
      "text/plain": [
       "0"
      ]
     },
     "execution_count": 51,
     "metadata": {},
     "output_type": "execute_result"
    }
   ],
   "source": [
    "sum(df['gen_type'].isnull())"
   ]
  },
  {
   "cell_type": "markdown",
   "metadata": {},
   "source": [
    "6. Os"
   ]
  },
  {
   "cell_type": "code",
   "execution_count": 52,
   "metadata": {},
   "outputs": [
    {
     "data": {
      "text/plain": [
       "Windows    1106\n",
       "Mac          34\n",
       "DOS          10\n",
       "Linux         1\n",
       "Name: OS, dtype: int64"
      ]
     },
     "execution_count": 52,
     "metadata": {},
     "output_type": "execute_result"
    }
   ],
   "source": [
    "df['OS'].value_counts()"
   ]
  },
  {
   "cell_type": "code",
   "execution_count": 53,
   "metadata": {},
   "outputs": [
    {
     "data": {
      "text/plain": [
       "0"
      ]
     },
     "execution_count": 53,
     "metadata": {},
     "output_type": "execute_result"
    }
   ],
   "source": [
    "sum(df['OS'].isnull())"
   ]
  },
  {
   "cell_type": "markdown",
   "metadata": {},
   "source": [
    "7. Disk Drive"
   ]
  },
  {
   "cell_type": "code",
   "execution_count": 54,
   "metadata": {},
   "outputs": [
    {
     "data": {
      "text/plain": [
       "SSD         946\n",
       "Both         86\n",
       "Not Both     72\n",
       "HDD          47\n",
       "Name: disk_drive, dtype: int64"
      ]
     },
     "execution_count": 54,
     "metadata": {},
     "output_type": "execute_result"
    }
   ],
   "source": [
    "df['disk_drive'].value_counts()"
   ]
  },
  {
   "cell_type": "code",
   "execution_count": 55,
   "metadata": {},
   "outputs": [
    {
     "data": {
      "text/plain": [
       "0"
      ]
     },
     "execution_count": 55,
     "metadata": {},
     "output_type": "execute_result"
    }
   ],
   "source": [
    "sum(df['disk_drive'].isnull())"
   ]
  },
  {
   "cell_type": "markdown",
   "metadata": {},
   "source": [
    "8. Size_in_inches"
   ]
  },
  {
   "cell_type": "code",
   "execution_count": 56,
   "metadata": {},
   "outputs": [
    {
     "data": {
      "text/plain": [
       "15.6    570\n",
       "14.0    283\n",
       "11.6     68\n",
       "16.0     64\n",
       "13.3     47\n",
       "15.0     23\n",
       "17.3     22\n",
       "0.0      16\n",
       "13.4     15\n",
       "16.1     14\n",
       "13.0     14\n",
       "15.5      7\n",
       "10.0      5\n",
       "12.0      3\n",
       "Name: size_in_inches, dtype: int64"
      ]
     },
     "execution_count": 56,
     "metadata": {},
     "output_type": "execute_result"
    }
   ],
   "source": [
    "df['size_in_inches'].value_counts()"
   ]
  },
  {
   "cell_type": "code",
   "execution_count": 57,
   "metadata": {},
   "outputs": [
    {
     "data": {
      "text/plain": [
       "0"
      ]
     },
     "execution_count": 57,
     "metadata": {},
     "output_type": "execute_result"
    }
   ],
   "source": [
    "sum(df['size_in_inches'].isnull())"
   ]
  },
  {
   "cell_type": "markdown",
   "metadata": {},
   "source": [
    "9. Company"
   ]
  },
  {
   "cell_type": "code",
   "execution_count": 58,
   "metadata": {},
   "outputs": [
    {
     "data": {
      "text/plain": [
       "Asus          274\n",
       "HP            265\n",
       "Lenovo        163\n",
       "Dell          114\n",
       "MSI            98\n",
       "Acer           67\n",
       "Primebook      65\n",
       "Apple          33\n",
       "Infinix        21\n",
       "Spectre        11\n",
       "Surface        11\n",
       "alienware       9\n",
       "Samsung         7\n",
       "Realmebook      5\n",
       "Avita           4\n",
       "Gigabyte        2\n",
       "MarQ            1\n",
       "Nexstgo         1\n",
       "Name: company, dtype: int64"
      ]
     },
     "execution_count": 58,
     "metadata": {},
     "output_type": "execute_result"
    }
   ],
   "source": [
    "df['company'].value_counts()"
   ]
  },
  {
   "cell_type": "code",
   "execution_count": 59,
   "metadata": {},
   "outputs": [
    {
     "data": {
      "text/plain": [
       "0"
      ]
     },
     "execution_count": 59,
     "metadata": {},
     "output_type": "execute_result"
    }
   ],
   "source": [
    "sum(df['company'].isnull())"
   ]
  },
  {
   "cell_type": "markdown",
   "metadata": {},
   "source": [
    "10. Graphic card"
   ]
  },
  {
   "cell_type": "code",
   "execution_count": 60,
   "metadata": {},
   "outputs": [
    {
     "data": {
      "text/plain": [
       "No     830\n",
       "Yes    321\n",
       "Name: graphic_card, dtype: int64"
      ]
     },
     "execution_count": 60,
     "metadata": {},
     "output_type": "execute_result"
    }
   ],
   "source": [
    "df['graphic_card'].value_counts()"
   ]
  },
  {
   "cell_type": "code",
   "execution_count": 61,
   "metadata": {},
   "outputs": [
    {
     "data": {
      "text/plain": [
       "0"
      ]
     },
     "execution_count": 61,
     "metadata": {},
     "output_type": "execute_result"
    }
   ],
   "source": [
    "sum(df['graphic_card'].isnull())"
   ]
  },
  {
   "cell_type": "code",
   "execution_count": null,
   "metadata": {},
   "outputs": [],
   "source": [
    "df.to_csv('Clean.csv')"
   ]
  }
 ],
 "metadata": {
  "kernelspec": {
   "display_name": "Python 3.9.9 ('env': venv)",
   "language": "python",
   "name": "python3"
  },
  "language_info": {
   "codemirror_mode": {
    "name": "ipython",
    "version": 3
   },
   "file_extension": ".py",
   "mimetype": "text/x-python",
   "name": "python",
   "nbconvert_exporter": "python",
   "pygments_lexer": "ipython3",
   "version": "3.9.9"
  },
  "orig_nbformat": 4,
  "vscode": {
   "interpreter": {
    "hash": "ccfb86dc03a533d4bfe62a98a0aa30166ee64f3466eb97a59c1efb8183da137e"
   }
  }
 },
 "nbformat": 4,
 "nbformat_minor": 2
}
