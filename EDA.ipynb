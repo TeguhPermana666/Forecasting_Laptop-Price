{
 "cells": [
  {
   "cell_type": "code",
   "execution_count": 47,
   "metadata": {},
   "outputs": [],
   "source": [
    "# Load dataset\n",
    "import pandas as pd\n",
    "import matplotlib.pyplot as plt\n",
    "import seaborn as sns\n",
    "df = pd.read_csv('dataset.csv',index_col=[0])"
   ]
  },
  {
   "cell_type": "code",
   "execution_count": 48,
   "metadata": {},
   "outputs": [
    {
     "data": {
      "text/html": [
       "<div>\n",
       "<style scoped>\n",
       "    .dataframe tbody tr th:only-of-type {\n",
       "        vertical-align: middle;\n",
       "    }\n",
       "\n",
       "    .dataframe tbody tr th {\n",
       "        vertical-align: top;\n",
       "    }\n",
       "\n",
       "    .dataframe thead th {\n",
       "        text-align: right;\n",
       "    }\n",
       "</style>\n",
       "<table border=\"1\" class=\"dataframe\">\n",
       "  <thead>\n",
       "    <tr style=\"text-align: right;\">\n",
       "      <th></th>\n",
       "      <th>Price</th>\n",
       "      <th>ram_in_gb</th>\n",
       "      <th>ddr_version</th>\n",
       "      <th>processor_name</th>\n",
       "      <th>gen_type</th>\n",
       "      <th>OS</th>\n",
       "      <th>disk_drive</th>\n",
       "      <th>storage_in_gb</th>\n",
       "      <th>size_in_inches</th>\n",
       "      <th>touchscreen</th>\n",
       "      <th>company</th>\n",
       "      <th>graphic_card</th>\n",
       "    </tr>\n",
       "  </thead>\n",
       "  <tbody>\n",
       "    <tr>\n",
       "      <th>0</th>\n",
       "      <td>16,990</td>\n",
       "      <td>4</td>\n",
       "      <td>4</td>\n",
       "      <td>Intel</td>\n",
       "      <td>10</td>\n",
       "      <td>Windows</td>\n",
       "      <td>SSD</td>\n",
       "      <td>512</td>\n",
       "      <td>11.6</td>\n",
       "      <td>No</td>\n",
       "      <td>Primebook</td>\n",
       "      <td>No</td>\n",
       "    </tr>\n",
       "    <tr>\n",
       "      <th>1</th>\n",
       "      <td>18,990</td>\n",
       "      <td>4</td>\n",
       "      <td>4</td>\n",
       "      <td>Intel</td>\n",
       "      <td>10</td>\n",
       "      <td>Windows</td>\n",
       "      <td>SSD</td>\n",
       "      <td>512</td>\n",
       "      <td>11.6</td>\n",
       "      <td>No</td>\n",
       "      <td>Primebook</td>\n",
       "      <td>No</td>\n",
       "    </tr>\n",
       "    <tr>\n",
       "      <th>2</th>\n",
       "      <td>38,990</td>\n",
       "      <td>8</td>\n",
       "      <td>4</td>\n",
       "      <td>Intel</td>\n",
       "      <td>10</td>\n",
       "      <td>Windows</td>\n",
       "      <td>SSD</td>\n",
       "      <td>512</td>\n",
       "      <td>15.6</td>\n",
       "      <td>No</td>\n",
       "      <td>Asus</td>\n",
       "      <td>No</td>\n",
       "    </tr>\n",
       "    <tr>\n",
       "      <th>3</th>\n",
       "      <td>47,990</td>\n",
       "      <td>8</td>\n",
       "      <td>4</td>\n",
       "      <td>AMD</td>\n",
       "      <td>Not Mentioned</td>\n",
       "      <td>Windows</td>\n",
       "      <td>SSD</td>\n",
       "      <td>1000</td>\n",
       "      <td>15.6</td>\n",
       "      <td>No</td>\n",
       "      <td>Asus</td>\n",
       "      <td>No</td>\n",
       "    </tr>\n",
       "    <tr>\n",
       "      <th>4</th>\n",
       "      <td>38,990</td>\n",
       "      <td>8</td>\n",
       "      <td>4</td>\n",
       "      <td>Intel</td>\n",
       "      <td>10</td>\n",
       "      <td>Windows</td>\n",
       "      <td>SSD</td>\n",
       "      <td>256</td>\n",
       "      <td>14.0</td>\n",
       "      <td>No</td>\n",
       "      <td>HP</td>\n",
       "      <td>No</td>\n",
       "    </tr>\n",
       "    <tr>\n",
       "      <th>...</th>\n",
       "      <td>...</td>\n",
       "      <td>...</td>\n",
       "      <td>...</td>\n",
       "      <td>...</td>\n",
       "      <td>...</td>\n",
       "      <td>...</td>\n",
       "      <td>...</td>\n",
       "      <td>...</td>\n",
       "      <td>...</td>\n",
       "      <td>...</td>\n",
       "      <td>...</td>\n",
       "      <td>...</td>\n",
       "    </tr>\n",
       "    <tr>\n",
       "      <th>1146</th>\n",
       "      <td>20,990</td>\n",
       "      <td>4</td>\n",
       "      <td>4</td>\n",
       "      <td>AMD</td>\n",
       "      <td>Not Mentioned</td>\n",
       "      <td>Windows</td>\n",
       "      <td>SSD</td>\n",
       "      <td>128</td>\n",
       "      <td>14.0</td>\n",
       "      <td>No</td>\n",
       "      <td>Lenovo</td>\n",
       "      <td>No</td>\n",
       "    </tr>\n",
       "    <tr>\n",
       "      <th>1147</th>\n",
       "      <td>97,990</td>\n",
       "      <td>8</td>\n",
       "      <td>4</td>\n",
       "      <td>Intel</td>\n",
       "      <td>9</td>\n",
       "      <td>Windows</td>\n",
       "      <td>Both</td>\n",
       "      <td>1000+256</td>\n",
       "      <td>15.6</td>\n",
       "      <td>No</td>\n",
       "      <td>Acer</td>\n",
       "      <td>Yes</td>\n",
       "    </tr>\n",
       "    <tr>\n",
       "      <th>1148</th>\n",
       "      <td>94,990</td>\n",
       "      <td>8</td>\n",
       "      <td>4</td>\n",
       "      <td>Intel</td>\n",
       "      <td>8</td>\n",
       "      <td>Windows</td>\n",
       "      <td>SSD</td>\n",
       "      <td>512</td>\n",
       "      <td>13.3</td>\n",
       "      <td>Yes</td>\n",
       "      <td>Lenovo</td>\n",
       "      <td>No</td>\n",
       "    </tr>\n",
       "    <tr>\n",
       "      <th>1149</th>\n",
       "      <td>99,990</td>\n",
       "      <td>16</td>\n",
       "      <td>4</td>\n",
       "      <td>Intel</td>\n",
       "      <td>10</td>\n",
       "      <td>Windows</td>\n",
       "      <td>SSD</td>\n",
       "      <td>1000</td>\n",
       "      <td>13.3</td>\n",
       "      <td>No</td>\n",
       "      <td>Asus</td>\n",
       "      <td>No</td>\n",
       "    </tr>\n",
       "    <tr>\n",
       "      <th>1150</th>\n",
       "      <td>2,29,990</td>\n",
       "      <td>16</td>\n",
       "      <td>3</td>\n",
       "      <td>Intel</td>\n",
       "      <td>7</td>\n",
       "      <td>Mac</td>\n",
       "      <td>SSD</td>\n",
       "      <td>512</td>\n",
       "      <td>12.0</td>\n",
       "      <td>No</td>\n",
       "      <td>Apple</td>\n",
       "      <td>Yes</td>\n",
       "    </tr>\n",
       "  </tbody>\n",
       "</table>\n",
       "<p>1151 rows × 12 columns</p>\n",
       "</div>"
      ],
      "text/plain": [
       "         Price  ram_in_gb  ddr_version processor_name       gen_type       OS  \\\n",
       "0       16,990          4            4          Intel             10  Windows   \n",
       "1       18,990          4            4          Intel             10  Windows   \n",
       "2       38,990          8            4          Intel             10  Windows   \n",
       "3       47,990          8            4            AMD  Not Mentioned  Windows   \n",
       "4       38,990          8            4          Intel             10  Windows   \n",
       "...        ...        ...          ...            ...            ...      ...   \n",
       "1146    20,990          4            4            AMD  Not Mentioned  Windows   \n",
       "1147    97,990          8            4          Intel              9  Windows   \n",
       "1148    94,990          8            4          Intel              8  Windows   \n",
       "1149    99,990         16            4          Intel             10  Windows   \n",
       "1150  2,29,990         16            3          Intel              7      Mac   \n",
       "\n",
       "     disk_drive storage_in_gb  size_in_inches touchscreen    company  \\\n",
       "0           SSD           512            11.6          No  Primebook   \n",
       "1           SSD           512            11.6          No  Primebook   \n",
       "2           SSD           512            15.6          No       Asus   \n",
       "3           SSD          1000            15.6          No       Asus   \n",
       "4           SSD           256            14.0          No         HP   \n",
       "...         ...           ...             ...         ...        ...   \n",
       "1146        SSD           128            14.0          No     Lenovo   \n",
       "1147       Both      1000+256            15.6          No       Acer   \n",
       "1148        SSD           512            13.3         Yes     Lenovo   \n",
       "1149        SSD          1000            13.3          No       Asus   \n",
       "1150        SSD           512            12.0          No      Apple   \n",
       "\n",
       "     graphic_card  \n",
       "0              No  \n",
       "1              No  \n",
       "2              No  \n",
       "3              No  \n",
       "4              No  \n",
       "...           ...  \n",
       "1146           No  \n",
       "1147          Yes  \n",
       "1148           No  \n",
       "1149           No  \n",
       "1150          Yes  \n",
       "\n",
       "[1151 rows x 12 columns]"
      ]
     },
     "execution_count": 48,
     "metadata": {},
     "output_type": "execute_result"
    }
   ],
   "source": [
    "df"
   ]
  },
  {
   "cell_type": "code",
   "execution_count": 49,
   "metadata": {},
   "outputs": [],
   "source": [
    "df['Price'] = df['Price'].str.replace(\",\",\"\").astype(int)"
   ]
  },
  {
   "cell_type": "markdown",
   "metadata": {},
   "source": [
    "### 1. Harga  Processor"
   ]
  },
  {
   "cell_type": "code",
   "execution_count": 50,
   "metadata": {},
   "outputs": [
    {
     "data": {
      "text/html": [
       "<div>\n",
       "<style scoped>\n",
       "    .dataframe tbody tr th:only-of-type {\n",
       "        vertical-align: middle;\n",
       "    }\n",
       "\n",
       "    .dataframe tbody tr th {\n",
       "        vertical-align: top;\n",
       "    }\n",
       "\n",
       "    .dataframe thead th {\n",
       "        text-align: right;\n",
       "    }\n",
       "</style>\n",
       "<table border=\"1\" class=\"dataframe\">\n",
       "  <thead>\n",
       "    <tr style=\"text-align: right;\">\n",
       "      <th></th>\n",
       "      <th>processor_name</th>\n",
       "      <th>Price</th>\n",
       "    </tr>\n",
       "  </thead>\n",
       "  <tbody>\n",
       "    <tr>\n",
       "      <th>0</th>\n",
       "      <td>Intel</td>\n",
       "      <td>65484999</td>\n",
       "    </tr>\n",
       "    <tr>\n",
       "      <th>1</th>\n",
       "      <td>AMD</td>\n",
       "      <td>20791899</td>\n",
       "    </tr>\n",
       "    <tr>\n",
       "      <th>2</th>\n",
       "      <td>Microsoft</td>\n",
       "      <td>96657</td>\n",
       "    </tr>\n",
       "  </tbody>\n",
       "</table>\n",
       "</div>"
      ],
      "text/plain": [
       "  processor_name     Price\n",
       "0          Intel  65484999\n",
       "1            AMD  20791899\n",
       "2      Microsoft     96657"
      ]
     },
     "execution_count": 50,
     "metadata": {},
     "output_type": "execute_result"
    }
   ],
   "source": [
    "ram = df.groupby(['processor_name'],as_index=False).sum().sort_values(by='Price',ascending=False)[[\"processor_name\",'Price']].reset_index(drop=True)\n",
    "ram"
   ]
  },
  {
   "cell_type": "code",
   "execution_count": 51,
   "metadata": {},
   "outputs": [
    {
     "data": {
      "image/png": "[encoded data removed]",
      "text/plain": [
       "<Figure size 432x288 with 1 Axes>"
      ]
     },
     "metadata": {
      "needs_background": "light"
     },
     "output_type": "display_data"
    }
   ],
   "source": [
    "plt.title('Daftar Jumlah Harga Processor')\n",
    "plt.ylabel('Harga Processor')\n",
    "plt.xlabel('Nama Processor')\n",
    "plt.bar(ram['processor_name'],ram['Price'])\n",
    "plt.show()"
   ]
  },
  {
   "cell_type": "markdown",
   "metadata": {},
   "source": [
    "### 2. Ram in Gb"
   ]
  },
  {
   "cell_type": "code",
   "execution_count": 52,
   "metadata": {},
   "outputs": [
    {
     "data": {
      "text/html": [
       "<div>\n",
       "<style scoped>\n",
       "    .dataframe tbody tr th:only-of-type {\n",
       "        vertical-align: middle;\n",
       "    }\n",
       "\n",
       "    .dataframe tbody tr th {\n",
       "        vertical-align: top;\n",
       "    }\n",
       "\n",
       "    .dataframe thead th {\n",
       "        text-align: right;\n",
       "    }\n",
       "</style>\n",
       "<table border=\"1\" class=\"dataframe\">\n",
       "  <thead>\n",
       "    <tr style=\"text-align: right;\">\n",
       "      <th></th>\n",
       "      <th>ram_in_gb</th>\n",
       "      <th>Price</th>\n",
       "    </tr>\n",
       "  </thead>\n",
       "  <tbody>\n",
       "    <tr>\n",
       "      <th>0</th>\n",
       "      <td>8</td>\n",
       "      <td>44880256</td>\n",
       "    </tr>\n",
       "    <tr>\n",
       "      <th>1</th>\n",
       "      <td>16</td>\n",
       "      <td>34254383</td>\n",
       "    </tr>\n",
       "    <tr>\n",
       "      <th>2</th>\n",
       "      <td>4</td>\n",
       "      <td>7677332</td>\n",
       "    </tr>\n",
       "    <tr>\n",
       "      <th>3</th>\n",
       "      <td>32</td>\n",
       "      <td>4845694</td>\n",
       "    </tr>\n",
       "    <tr>\n",
       "      <th>4</th>\n",
       "      <td>2</td>\n",
       "      <td>620960</td>\n",
       "    </tr>\n",
       "  </tbody>\n",
       "</table>\n",
       "</div>"
      ],
      "text/plain": [
       "   ram_in_gb     Price\n",
       "0          8  44880256\n",
       "1         16  34254383\n",
       "2          4   7677332\n",
       "3         32   4845694\n",
       "4          2    620960"
      ]
     },
     "execution_count": 52,
     "metadata": {},
     "output_type": "execute_result"
    }
   ],
   "source": [
    "ram = df.groupby(['ram_in_gb'],as_index=False).sum().sort_values(by='Price',ascending=False)[[\"ram_in_gb\",'Price']].reset_index(drop=True)\n",
    "ram"
   ]
  },
  {
   "cell_type": "code",
   "execution_count": 53,
   "metadata": {},
   "outputs": [
    {
     "data": {
      "image/png": "[encoded data removed]",
      "text/plain": [
       "<Figure size 864x576 with 1 Axes>"
      ]
     },
     "metadata": {},
     "output_type": "display_data"
    }
   ],
   "source": [
    "plt.figure(figsize=(12,8))\n",
    "colors = ('#8B4513','#FFF8DC','#93C572','#E67F0D','#D53032')\n",
    "plt.title('Harga Ram dalam GB')\n",
    "plt.pie(\n",
    "    ram['Price'],\n",
    "    labels=ram['ram_in_gb'],\n",
    "    autopct='%1.1f%%',\n",
    "    colors=colors,\n",
    "    shadow=True\n",
    ")\n",
    "plt.show()"
   ]
  },
  {
   "cell_type": "markdown",
   "metadata": {},
   "source": [
    "### 3. DDR Version"
   ]
  },
  {
   "cell_type": "code",
   "execution_count": 54,
   "metadata": {},
   "outputs": [
    {
     "data": {
      "text/html": [
       "<div>\n",
       "<style scoped>\n",
       "    .dataframe tbody tr th:only-of-type {\n",
       "        vertical-align: middle;\n",
       "    }\n",
       "\n",
       "    .dataframe tbody tr th {\n",
       "        vertical-align: top;\n",
       "    }\n",
       "\n",
       "    .dataframe thead th {\n",
       "        text-align: right;\n",
       "    }\n",
       "</style>\n",
       "<table border=\"1\" class=\"dataframe\">\n",
       "  <thead>\n",
       "    <tr style=\"text-align: right;\">\n",
       "      <th></th>\n",
       "      <th>ddr_version</th>\n",
       "      <th>Price</th>\n",
       "    </tr>\n",
       "  </thead>\n",
       "  <tbody>\n",
       "    <tr>\n",
       "      <th>0</th>\n",
       "      <td>4</td>\n",
       "      <td>70544014</td>\n",
       "    </tr>\n",
       "    <tr>\n",
       "      <th>1</th>\n",
       "      <td>5</td>\n",
       "      <td>17299458</td>\n",
       "    </tr>\n",
       "    <tr>\n",
       "      <th>2</th>\n",
       "      <td>3</td>\n",
       "      <td>4232673</td>\n",
       "    </tr>\n",
       "    <tr>\n",
       "      <th>3</th>\n",
       "      <td>8</td>\n",
       "      <td>202480</td>\n",
       "    </tr>\n",
       "  </tbody>\n",
       "</table>\n",
       "</div>"
      ],
      "text/plain": [
       "   ddr_version     Price\n",
       "0            4  70544014\n",
       "1            5  17299458\n",
       "2            3   4232673\n",
       "3            8    202480"
      ]
     },
     "execution_count": 54,
     "metadata": {},
     "output_type": "execute_result"
    }
   ],
   "source": [
    "ram = df.groupby(['ddr_version'],as_index=False).sum().sort_values(by='Price',ascending=False)[[\"ddr_version\",'Price']].reset_index(drop=True)\n",
    "ram"
   ]
  },
  {
   "cell_type": "code",
   "execution_count": 55,
   "metadata": {},
   "outputs": [
    {
     "data": {
      "image/png": "[encoded data removed]",
      "text/plain": [
       "<Figure size 864x576 with 1 Axes>"
      ]
     },
     "metadata": {},
     "output_type": "display_data"
    }
   ],
   "source": [
    "plt.figure(figsize=(12,8))\n",
    "colors = ('#8B4513','#FFF8DC','#93C572','#E67F0D','#D53032')\n",
    "plt.title('Harga Ram dalam GB Berdasarkan DDR-version ')\n",
    "plt.pie(\n",
    "    ram['Price'],\n",
    "    labels=ram['ddr_version'],\n",
    "    autopct='%1.1f%%',\n",
    "    colors=colors,\n",
    "    shadow=True\n",
    ")\n",
    "plt.show()"
   ]
  },
  {
   "cell_type": "markdown",
   "metadata": {},
   "source": [
    "### 4 Type generation of processor"
   ]
  },
  {
   "cell_type": "code",
   "execution_count": 57,
   "metadata": {},
   "outputs": [
    {
     "data": {
      "text/html": [
       "<div>\n",
       "<style scoped>\n",
       "    .dataframe tbody tr th:only-of-type {\n",
       "        vertical-align: middle;\n",
       "    }\n",
       "\n",
       "    .dataframe tbody tr th {\n",
       "        vertical-align: top;\n",
       "    }\n",
       "\n",
       "    .dataframe thead th {\n",
       "        text-align: right;\n",
       "    }\n",
       "</style>\n",
       "<table border=\"1\" class=\"dataframe\">\n",
       "  <thead>\n",
       "    <tr style=\"text-align: right;\">\n",
       "      <th></th>\n",
       "      <th>gen_type</th>\n",
       "      <th>Price</th>\n",
       "    </tr>\n",
       "  </thead>\n",
       "  <tbody>\n",
       "    <tr>\n",
       "      <th>0</th>\n",
       "      <td>10</td>\n",
       "      <td>54146640</td>\n",
       "    </tr>\n",
       "    <tr>\n",
       "      <th>2</th>\n",
       "      <td>8</td>\n",
       "      <td>5870581</td>\n",
       "    </tr>\n",
       "    <tr>\n",
       "      <th>3</th>\n",
       "      <td>9</td>\n",
       "      <td>2321221</td>\n",
       "    </tr>\n",
       "    <tr>\n",
       "      <th>4</th>\n",
       "      <td>7</td>\n",
       "      <td>1400854</td>\n",
       "    </tr>\n",
       "    <tr>\n",
       "      <th>5</th>\n",
       "      <td>5</td>\n",
       "      <td>202377</td>\n",
       "    </tr>\n",
       "    <tr>\n",
       "      <th>6</th>\n",
       "      <td>2</td>\n",
       "      <td>117900</td>\n",
       "    </tr>\n",
       "    <tr>\n",
       "      <th>7</th>\n",
       "      <td>3</td>\n",
       "      <td>46990</td>\n",
       "    </tr>\n",
       "  </tbody>\n",
       "</table>\n",
       "</div>"
      ],
      "text/plain": [
       "  gen_type     Price\n",
       "0       10  54146640\n",
       "2        8   5870581\n",
       "3        9   2321221\n",
       "4        7   1400854\n",
       "5        5    202377\n",
       "6        2    117900\n",
       "7        3     46990"
      ]
     },
     "execution_count": 57,
     "metadata": {},
     "output_type": "execute_result"
    }
   ],
   "source": [
    "ram = df.groupby(['gen_type'],as_index=False).sum().sort_values(by='Price',ascending=False)[[\"gen_type\",'Price']].reset_index(drop=True)\n",
    "ram.drop(index=[1],axis=0,inplace=True)\n",
    "ram"
   ]
  },
  {
   "cell_type": "code",
   "execution_count": 59,
   "metadata": {},
   "outputs": [
    {
     "data": {
      "image/png": "[encoded data removed]",
      "text/plain": [
       "<Figure size 432x288 with 1 Axes>"
      ]
     },
     "metadata": {
      "needs_background": "light"
     },
     "output_type": "display_data"
    }
   ],
   "source": [
    "plt.title('Daftar Jumlah Harga Processor Berdasarkan Generasi')\n",
    "plt.ylabel('Harga Processor')\n",
    "plt.xlabel('Generasi Processor')\n",
    "plt.bar(ram['gen_type'],ram['Price'])\n",
    "plt.show()"
   ]
  },
  {
   "cell_type": "markdown",
   "metadata": {},
   "source": [
    "### 5. Company laptops prices"
   ]
  },
  {
   "cell_type": "code",
   "execution_count": 60,
   "metadata": {},
   "outputs": [
    {
     "data": {
      "text/html": [
       "<div>\n",
       "<style scoped>\n",
       "    .dataframe tbody tr th:only-of-type {\n",
       "        vertical-align: middle;\n",
       "    }\n",
       "\n",
       "    .dataframe tbody tr th {\n",
       "        vertical-align: top;\n",
       "    }\n",
       "\n",
       "    .dataframe thead th {\n",
       "        text-align: right;\n",
       "    }\n",
       "</style>\n",
       "<table border=\"1\" class=\"dataframe\">\n",
       "  <thead>\n",
       "    <tr style=\"text-align: right;\">\n",
       "      <th></th>\n",
       "      <th>company</th>\n",
       "      <th>Price</th>\n",
       "    </tr>\n",
       "  </thead>\n",
       "  <tbody>\n",
       "    <tr>\n",
       "      <th>0</th>\n",
       "      <td>Asus</td>\n",
       "      <td>29649488</td>\n",
       "    </tr>\n",
       "    <tr>\n",
       "      <th>2</th>\n",
       "      <td>Lenovo</td>\n",
       "      <td>9731151</td>\n",
       "    </tr>\n",
       "    <tr>\n",
       "      <th>3</th>\n",
       "      <td>MSI</td>\n",
       "      <td>9611287</td>\n",
       "    </tr>\n",
       "    <tr>\n",
       "      <th>4</th>\n",
       "      <td>Dell</td>\n",
       "      <td>8770760</td>\n",
       "    </tr>\n",
       "    <tr>\n",
       "      <th>5</th>\n",
       "      <td>Apple</td>\n",
       "      <td>5630137</td>\n",
       "    </tr>\n",
       "    <tr>\n",
       "      <th>6</th>\n",
       "      <td>Acer</td>\n",
       "      <td>4765089</td>\n",
       "    </tr>\n",
       "    <tr>\n",
       "      <th>7</th>\n",
       "      <td>alienware</td>\n",
       "      <td>2037420</td>\n",
       "    </tr>\n",
       "    <tr>\n",
       "      <th>8</th>\n",
       "      <td>Spectre</td>\n",
       "      <td>1582987</td>\n",
       "    </tr>\n",
       "    <tr>\n",
       "      <th>9</th>\n",
       "      <td>Primebook</td>\n",
       "      <td>1152350</td>\n",
       "    </tr>\n",
       "    <tr>\n",
       "      <th>10</th>\n",
       "      <td>Surface</td>\n",
       "      <td>887378</td>\n",
       "    </tr>\n",
       "    <tr>\n",
       "      <th>11</th>\n",
       "      <td>Infinix</td>\n",
       "      <td>725790</td>\n",
       "    </tr>\n",
       "    <tr>\n",
       "      <th>12</th>\n",
       "      <td>Samsung</td>\n",
       "      <td>453930</td>\n",
       "    </tr>\n",
       "    <tr>\n",
       "      <th>13</th>\n",
       "      <td>Realmebook</td>\n",
       "      <td>227950</td>\n",
       "    </tr>\n",
       "    <tr>\n",
       "      <th>14</th>\n",
       "      <td>Gigabyte</td>\n",
       "      <td>215980</td>\n",
       "    </tr>\n",
       "    <tr>\n",
       "      <th>15</th>\n",
       "      <td>Avita</td>\n",
       "      <td>120960</td>\n",
       "    </tr>\n",
       "    <tr>\n",
       "      <th>16</th>\n",
       "      <td>Nexstgo</td>\n",
       "      <td>97990</td>\n",
       "    </tr>\n",
       "    <tr>\n",
       "      <th>17</th>\n",
       "      <td>MarQ</td>\n",
       "      <td>41990</td>\n",
       "    </tr>\n",
       "  </tbody>\n",
       "</table>\n",
       "</div>"
      ],
      "text/plain": [
       "       company     Price\n",
       "0         Asus  29649488\n",
       "2       Lenovo   9731151\n",
       "3          MSI   9611287\n",
       "4         Dell   8770760\n",
       "5        Apple   5630137\n",
       "6         Acer   4765089\n",
       "7    alienware   2037420\n",
       "8      Spectre   1582987\n",
       "9    Primebook   1152350\n",
       "10     Surface    887378\n",
       "11     Infinix    725790\n",
       "12     Samsung    453930\n",
       "13  Realmebook    227950\n",
       "14    Gigabyte    215980\n",
       "15       Avita    120960\n",
       "16     Nexstgo     97990\n",
       "17        MarQ     41990"
      ]
     },
     "execution_count": 60,
     "metadata": {},
     "output_type": "execute_result"
    }
   ],
   "source": [
    "ram = df.groupby(['company'],as_index=False).sum().sort_values(by='Price',ascending=False)[[\"company\",'Price']].reset_index(drop=True)\n",
    "ram.drop(index=[1],axis=0,inplace=True)\n",
    "ram"
   ]
  },
  {
   "cell_type": "code",
   "execution_count": 66,
   "metadata": {},
   "outputs": [
    {
     "data": {
      "image/png": "[encoded data removed]",
      "text/plain": [
       "<Figure size 1296x576 with 1 Axes>"
      ]
     },
     "metadata": {
      "needs_background": "light"
     },
     "output_type": "display_data"
    }
   ],
   "source": [
    "plt.figure(figsize=(18,8))\n",
    "plt.title('Daftar Harga Company Laptop')\n",
    "plt.ylabel('Daftar Harga')\n",
    "plt.xlabel('List Company')\n",
    "plt.bar(ram['company'],ram['Price'])\n",
    "plt.show()"
   ]
  }
 ],
 "metadata": {
  "kernelspec": {
   "display_name": "Python 3.9.9 ('env': venv)",
   "language": "python",
   "name": "python3"
  },
  "language_info": {
   "codemirror_mode": {
    "name": "ipython",
    "version": 3
   },
   "file_extension": ".py",
   "mimetype": "text/x-python",
   "name": "python",
   "nbconvert_exporter": "python",
   "pygments_lexer": "ipython3",
   "version": "3.9.9"
  },
  "orig_nbformat": 4,
  "vscode": {
   "interpreter": {
    "hash": "1d9910303eecfe3b6cdcbdaa4d482c9110c4a3a39e4f394d9897f708ec021033"
   }
  }
 },
 "nbformat": 4,
 "nbformat_minor": 2
}
